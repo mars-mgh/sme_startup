{
 "cells": [
  {
   "cell_type": "markdown",
   "metadata": {},
   "source": [
    "# SME or Startup?"
   ]
  },
  {
   "cell_type": "markdown",
   "metadata": {},
   "source": [
    "This project aimes to recognize the topics Small Business Owners and Startup owners discuss about on Reddit, their similarityies, and their differences. The results are targeted towards a Financial Institution, that while creating a new product for companies at small size, wants to know in what these two gruops differ for interest, and wether it might make sense to target them together or separate in which type of initiatve.\n",
    "\n",
    "**Source**\n",
    "\n",
    "Data are pulled from stratups and smallbusiness subreddits.\n",
    "\n",
    "**Notebook Index**\n",
    "\n",
    "- `01_data_collection`\n",
    "- `02_eda_viz`\n",
    "- `03_model_baseline`\n",
    "- `04_model_outcome`"
   ]
  },
  {
   "cell_type": "code",
   "execution_count": 3,
   "metadata": {
    "ExecuteTime": {
     "end_time": "2021-01-26T21:15:24.359365Z",
     "start_time": "2021-01-26T21:15:23.842015Z"
    }
   },
   "outputs": [],
   "source": [
    "import pandas as pd\n",
    "import numpy as np\n",
    "import matplotlib.pyplot as plt\n",
    "\n",
    "import requests\n",
    "import datetime as dt\n",
    "import time"
   ]
  },
  {
   "cell_type": "code",
   "execution_count": 8,
   "metadata": {
    "ExecuteTime": {
     "end_time": "2021-01-26T21:16:08.644424Z",
     "start_time": "2021-01-26T21:16:08.642177Z"
    }
   },
   "outputs": [],
   "source": [
    "url_stup = \"https://api.pushshift.io/reddit/search/submission?subreddit=startups\"\n",
    "url_smb = \"https://api.pushshift.io/reddit/search/submission?subreddit=smallbusiness\""
   ]
  },
  {
   "cell_type": "code",
   "execution_count": 9,
   "metadata": {
    "ExecuteTime": {
     "end_time": "2021-01-26T21:16:10.501616Z",
     "start_time": "2021-01-26T21:16:09.181154Z"
    }
   },
   "outputs": [],
   "source": [
    "res_stup = requests.get(url_stup)\n",
    "res_smb = requests.get(url_smb)"
   ]
  },
  {
   "cell_type": "code",
   "execution_count": 10,
   "metadata": {
    "ExecuteTime": {
     "end_time": "2021-01-26T21:16:28.422055Z",
     "start_time": "2021-01-26T21:16:28.418713Z"
    }
   },
   "outputs": [
    {
     "data": {
      "text/plain": [
       "(200, 200)"
      ]
     },
     "execution_count": 10,
     "metadata": {},
     "output_type": "execute_result"
    }
   ],
   "source": [
    "res_stup.status_code, res_smb.status_code"
   ]
  },
  {
   "cell_type": "code",
   "execution_count": 28,
   "metadata": {
    "ExecuteTime": {
     "end_time": "2021-01-26T21:27:17.558111Z",
     "start_time": "2021-01-26T21:27:17.555875Z"
    }
   },
   "outputs": [],
   "source": [
    "subfields = ['title', 'selftext', 'subreddit', 'created_utc', 'author', 'num_comments', 'score', 'is_self']"
   ]
  },
  {
   "cell_type": "code",
   "execution_count": 54,
   "metadata": {
    "ExecuteTime": {
     "end_time": "2021-01-26T21:55:26.395162Z",
     "start_time": "2021-01-26T21:55:26.390528Z"
    }
   },
   "outputs": [],
   "source": [
    "def import_posts(subreddit, kind = 'submission', days=10, number=100):\n",
    "\n",
    "    BASE_URL = f\"https://api.pushshift.io/reddit/search/{kind}\" # also known as the \"API endpoint\" \n",
    "\n",
    "    # construct full url\n",
    "    stem = f\"{BASE_URL}?subreddit={subreddit}&size=500\" # always pulling max of 500\n",
    "\n",
    "    posts = []\n",
    "\n",
    "    for i in range(1, number + 1):\n",
    "        URL = f\"{stem}&after={days * i}d\"\n",
    "        print(\"Querying from: \" + URL)\n",
    "        res = requests.get(URL)\n",
    "        assert res.status_code == 200\n",
    "        json = res.json()['data']\n",
    "        df = pd.DataFrame(json)\n",
    "        posts.append(df)\n",
    "        time.sleep(2)\n",
    "    \n",
    "    corpus = pd.concat(posts, sort= False)\n",
    "    return corpus"
   ]
  },
  {
   "cell_type": "code",
   "execution_count": 55,
   "metadata": {
    "ExecuteTime": {
     "end_time": "2021-01-26T22:00:27.075986Z",
     "start_time": "2021-01-26T21:55:27.471544Z"
    },
    "scrolled": true
   },
   "outputs": [
    {
     "name": "stdout",
     "output_type": "stream",
     "text": [
      "Querying from: https://api.pushshift.io/reddit/search/submission?subreddit=startups&size=500&after=10d\n",
      "Querying from: https://api.pushshift.io/reddit/search/submission?subreddit=startups&size=500&after=20d\n",
      "Querying from: https://api.pushshift.io/reddit/search/submission?subreddit=startups&size=500&after=30d\n",
      "Querying from: https://api.pushshift.io/reddit/search/submission?subreddit=startups&size=500&after=40d\n",
      "Querying from: https://api.pushshift.io/reddit/search/submission?subreddit=startups&size=500&after=50d\n",
      "Querying from: https://api.pushshift.io/reddit/search/submission?subreddit=startups&size=500&after=60d\n",
      "Querying from: https://api.pushshift.io/reddit/search/submission?subreddit=startups&size=500&after=70d\n",
      "Querying from: https://api.pushshift.io/reddit/search/submission?subreddit=startups&size=500&after=80d\n",
      "Querying from: https://api.pushshift.io/reddit/search/submission?subreddit=startups&size=500&after=90d\n",
      "Querying from: https://api.pushshift.io/reddit/search/submission?subreddit=startups&size=500&after=100d\n",
      "Querying from: https://api.pushshift.io/reddit/search/submission?subreddit=startups&size=500&after=110d\n",
      "Querying from: https://api.pushshift.io/reddit/search/submission?subreddit=startups&size=500&after=120d\n",
      "Querying from: https://api.pushshift.io/reddit/search/submission?subreddit=startups&size=500&after=130d\n",
      "Querying from: https://api.pushshift.io/reddit/search/submission?subreddit=startups&size=500&after=140d\n",
      "Querying from: https://api.pushshift.io/reddit/search/submission?subreddit=startups&size=500&after=150d\n",
      "Querying from: https://api.pushshift.io/reddit/search/submission?subreddit=startups&size=500&after=160d\n",
      "Querying from: https://api.pushshift.io/reddit/search/submission?subreddit=startups&size=500&after=170d\n",
      "Querying from: https://api.pushshift.io/reddit/search/submission?subreddit=startups&size=500&after=180d\n",
      "Querying from: https://api.pushshift.io/reddit/search/submission?subreddit=startups&size=500&after=190d\n",
      "Querying from: https://api.pushshift.io/reddit/search/submission?subreddit=startups&size=500&after=200d\n",
      "Querying from: https://api.pushshift.io/reddit/search/submission?subreddit=startups&size=500&after=210d\n",
      "Querying from: https://api.pushshift.io/reddit/search/submission?subreddit=startups&size=500&after=220d\n",
      "Querying from: https://api.pushshift.io/reddit/search/submission?subreddit=startups&size=500&after=230d\n",
      "Querying from: https://api.pushshift.io/reddit/search/submission?subreddit=startups&size=500&after=240d\n",
      "Querying from: https://api.pushshift.io/reddit/search/submission?subreddit=startups&size=500&after=250d\n",
      "Querying from: https://api.pushshift.io/reddit/search/submission?subreddit=startups&size=500&after=260d\n",
      "Querying from: https://api.pushshift.io/reddit/search/submission?subreddit=startups&size=500&after=270d\n",
      "Querying from: https://api.pushshift.io/reddit/search/submission?subreddit=startups&size=500&after=280d\n",
      "Querying from: https://api.pushshift.io/reddit/search/submission?subreddit=startups&size=500&after=290d\n",
      "Querying from: https://api.pushshift.io/reddit/search/submission?subreddit=startups&size=500&after=300d\n",
      "Querying from: https://api.pushshift.io/reddit/search/submission?subreddit=startups&size=500&after=310d\n",
      "Querying from: https://api.pushshift.io/reddit/search/submission?subreddit=startups&size=500&after=320d\n",
      "Querying from: https://api.pushshift.io/reddit/search/submission?subreddit=startups&size=500&after=330d\n",
      "Querying from: https://api.pushshift.io/reddit/search/submission?subreddit=startups&size=500&after=340d\n",
      "Querying from: https://api.pushshift.io/reddit/search/submission?subreddit=startups&size=500&after=350d\n",
      "Querying from: https://api.pushshift.io/reddit/search/submission?subreddit=startups&size=500&after=360d\n",
      "Querying from: https://api.pushshift.io/reddit/search/submission?subreddit=startups&size=500&after=370d\n",
      "Querying from: https://api.pushshift.io/reddit/search/submission?subreddit=startups&size=500&after=380d\n",
      "Querying from: https://api.pushshift.io/reddit/search/submission?subreddit=startups&size=500&after=390d\n",
      "Querying from: https://api.pushshift.io/reddit/search/submission?subreddit=startups&size=500&after=400d\n",
      "Querying from: https://api.pushshift.io/reddit/search/submission?subreddit=startups&size=500&after=410d\n",
      "Querying from: https://api.pushshift.io/reddit/search/submission?subreddit=startups&size=500&after=420d\n",
      "Querying from: https://api.pushshift.io/reddit/search/submission?subreddit=startups&size=500&after=430d\n",
      "Querying from: https://api.pushshift.io/reddit/search/submission?subreddit=startups&size=500&after=440d\n",
      "Querying from: https://api.pushshift.io/reddit/search/submission?subreddit=startups&size=500&after=450d\n",
      "Querying from: https://api.pushshift.io/reddit/search/submission?subreddit=startups&size=500&after=460d\n",
      "Querying from: https://api.pushshift.io/reddit/search/submission?subreddit=startups&size=500&after=470d\n",
      "Querying from: https://api.pushshift.io/reddit/search/submission?subreddit=startups&size=500&after=480d\n",
      "Querying from: https://api.pushshift.io/reddit/search/submission?subreddit=startups&size=500&after=490d\n",
      "Querying from: https://api.pushshift.io/reddit/search/submission?subreddit=startups&size=500&after=500d\n",
      "Querying from: https://api.pushshift.io/reddit/search/submission?subreddit=startups&size=500&after=510d\n",
      "Querying from: https://api.pushshift.io/reddit/search/submission?subreddit=startups&size=500&after=520d\n",
      "Querying from: https://api.pushshift.io/reddit/search/submission?subreddit=startups&size=500&after=530d\n",
      "Querying from: https://api.pushshift.io/reddit/search/submission?subreddit=startups&size=500&after=540d\n",
      "Querying from: https://api.pushshift.io/reddit/search/submission?subreddit=startups&size=500&after=550d\n",
      "Querying from: https://api.pushshift.io/reddit/search/submission?subreddit=startups&size=500&after=560d\n",
      "Querying from: https://api.pushshift.io/reddit/search/submission?subreddit=startups&size=500&after=570d\n",
      "Querying from: https://api.pushshift.io/reddit/search/submission?subreddit=startups&size=500&after=580d\n",
      "Querying from: https://api.pushshift.io/reddit/search/submission?subreddit=startups&size=500&after=590d\n",
      "Querying from: https://api.pushshift.io/reddit/search/submission?subreddit=startups&size=500&after=600d\n",
      "Querying from: https://api.pushshift.io/reddit/search/submission?subreddit=startups&size=500&after=610d\n",
      "Querying from: https://api.pushshift.io/reddit/search/submission?subreddit=startups&size=500&after=620d\n",
      "Querying from: https://api.pushshift.io/reddit/search/submission?subreddit=startups&size=500&after=630d\n",
      "Querying from: https://api.pushshift.io/reddit/search/submission?subreddit=startups&size=500&after=640d\n",
      "Querying from: https://api.pushshift.io/reddit/search/submission?subreddit=startups&size=500&after=650d\n",
      "Querying from: https://api.pushshift.io/reddit/search/submission?subreddit=startups&size=500&after=660d\n",
      "Querying from: https://api.pushshift.io/reddit/search/submission?subreddit=startups&size=500&after=670d\n",
      "Querying from: https://api.pushshift.io/reddit/search/submission?subreddit=startups&size=500&after=680d\n",
      "Querying from: https://api.pushshift.io/reddit/search/submission?subreddit=startups&size=500&after=690d\n",
      "Querying from: https://api.pushshift.io/reddit/search/submission?subreddit=startups&size=500&after=700d\n",
      "Querying from: https://api.pushshift.io/reddit/search/submission?subreddit=startups&size=500&after=710d\n",
      "Querying from: https://api.pushshift.io/reddit/search/submission?subreddit=startups&size=500&after=720d\n",
      "Querying from: https://api.pushshift.io/reddit/search/submission?subreddit=startups&size=500&after=730d\n",
      "Querying from: https://api.pushshift.io/reddit/search/submission?subreddit=startups&size=500&after=740d\n",
      "Querying from: https://api.pushshift.io/reddit/search/submission?subreddit=startups&size=500&after=750d\n",
      "Querying from: https://api.pushshift.io/reddit/search/submission?subreddit=startups&size=500&after=760d\n",
      "Querying from: https://api.pushshift.io/reddit/search/submission?subreddit=startups&size=500&after=770d\n",
      "Querying from: https://api.pushshift.io/reddit/search/submission?subreddit=startups&size=500&after=780d\n",
      "Querying from: https://api.pushshift.io/reddit/search/submission?subreddit=startups&size=500&after=790d\n"
     ]
    },
    {
     "name": "stdout",
     "output_type": "stream",
     "text": [
      "Querying from: https://api.pushshift.io/reddit/search/submission?subreddit=startups&size=500&after=800d\n",
      "Querying from: https://api.pushshift.io/reddit/search/submission?subreddit=startups&size=500&after=810d\n",
      "Querying from: https://api.pushshift.io/reddit/search/submission?subreddit=startups&size=500&after=820d\n",
      "Querying from: https://api.pushshift.io/reddit/search/submission?subreddit=startups&size=500&after=830d\n",
      "Querying from: https://api.pushshift.io/reddit/search/submission?subreddit=startups&size=500&after=840d\n",
      "Querying from: https://api.pushshift.io/reddit/search/submission?subreddit=startups&size=500&after=850d\n",
      "Querying from: https://api.pushshift.io/reddit/search/submission?subreddit=startups&size=500&after=860d\n",
      "Querying from: https://api.pushshift.io/reddit/search/submission?subreddit=startups&size=500&after=870d\n",
      "Querying from: https://api.pushshift.io/reddit/search/submission?subreddit=startups&size=500&after=880d\n",
      "Querying from: https://api.pushshift.io/reddit/search/submission?subreddit=startups&size=500&after=890d\n",
      "Querying from: https://api.pushshift.io/reddit/search/submission?subreddit=startups&size=500&after=900d\n",
      "Querying from: https://api.pushshift.io/reddit/search/submission?subreddit=startups&size=500&after=910d\n",
      "Querying from: https://api.pushshift.io/reddit/search/submission?subreddit=startups&size=500&after=920d\n",
      "Querying from: https://api.pushshift.io/reddit/search/submission?subreddit=startups&size=500&after=930d\n",
      "Querying from: https://api.pushshift.io/reddit/search/submission?subreddit=startups&size=500&after=940d\n",
      "Querying from: https://api.pushshift.io/reddit/search/submission?subreddit=startups&size=500&after=950d\n",
      "Querying from: https://api.pushshift.io/reddit/search/submission?subreddit=startups&size=500&after=960d\n",
      "Querying from: https://api.pushshift.io/reddit/search/submission?subreddit=startups&size=500&after=970d\n",
      "Querying from: https://api.pushshift.io/reddit/search/submission?subreddit=startups&size=500&after=980d\n",
      "Querying from: https://api.pushshift.io/reddit/search/submission?subreddit=startups&size=500&after=990d\n",
      "Querying from: https://api.pushshift.io/reddit/search/submission?subreddit=startups&size=500&after=1000d\n"
     ]
    }
   ],
   "source": [
    "startup_df = import_posts(\"startups\")"
   ]
  },
  {
   "cell_type": "code",
   "execution_count": 58,
   "metadata": {
    "ExecuteTime": {
     "end_time": "2021-01-26T22:06:42.496149Z",
     "start_time": "2021-01-26T22:01:39.402612Z"
    }
   },
   "outputs": [
    {
     "name": "stdout",
     "output_type": "stream",
     "text": [
      "Querying from: https://api.pushshift.io/reddit/search/submission?subreddit=smallbusiness&size=500&after=10d\n",
      "Querying from: https://api.pushshift.io/reddit/search/submission?subreddit=smallbusiness&size=500&after=20d\n",
      "Querying from: https://api.pushshift.io/reddit/search/submission?subreddit=smallbusiness&size=500&after=30d\n",
      "Querying from: https://api.pushshift.io/reddit/search/submission?subreddit=smallbusiness&size=500&after=40d\n",
      "Querying from: https://api.pushshift.io/reddit/search/submission?subreddit=smallbusiness&size=500&after=50d\n",
      "Querying from: https://api.pushshift.io/reddit/search/submission?subreddit=smallbusiness&size=500&after=60d\n",
      "Querying from: https://api.pushshift.io/reddit/search/submission?subreddit=smallbusiness&size=500&after=70d\n",
      "Querying from: https://api.pushshift.io/reddit/search/submission?subreddit=smallbusiness&size=500&after=80d\n",
      "Querying from: https://api.pushshift.io/reddit/search/submission?subreddit=smallbusiness&size=500&after=90d\n",
      "Querying from: https://api.pushshift.io/reddit/search/submission?subreddit=smallbusiness&size=500&after=100d\n",
      "Querying from: https://api.pushshift.io/reddit/search/submission?subreddit=smallbusiness&size=500&after=110d\n",
      "Querying from: https://api.pushshift.io/reddit/search/submission?subreddit=smallbusiness&size=500&after=120d\n",
      "Querying from: https://api.pushshift.io/reddit/search/submission?subreddit=smallbusiness&size=500&after=130d\n",
      "Querying from: https://api.pushshift.io/reddit/search/submission?subreddit=smallbusiness&size=500&after=140d\n",
      "Querying from: https://api.pushshift.io/reddit/search/submission?subreddit=smallbusiness&size=500&after=150d\n",
      "Querying from: https://api.pushshift.io/reddit/search/submission?subreddit=smallbusiness&size=500&after=160d\n",
      "Querying from: https://api.pushshift.io/reddit/search/submission?subreddit=smallbusiness&size=500&after=170d\n",
      "Querying from: https://api.pushshift.io/reddit/search/submission?subreddit=smallbusiness&size=500&after=180d\n",
      "Querying from: https://api.pushshift.io/reddit/search/submission?subreddit=smallbusiness&size=500&after=190d\n",
      "Querying from: https://api.pushshift.io/reddit/search/submission?subreddit=smallbusiness&size=500&after=200d\n",
      "Querying from: https://api.pushshift.io/reddit/search/submission?subreddit=smallbusiness&size=500&after=210d\n",
      "Querying from: https://api.pushshift.io/reddit/search/submission?subreddit=smallbusiness&size=500&after=220d\n",
      "Querying from: https://api.pushshift.io/reddit/search/submission?subreddit=smallbusiness&size=500&after=230d\n",
      "Querying from: https://api.pushshift.io/reddit/search/submission?subreddit=smallbusiness&size=500&after=240d\n",
      "Querying from: https://api.pushshift.io/reddit/search/submission?subreddit=smallbusiness&size=500&after=250d\n",
      "Querying from: https://api.pushshift.io/reddit/search/submission?subreddit=smallbusiness&size=500&after=260d\n",
      "Querying from: https://api.pushshift.io/reddit/search/submission?subreddit=smallbusiness&size=500&after=270d\n",
      "Querying from: https://api.pushshift.io/reddit/search/submission?subreddit=smallbusiness&size=500&after=280d\n",
      "Querying from: https://api.pushshift.io/reddit/search/submission?subreddit=smallbusiness&size=500&after=290d\n",
      "Querying from: https://api.pushshift.io/reddit/search/submission?subreddit=smallbusiness&size=500&after=300d\n",
      "Querying from: https://api.pushshift.io/reddit/search/submission?subreddit=smallbusiness&size=500&after=310d\n",
      "Querying from: https://api.pushshift.io/reddit/search/submission?subreddit=smallbusiness&size=500&after=320d\n",
      "Querying from: https://api.pushshift.io/reddit/search/submission?subreddit=smallbusiness&size=500&after=330d\n",
      "Querying from: https://api.pushshift.io/reddit/search/submission?subreddit=smallbusiness&size=500&after=340d\n",
      "Querying from: https://api.pushshift.io/reddit/search/submission?subreddit=smallbusiness&size=500&after=350d\n",
      "Querying from: https://api.pushshift.io/reddit/search/submission?subreddit=smallbusiness&size=500&after=360d\n",
      "Querying from: https://api.pushshift.io/reddit/search/submission?subreddit=smallbusiness&size=500&after=370d\n",
      "Querying from: https://api.pushshift.io/reddit/search/submission?subreddit=smallbusiness&size=500&after=380d\n",
      "Querying from: https://api.pushshift.io/reddit/search/submission?subreddit=smallbusiness&size=500&after=390d\n",
      "Querying from: https://api.pushshift.io/reddit/search/submission?subreddit=smallbusiness&size=500&after=400d\n",
      "Querying from: https://api.pushshift.io/reddit/search/submission?subreddit=smallbusiness&size=500&after=410d\n",
      "Querying from: https://api.pushshift.io/reddit/search/submission?subreddit=smallbusiness&size=500&after=420d\n",
      "Querying from: https://api.pushshift.io/reddit/search/submission?subreddit=smallbusiness&size=500&after=430d\n",
      "Querying from: https://api.pushshift.io/reddit/search/submission?subreddit=smallbusiness&size=500&after=440d\n",
      "Querying from: https://api.pushshift.io/reddit/search/submission?subreddit=smallbusiness&size=500&after=450d\n",
      "Querying from: https://api.pushshift.io/reddit/search/submission?subreddit=smallbusiness&size=500&after=460d\n",
      "Querying from: https://api.pushshift.io/reddit/search/submission?subreddit=smallbusiness&size=500&after=470d\n",
      "Querying from: https://api.pushshift.io/reddit/search/submission?subreddit=smallbusiness&size=500&after=480d\n",
      "Querying from: https://api.pushshift.io/reddit/search/submission?subreddit=smallbusiness&size=500&after=490d\n",
      "Querying from: https://api.pushshift.io/reddit/search/submission?subreddit=smallbusiness&size=500&after=500d\n",
      "Querying from: https://api.pushshift.io/reddit/search/submission?subreddit=smallbusiness&size=500&after=510d\n",
      "Querying from: https://api.pushshift.io/reddit/search/submission?subreddit=smallbusiness&size=500&after=520d\n",
      "Querying from: https://api.pushshift.io/reddit/search/submission?subreddit=smallbusiness&size=500&after=530d\n",
      "Querying from: https://api.pushshift.io/reddit/search/submission?subreddit=smallbusiness&size=500&after=540d\n",
      "Querying from: https://api.pushshift.io/reddit/search/submission?subreddit=smallbusiness&size=500&after=550d\n",
      "Querying from: https://api.pushshift.io/reddit/search/submission?subreddit=smallbusiness&size=500&after=560d\n",
      "Querying from: https://api.pushshift.io/reddit/search/submission?subreddit=smallbusiness&size=500&after=570d\n",
      "Querying from: https://api.pushshift.io/reddit/search/submission?subreddit=smallbusiness&size=500&after=580d\n",
      "Querying from: https://api.pushshift.io/reddit/search/submission?subreddit=smallbusiness&size=500&after=590d\n",
      "Querying from: https://api.pushshift.io/reddit/search/submission?subreddit=smallbusiness&size=500&after=600d\n",
      "Querying from: https://api.pushshift.io/reddit/search/submission?subreddit=smallbusiness&size=500&after=610d\n",
      "Querying from: https://api.pushshift.io/reddit/search/submission?subreddit=smallbusiness&size=500&after=620d\n",
      "Querying from: https://api.pushshift.io/reddit/search/submission?subreddit=smallbusiness&size=500&after=630d\n",
      "Querying from: https://api.pushshift.io/reddit/search/submission?subreddit=smallbusiness&size=500&after=640d\n",
      "Querying from: https://api.pushshift.io/reddit/search/submission?subreddit=smallbusiness&size=500&after=650d\n",
      "Querying from: https://api.pushshift.io/reddit/search/submission?subreddit=smallbusiness&size=500&after=660d\n",
      "Querying from: https://api.pushshift.io/reddit/search/submission?subreddit=smallbusiness&size=500&after=670d\n",
      "Querying from: https://api.pushshift.io/reddit/search/submission?subreddit=smallbusiness&size=500&after=680d\n",
      "Querying from: https://api.pushshift.io/reddit/search/submission?subreddit=smallbusiness&size=500&after=690d\n",
      "Querying from: https://api.pushshift.io/reddit/search/submission?subreddit=smallbusiness&size=500&after=700d\n",
      "Querying from: https://api.pushshift.io/reddit/search/submission?subreddit=smallbusiness&size=500&after=710d\n",
      "Querying from: https://api.pushshift.io/reddit/search/submission?subreddit=smallbusiness&size=500&after=720d\n",
      "Querying from: https://api.pushshift.io/reddit/search/submission?subreddit=smallbusiness&size=500&after=730d\n",
      "Querying from: https://api.pushshift.io/reddit/search/submission?subreddit=smallbusiness&size=500&after=740d\n",
      "Querying from: https://api.pushshift.io/reddit/search/submission?subreddit=smallbusiness&size=500&after=750d\n",
      "Querying from: https://api.pushshift.io/reddit/search/submission?subreddit=smallbusiness&size=500&after=760d\n"
     ]
    },
    {
     "name": "stdout",
     "output_type": "stream",
     "text": [
      "Querying from: https://api.pushshift.io/reddit/search/submission?subreddit=smallbusiness&size=500&after=770d\n",
      "Querying from: https://api.pushshift.io/reddit/search/submission?subreddit=smallbusiness&size=500&after=780d\n",
      "Querying from: https://api.pushshift.io/reddit/search/submission?subreddit=smallbusiness&size=500&after=790d\n",
      "Querying from: https://api.pushshift.io/reddit/search/submission?subreddit=smallbusiness&size=500&after=800d\n",
      "Querying from: https://api.pushshift.io/reddit/search/submission?subreddit=smallbusiness&size=500&after=810d\n",
      "Querying from: https://api.pushshift.io/reddit/search/submission?subreddit=smallbusiness&size=500&after=820d\n",
      "Querying from: https://api.pushshift.io/reddit/search/submission?subreddit=smallbusiness&size=500&after=830d\n",
      "Querying from: https://api.pushshift.io/reddit/search/submission?subreddit=smallbusiness&size=500&after=840d\n",
      "Querying from: https://api.pushshift.io/reddit/search/submission?subreddit=smallbusiness&size=500&after=850d\n",
      "Querying from: https://api.pushshift.io/reddit/search/submission?subreddit=smallbusiness&size=500&after=860d\n",
      "Querying from: https://api.pushshift.io/reddit/search/submission?subreddit=smallbusiness&size=500&after=870d\n",
      "Querying from: https://api.pushshift.io/reddit/search/submission?subreddit=smallbusiness&size=500&after=880d\n",
      "Querying from: https://api.pushshift.io/reddit/search/submission?subreddit=smallbusiness&size=500&after=890d\n",
      "Querying from: https://api.pushshift.io/reddit/search/submission?subreddit=smallbusiness&size=500&after=900d\n",
      "Querying from: https://api.pushshift.io/reddit/search/submission?subreddit=smallbusiness&size=500&after=910d\n",
      "Querying from: https://api.pushshift.io/reddit/search/submission?subreddit=smallbusiness&size=500&after=920d\n",
      "Querying from: https://api.pushshift.io/reddit/search/submission?subreddit=smallbusiness&size=500&after=930d\n",
      "Querying from: https://api.pushshift.io/reddit/search/submission?subreddit=smallbusiness&size=500&after=940d\n",
      "Querying from: https://api.pushshift.io/reddit/search/submission?subreddit=smallbusiness&size=500&after=950d\n",
      "Querying from: https://api.pushshift.io/reddit/search/submission?subreddit=smallbusiness&size=500&after=960d\n",
      "Querying from: https://api.pushshift.io/reddit/search/submission?subreddit=smallbusiness&size=500&after=970d\n",
      "Querying from: https://api.pushshift.io/reddit/search/submission?subreddit=smallbusiness&size=500&after=980d\n",
      "Querying from: https://api.pushshift.io/reddit/search/submission?subreddit=smallbusiness&size=500&after=990d\n",
      "Querying from: https://api.pushshift.io/reddit/search/submission?subreddit=smallbusiness&size=500&after=1000d\n"
     ]
    }
   ],
   "source": [
    "smbiz_df = import_posts(\"smallbusiness\")"
   ]
  },
  {
   "cell_type": "code",
   "execution_count": 56,
   "metadata": {
    "ExecuteTime": {
     "end_time": "2021-01-26T22:00:33.830876Z",
     "start_time": "2021-01-26T22:00:33.791749Z"
    }
   },
   "outputs": [],
   "source": [
    "startup_df = startup_df[subfields]"
   ]
  },
  {
   "cell_type": "code",
   "execution_count": 59,
   "metadata": {
    "ExecuteTime": {
     "end_time": "2021-01-26T22:07:13.003255Z",
     "start_time": "2021-01-26T22:07:12.968631Z"
    }
   },
   "outputs": [],
   "source": [
    "smbiz_df = smbiz_df[subfields]"
   ]
  },
  {
   "cell_type": "code",
   "execution_count": 63,
   "metadata": {
    "ExecuteTime": {
     "end_time": "2021-01-26T22:09:04.706681Z",
     "start_time": "2021-01-26T22:09:04.703765Z"
    }
   },
   "outputs": [
    {
     "data": {
      "text/plain": [
       "((9963, 8), (9974, 8))"
      ]
     },
     "execution_count": 63,
     "metadata": {},
     "output_type": "execute_result"
    }
   ],
   "source": [
    "startup_df.shape, smbiz_df.shape"
   ]
  },
  {
   "cell_type": "code",
   "execution_count": 61,
   "metadata": {
    "ExecuteTime": {
     "end_time": "2021-01-26T22:07:37.437443Z",
     "start_time": "2021-01-26T22:07:37.401472Z"
    }
   },
   "outputs": [],
   "source": [
    "startup_df.drop_duplicates(inplace = True)\n",
    "smbiz_df.drop_duplicates(inplace = True)"
   ]
  },
  {
   "cell_type": "code",
   "execution_count": 64,
   "metadata": {
    "ExecuteTime": {
     "end_time": "2021-01-26T22:11:55.493097Z",
     "start_time": "2021-01-26T22:11:55.482886Z"
    }
   },
   "outputs": [
    {
     "data": {
      "text/html": [
       "<div>\n",
       "<style scoped>\n",
       "    .dataframe tbody tr th:only-of-type {\n",
       "        vertical-align: middle;\n",
       "    }\n",
       "\n",
       "    .dataframe tbody tr th {\n",
       "        vertical-align: top;\n",
       "    }\n",
       "\n",
       "    .dataframe thead th {\n",
       "        text-align: right;\n",
       "    }\n",
       "</style>\n",
       "<table border=\"1\" class=\"dataframe\">\n",
       "  <thead>\n",
       "    <tr style=\"text-align: right;\">\n",
       "      <th></th>\n",
       "      <th>title</th>\n",
       "      <th>selftext</th>\n",
       "      <th>subreddit</th>\n",
       "      <th>created_utc</th>\n",
       "      <th>author</th>\n",
       "      <th>num_comments</th>\n",
       "      <th>score</th>\n",
       "      <th>is_self</th>\n",
       "    </tr>\n",
       "  </thead>\n",
       "  <tbody>\n",
       "    <tr>\n",
       "      <th>0</th>\n",
       "      <td>[Marketing] (Videogame) Tournaments manager pl...</td>\n",
       "      <td></td>\n",
       "      <td>startups</td>\n",
       "      <td>1610834250</td>\n",
       "      <td>RedFlea88</td>\n",
       "      <td>0</td>\n",
       "      <td>1</td>\n",
       "      <td>False</td>\n",
       "    </tr>\n",
       "    <tr>\n",
       "      <th>1</th>\n",
       "      <td>Selling my SaaS platform</td>\n",
       "      <td>[removed]</td>\n",
       "      <td>startups</td>\n",
       "      <td>1610834254</td>\n",
       "      <td>Pattay712</td>\n",
       "      <td>4</td>\n",
       "      <td>1</td>\n",
       "      <td>True</td>\n",
       "    </tr>\n",
       "    <tr>\n",
       "      <th>2</th>\n",
       "      <td>How to judge interest</td>\n",
       "      <td>NaN</td>\n",
       "      <td>startups</td>\n",
       "      <td>1610836870</td>\n",
       "      <td>[deleted]</td>\n",
       "      <td>2</td>\n",
       "      <td>1</td>\n",
       "      <td>True</td>\n",
       "    </tr>\n",
       "    <tr>\n",
       "      <th>3</th>\n",
       "      <td>How do I do this ?</td>\n",
       "      <td>[removed]</td>\n",
       "      <td>startups</td>\n",
       "      <td>1610836975</td>\n",
       "      <td>Idiotpullup</td>\n",
       "      <td>3</td>\n",
       "      <td>1</td>\n",
       "      <td>True</td>\n",
       "    </tr>\n",
       "    <tr>\n",
       "      <th>4</th>\n",
       "      <td>As a Non tech person am I being screwed?</td>\n",
       "      <td>My partner in the start up is the developer. \\...</td>\n",
       "      <td>startups</td>\n",
       "      <td>1610839734</td>\n",
       "      <td>mindbreeder</td>\n",
       "      <td>13</td>\n",
       "      <td>1</td>\n",
       "      <td>True</td>\n",
       "    </tr>\n",
       "  </tbody>\n",
       "</table>\n",
       "</div>"
      ],
      "text/plain": [
       "                                               title  \\\n",
       "0  [Marketing] (Videogame) Tournaments manager pl...   \n",
       "1                           Selling my SaaS platform   \n",
       "2                              How to judge interest   \n",
       "3                                 How do I do this ?   \n",
       "4           As a Non tech person am I being screwed?   \n",
       "\n",
       "                                            selftext subreddit  created_utc  \\\n",
       "0                                                     startups   1610834250   \n",
       "1                                          [removed]  startups   1610834254   \n",
       "2                                                NaN  startups   1610836870   \n",
       "3                                          [removed]  startups   1610836975   \n",
       "4  My partner in the start up is the developer. \\...  startups   1610839734   \n",
       "\n",
       "        author  num_comments  score  is_self  \n",
       "0    RedFlea88             0      1    False  \n",
       "1    Pattay712             4      1     True  \n",
       "2    [deleted]             2      1     True  \n",
       "3  Idiotpullup             3      1     True  \n",
       "4  mindbreeder            13      1     True  "
      ]
     },
     "execution_count": 64,
     "metadata": {},
     "output_type": "execute_result"
    }
   ],
   "source": [
    "startup_df.head()"
   ]
  },
  {
   "cell_type": "code",
   "execution_count": 65,
   "metadata": {
    "ExecuteTime": {
     "end_time": "2021-01-26T22:12:12.280270Z",
     "start_time": "2021-01-26T22:12:12.270149Z"
    }
   },
   "outputs": [
    {
     "data": {
      "text/html": [
       "<div>\n",
       "<style scoped>\n",
       "    .dataframe tbody tr th:only-of-type {\n",
       "        vertical-align: middle;\n",
       "    }\n",
       "\n",
       "    .dataframe tbody tr th {\n",
       "        vertical-align: top;\n",
       "    }\n",
       "\n",
       "    .dataframe thead th {\n",
       "        text-align: right;\n",
       "    }\n",
       "</style>\n",
       "<table border=\"1\" class=\"dataframe\">\n",
       "  <thead>\n",
       "    <tr style=\"text-align: right;\">\n",
       "      <th></th>\n",
       "      <th>title</th>\n",
       "      <th>selftext</th>\n",
       "      <th>subreddit</th>\n",
       "      <th>created_utc</th>\n",
       "      <th>author</th>\n",
       "      <th>num_comments</th>\n",
       "      <th>score</th>\n",
       "      <th>is_self</th>\n",
       "    </tr>\n",
       "  </thead>\n",
       "  <tbody>\n",
       "    <tr>\n",
       "      <th>0</th>\n",
       "      <td>Getting \"faux\" phone# for your business, to hi...</td>\n",
       "      <td>[removed]</td>\n",
       "      <td>smallbusiness</td>\n",
       "      <td>1610836144</td>\n",
       "      <td>neovngr</td>\n",
       "      <td>1</td>\n",
       "      <td>1</td>\n",
       "      <td>True</td>\n",
       "    </tr>\n",
       "    <tr>\n",
       "      <th>1</th>\n",
       "      <td>What being a CEO of your company has taught you?</td>\n",
       "      <td>I am going to launch my business this year. I ...</td>\n",
       "      <td>smallbusiness</td>\n",
       "      <td>1610838573</td>\n",
       "      <td>ChampionshipAct</td>\n",
       "      <td>17</td>\n",
       "      <td>1</td>\n",
       "      <td>True</td>\n",
       "    </tr>\n",
       "    <tr>\n",
       "      <th>2</th>\n",
       "      <td>Small Business advice</td>\n",
       "      <td>Hi. I recently opened up my own painting busin...</td>\n",
       "      <td>smallbusiness</td>\n",
       "      <td>1610839361</td>\n",
       "      <td>oliverbutcher</td>\n",
       "      <td>0</td>\n",
       "      <td>1</td>\n",
       "      <td>True</td>\n",
       "    </tr>\n",
       "    <tr>\n",
       "      <th>3</th>\n",
       "      <td>As a business in Glendale AZ, do I need to cha...</td>\n",
       "      <td>I'm sorry if this isn't the right place to ask...</td>\n",
       "      <td>smallbusiness</td>\n",
       "      <td>1610839408</td>\n",
       "      <td>NickyNice</td>\n",
       "      <td>4</td>\n",
       "      <td>1</td>\n",
       "      <td>True</td>\n",
       "    </tr>\n",
       "    <tr>\n",
       "      <th>4</th>\n",
       "      <td>shipping !</td>\n",
       "      <td>i’m needing help with shipping info. \\ni will ...</td>\n",
       "      <td>smallbusiness</td>\n",
       "      <td>1610844945</td>\n",
       "      <td>vickyendgame</td>\n",
       "      <td>10</td>\n",
       "      <td>1</td>\n",
       "      <td>True</td>\n",
       "    </tr>\n",
       "  </tbody>\n",
       "</table>\n",
       "</div>"
      ],
      "text/plain": [
       "                                               title  \\\n",
       "0  Getting \"faux\" phone# for your business, to hi...   \n",
       "1   What being a CEO of your company has taught you?   \n",
       "2                              Small Business advice   \n",
       "3  As a business in Glendale AZ, do I need to cha...   \n",
       "4                                         shipping !   \n",
       "\n",
       "                                            selftext      subreddit  \\\n",
       "0                                          [removed]  smallbusiness   \n",
       "1  I am going to launch my business this year. I ...  smallbusiness   \n",
       "2  Hi. I recently opened up my own painting busin...  smallbusiness   \n",
       "3  I'm sorry if this isn't the right place to ask...  smallbusiness   \n",
       "4  i’m needing help with shipping info. \\ni will ...  smallbusiness   \n",
       "\n",
       "   created_utc           author  num_comments  score  is_self  \n",
       "0   1610836144          neovngr             1      1     True  \n",
       "1   1610838573  ChampionshipAct            17      1     True  \n",
       "2   1610839361    oliverbutcher             0      1     True  \n",
       "3   1610839408        NickyNice             4      1     True  \n",
       "4   1610844945     vickyendgame            10      1     True  "
      ]
     },
     "execution_count": 65,
     "metadata": {},
     "output_type": "execute_result"
    }
   ],
   "source": [
    "smbiz_df.head()"
   ]
  },
  {
   "cell_type": "code",
   "execution_count": 67,
   "metadata": {
    "ExecuteTime": {
     "end_time": "2021-01-26T22:13:35.866234Z",
     "start_time": "2021-01-26T22:13:35.857784Z"
    }
   },
   "outputs": [],
   "source": [
    "df = pd.concat([smbiz_df, startup_df])"
   ]
  },
  {
   "cell_type": "code",
   "execution_count": 69,
   "metadata": {
    "ExecuteTime": {
     "end_time": "2021-01-26T22:13:54.986158Z",
     "start_time": "2021-01-26T22:13:54.982903Z"
    }
   },
   "outputs": [
    {
     "data": {
      "text/plain": [
       "(19937, 8)"
      ]
     },
     "execution_count": 69,
     "metadata": {},
     "output_type": "execute_result"
    }
   ],
   "source": [
    "df.shape"
   ]
  },
  {
   "cell_type": "code",
   "execution_count": 73,
   "metadata": {
    "ExecuteTime": {
     "end_time": "2021-01-26T22:14:27.349599Z",
     "start_time": "2021-01-26T22:14:27.339584Z"
    }
   },
   "outputs": [
    {
     "data": {
      "text/html": [
       "<div>\n",
       "<style scoped>\n",
       "    .dataframe tbody tr th:only-of-type {\n",
       "        vertical-align: middle;\n",
       "    }\n",
       "\n",
       "    .dataframe tbody tr th {\n",
       "        vertical-align: top;\n",
       "    }\n",
       "\n",
       "    .dataframe thead th {\n",
       "        text-align: right;\n",
       "    }\n",
       "</style>\n",
       "<table border=\"1\" class=\"dataframe\">\n",
       "  <thead>\n",
       "    <tr style=\"text-align: right;\">\n",
       "      <th></th>\n",
       "      <th>title</th>\n",
       "      <th>selftext</th>\n",
       "      <th>subreddit</th>\n",
       "      <th>created_utc</th>\n",
       "      <th>author</th>\n",
       "      <th>num_comments</th>\n",
       "      <th>score</th>\n",
       "      <th>is_self</th>\n",
       "    </tr>\n",
       "  </thead>\n",
       "  <tbody>\n",
       "    <tr>\n",
       "      <th>0</th>\n",
       "      <td>Getting \"faux\" phone# for your business, to hi...</td>\n",
       "      <td>[removed]</td>\n",
       "      <td>smallbusiness</td>\n",
       "      <td>1610836144</td>\n",
       "      <td>neovngr</td>\n",
       "      <td>1</td>\n",
       "      <td>1</td>\n",
       "      <td>True</td>\n",
       "    </tr>\n",
       "    <tr>\n",
       "      <th>1</th>\n",
       "      <td>What being a CEO of your company has taught you?</td>\n",
       "      <td>I am going to launch my business this year. I ...</td>\n",
       "      <td>smallbusiness</td>\n",
       "      <td>1610838573</td>\n",
       "      <td>ChampionshipAct</td>\n",
       "      <td>17</td>\n",
       "      <td>1</td>\n",
       "      <td>True</td>\n",
       "    </tr>\n",
       "    <tr>\n",
       "      <th>2</th>\n",
       "      <td>Small Business advice</td>\n",
       "      <td>Hi. I recently opened up my own painting busin...</td>\n",
       "      <td>smallbusiness</td>\n",
       "      <td>1610839361</td>\n",
       "      <td>oliverbutcher</td>\n",
       "      <td>0</td>\n",
       "      <td>1</td>\n",
       "      <td>True</td>\n",
       "    </tr>\n",
       "    <tr>\n",
       "      <th>3</th>\n",
       "      <td>As a business in Glendale AZ, do I need to cha...</td>\n",
       "      <td>I'm sorry if this isn't the right place to ask...</td>\n",
       "      <td>smallbusiness</td>\n",
       "      <td>1610839408</td>\n",
       "      <td>NickyNice</td>\n",
       "      <td>4</td>\n",
       "      <td>1</td>\n",
       "      <td>True</td>\n",
       "    </tr>\n",
       "    <tr>\n",
       "      <th>4</th>\n",
       "      <td>shipping !</td>\n",
       "      <td>i’m needing help with shipping info. \\ni will ...</td>\n",
       "      <td>smallbusiness</td>\n",
       "      <td>1610844945</td>\n",
       "      <td>vickyendgame</td>\n",
       "      <td>10</td>\n",
       "      <td>1</td>\n",
       "      <td>True</td>\n",
       "    </tr>\n",
       "  </tbody>\n",
       "</table>\n",
       "</div>"
      ],
      "text/plain": [
       "                                               title  \\\n",
       "0  Getting \"faux\" phone# for your business, to hi...   \n",
       "1   What being a CEO of your company has taught you?   \n",
       "2                              Small Business advice   \n",
       "3  As a business in Glendale AZ, do I need to cha...   \n",
       "4                                         shipping !   \n",
       "\n",
       "                                            selftext      subreddit  \\\n",
       "0                                          [removed]  smallbusiness   \n",
       "1  I am going to launch my business this year. I ...  smallbusiness   \n",
       "2  Hi. I recently opened up my own painting busin...  smallbusiness   \n",
       "3  I'm sorry if this isn't the right place to ask...  smallbusiness   \n",
       "4  i’m needing help with shipping info. \\ni will ...  smallbusiness   \n",
       "\n",
       "   created_utc           author  num_comments  score  is_self  \n",
       "0   1610836144          neovngr             1      1     True  \n",
       "1   1610838573  ChampionshipAct            17      1     True  \n",
       "2   1610839361    oliverbutcher             0      1     True  \n",
       "3   1610839408        NickyNice             4      1     True  \n",
       "4   1610844945     vickyendgame            10      1     True  "
      ]
     },
     "execution_count": 73,
     "metadata": {},
     "output_type": "execute_result"
    }
   ],
   "source": [
    "df.head()"
   ]
  },
  {
   "cell_type": "markdown",
   "metadata": {},
   "source": [
    "Happy with the quantity of posts I imported I proceed exporting the dataframe as `.csv`"
   ]
  },
  {
   "cell_type": "code",
   "execution_count": 70,
   "metadata": {
    "ExecuteTime": {
     "end_time": "2021-01-26T22:14:01.580071Z",
     "start_time": "2021-01-26T22:14:01.261002Z"
    }
   },
   "outputs": [],
   "source": [
    "df.to_csv('corpus.csv', index=False)"
   ]
  }
 ],
 "metadata": {
  "kernelspec": {
   "display_name": "Python 3",
   "language": "python",
   "name": "python3"
  },
  "language_info": {
   "codemirror_mode": {
    "name": "ipython",
    "version": 3
   },
   "file_extension": ".py",
   "mimetype": "text/x-python",
   "name": "python",
   "nbconvert_exporter": "python",
   "pygments_lexer": "ipython3",
   "version": "3.8.5"
  }
 },
 "nbformat": 4,
 "nbformat_minor": 4
}
