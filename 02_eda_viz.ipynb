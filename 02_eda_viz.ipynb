{
 "cells": [
  {
   "cell_type": "markdown",
   "id": "civilian-geology",
   "metadata": {},
   "source": [
    "# EDA and cleaning"
   ]
  },
  {
   "cell_type": "code",
   "execution_count": 213,
   "id": "partial-workshop",
   "metadata": {
    "ExecuteTime": {
     "end_time": "2021-01-27T00:09:00.028087Z",
     "start_time": "2021-01-27T00:09:00.024323Z"
    }
   },
   "outputs": [],
   "source": [
    "import pandas as pd\n",
    "import numpy as np\n",
    "import matplotlib.pyplot as plt\n",
    "\n",
    "from nltk.tokenize import sent_tokenize, word_tokenize, RegexpTokenizer\n",
    "from nltk.stem import WordNetLemmatizer\n",
    "from nltk.stem.porter import PorterStemmer\n",
    "from nltk.corpus import stopwords\n",
    "from nltk.sentiment.vader import SentimentIntensityAnalyzer\n",
    "import re\n",
    "import string\n",
    "from sklearn.feature_extraction.text import CountVectorizer, TfidfVectorizer, TfidfTransformer\n",
    "from sklearn.feature_extraction import text\n"
   ]
  },
  {
   "cell_type": "code",
   "execution_count": 125,
   "id": "southeast-financing",
   "metadata": {
    "ExecuteTime": {
     "end_time": "2021-01-26T23:33:21.119901Z",
     "start_time": "2021-01-26T23:33:20.958409Z"
    }
   },
   "outputs": [],
   "source": [
    "df = pd.read_csv('corpus.csv')"
   ]
  },
  {
   "cell_type": "code",
   "execution_count": 126,
   "id": "guided-sleeve",
   "metadata": {
    "ExecuteTime": {
     "end_time": "2021-01-26T23:33:21.847149Z",
     "start_time": "2021-01-26T23:33:21.836662Z"
    }
   },
   "outputs": [
    {
     "data": {
      "text/html": [
       "<div>\n",
       "<style scoped>\n",
       "    .dataframe tbody tr th:only-of-type {\n",
       "        vertical-align: middle;\n",
       "    }\n",
       "\n",
       "    .dataframe tbody tr th {\n",
       "        vertical-align: top;\n",
       "    }\n",
       "\n",
       "    .dataframe thead th {\n",
       "        text-align: right;\n",
       "    }\n",
       "</style>\n",
       "<table border=\"1\" class=\"dataframe\">\n",
       "  <thead>\n",
       "    <tr style=\"text-align: right;\">\n",
       "      <th></th>\n",
       "      <th>title</th>\n",
       "      <th>selftext</th>\n",
       "      <th>subreddit</th>\n",
       "      <th>created_utc</th>\n",
       "      <th>author</th>\n",
       "      <th>num_comments</th>\n",
       "      <th>score</th>\n",
       "      <th>is_self</th>\n",
       "    </tr>\n",
       "  </thead>\n",
       "  <tbody>\n",
       "    <tr>\n",
       "      <th>0</th>\n",
       "      <td>Getting \"faux\" phone# for your business, to hi...</td>\n",
       "      <td>[removed]</td>\n",
       "      <td>smallbusiness</td>\n",
       "      <td>1610836144</td>\n",
       "      <td>neovngr</td>\n",
       "      <td>1</td>\n",
       "      <td>1</td>\n",
       "      <td>True</td>\n",
       "    </tr>\n",
       "    <tr>\n",
       "      <th>1</th>\n",
       "      <td>What being a CEO of your company has taught you?</td>\n",
       "      <td>I am going to launch my business this year. I ...</td>\n",
       "      <td>smallbusiness</td>\n",
       "      <td>1610838573</td>\n",
       "      <td>ChampionshipAct</td>\n",
       "      <td>17</td>\n",
       "      <td>1</td>\n",
       "      <td>True</td>\n",
       "    </tr>\n",
       "    <tr>\n",
       "      <th>2</th>\n",
       "      <td>Small Business advice</td>\n",
       "      <td>Hi. I recently opened up my own painting busin...</td>\n",
       "      <td>smallbusiness</td>\n",
       "      <td>1610839361</td>\n",
       "      <td>oliverbutcher</td>\n",
       "      <td>0</td>\n",
       "      <td>1</td>\n",
       "      <td>True</td>\n",
       "    </tr>\n",
       "    <tr>\n",
       "      <th>3</th>\n",
       "      <td>As a business in Glendale AZ, do I need to cha...</td>\n",
       "      <td>I'm sorry if this isn't the right place to ask...</td>\n",
       "      <td>smallbusiness</td>\n",
       "      <td>1610839408</td>\n",
       "      <td>NickyNice</td>\n",
       "      <td>4</td>\n",
       "      <td>1</td>\n",
       "      <td>True</td>\n",
       "    </tr>\n",
       "    <tr>\n",
       "      <th>4</th>\n",
       "      <td>shipping !</td>\n",
       "      <td>i’m needing help with shipping info. \\ni will ...</td>\n",
       "      <td>smallbusiness</td>\n",
       "      <td>1610844945</td>\n",
       "      <td>vickyendgame</td>\n",
       "      <td>10</td>\n",
       "      <td>1</td>\n",
       "      <td>True</td>\n",
       "    </tr>\n",
       "  </tbody>\n",
       "</table>\n",
       "</div>"
      ],
      "text/plain": [
       "                                               title  \\\n",
       "0  Getting \"faux\" phone# for your business, to hi...   \n",
       "1   What being a CEO of your company has taught you?   \n",
       "2                              Small Business advice   \n",
       "3  As a business in Glendale AZ, do I need to cha...   \n",
       "4                                         shipping !   \n",
       "\n",
       "                                            selftext      subreddit  \\\n",
       "0                                          [removed]  smallbusiness   \n",
       "1  I am going to launch my business this year. I ...  smallbusiness   \n",
       "2  Hi. I recently opened up my own painting busin...  smallbusiness   \n",
       "3  I'm sorry if this isn't the right place to ask...  smallbusiness   \n",
       "4  i’m needing help with shipping info. \\ni will ...  smallbusiness   \n",
       "\n",
       "   created_utc           author  num_comments  score  is_self  \n",
       "0   1610836144          neovngr             1      1     True  \n",
       "1   1610838573  ChampionshipAct            17      1     True  \n",
       "2   1610839361    oliverbutcher             0      1     True  \n",
       "3   1610839408        NickyNice             4      1     True  \n",
       "4   1610844945     vickyendgame            10      1     True  "
      ]
     },
     "execution_count": 126,
     "metadata": {},
     "output_type": "execute_result"
    }
   ],
   "source": [
    "df.head()"
   ]
  },
  {
   "cell_type": "markdown",
   "id": "controversial-moisture",
   "metadata": {},
   "source": [
    "Remove [removed] from selftext"
   ]
  },
  {
   "cell_type": "code",
   "execution_count": 127,
   "id": "encouraging-logic",
   "metadata": {
    "ExecuteTime": {
     "end_time": "2021-01-26T23:33:23.308368Z",
     "start_time": "2021-01-26T23:33:23.298905Z"
    }
   },
   "outputs": [],
   "source": [
    "df['selftext'] = df['selftext'].map(lambda x: np.nan if x == '[removed]' else str(x))"
   ]
  },
  {
   "cell_type": "code",
   "execution_count": 128,
   "id": "colored-honduras",
   "metadata": {
    "ExecuteTime": {
     "end_time": "2021-01-26T23:33:24.026778Z",
     "start_time": "2021-01-26T23:33:24.019360Z"
    }
   },
   "outputs": [],
   "source": [
    "df.dropna(subset = ['selftext'], inplace=True)"
   ]
  },
  {
   "cell_type": "code",
   "execution_count": 129,
   "id": "liberal-timing",
   "metadata": {
    "ExecuteTime": {
     "end_time": "2021-01-26T23:33:24.538504Z",
     "start_time": "2021-01-26T23:33:24.535562Z"
    }
   },
   "outputs": [
    {
     "data": {
      "text/plain": [
       "(12302, 8)"
      ]
     },
     "execution_count": 129,
     "metadata": {},
     "output_type": "execute_result"
    }
   ],
   "source": [
    "df.shape"
   ]
  },
  {
   "cell_type": "markdown",
   "id": "formed-paintball",
   "metadata": {},
   "source": [
    "Veryfied that I have 12302 rows to work with, having exclude the empty `'selftext'` rows, I proceed veryfing the number of posts I have for each subreddit."
   ]
  },
  {
   "cell_type": "code",
   "execution_count": 130,
   "id": "temporal-conjunction",
   "metadata": {
    "ExecuteTime": {
     "end_time": "2021-01-26T23:33:25.576809Z",
     "start_time": "2021-01-26T23:33:25.570582Z"
    }
   },
   "outputs": [
    {
     "data": {
      "text/plain": [
       "smallbusiness    7247\n",
       "startups         5055\n",
       "Name: subreddit, dtype: int64"
      ]
     },
     "execution_count": 130,
     "metadata": {},
     "output_type": "execute_result"
    }
   ],
   "source": [
    "df['subreddit'].value_counts()"
   ]
  },
  {
   "cell_type": "markdown",
   "id": "explicit-track",
   "metadata": {},
   "source": [
    "Small business sample size is bigger than startups, but both seem large enough to continue with the analysis."
   ]
  },
  {
   "cell_type": "code",
   "execution_count": 131,
   "id": "loose-plasma",
   "metadata": {
    "ExecuteTime": {
     "end_time": "2021-01-26T23:33:27.074970Z",
     "start_time": "2021-01-26T23:33:27.055690Z"
    }
   },
   "outputs": [
    {
     "data": {
      "text/html": [
       "<div>\n",
       "<style scoped>\n",
       "    .dataframe tbody tr th:only-of-type {\n",
       "        vertical-align: middle;\n",
       "    }\n",
       "\n",
       "    .dataframe tbody tr th {\n",
       "        vertical-align: top;\n",
       "    }\n",
       "\n",
       "    .dataframe thead th {\n",
       "        text-align: right;\n",
       "    }\n",
       "</style>\n",
       "<table border=\"1\" class=\"dataframe\">\n",
       "  <thead>\n",
       "    <tr style=\"text-align: right;\">\n",
       "      <th></th>\n",
       "      <th>count</th>\n",
       "      <th>mean</th>\n",
       "      <th>std</th>\n",
       "      <th>min</th>\n",
       "      <th>25%</th>\n",
       "      <th>50%</th>\n",
       "      <th>75%</th>\n",
       "      <th>max</th>\n",
       "    </tr>\n",
       "    <tr>\n",
       "      <th>subreddit</th>\n",
       "      <th></th>\n",
       "      <th></th>\n",
       "      <th></th>\n",
       "      <th></th>\n",
       "      <th></th>\n",
       "      <th></th>\n",
       "      <th></th>\n",
       "      <th></th>\n",
       "    </tr>\n",
       "  </thead>\n",
       "  <tbody>\n",
       "    <tr>\n",
       "      <th>smallbusiness</th>\n",
       "      <td>7247.0</td>\n",
       "      <td>11.180488</td>\n",
       "      <td>26.807854</td>\n",
       "      <td>0.0</td>\n",
       "      <td>2.0</td>\n",
       "      <td>5.0</td>\n",
       "      <td>11.0</td>\n",
       "      <td>968.0</td>\n",
       "    </tr>\n",
       "    <tr>\n",
       "      <th>startups</th>\n",
       "      <td>5055.0</td>\n",
       "      <td>10.792483</td>\n",
       "      <td>28.851644</td>\n",
       "      <td>0.0</td>\n",
       "      <td>1.0</td>\n",
       "      <td>4.0</td>\n",
       "      <td>11.0</td>\n",
       "      <td>809.0</td>\n",
       "    </tr>\n",
       "  </tbody>\n",
       "</table>\n",
       "</div>"
      ],
      "text/plain": [
       "                count       mean        std  min  25%  50%   75%    max\n",
       "subreddit                                                              \n",
       "smallbusiness  7247.0  11.180488  26.807854  0.0  2.0  5.0  11.0  968.0\n",
       "startups       5055.0  10.792483  28.851644  0.0  1.0  4.0  11.0  809.0"
      ]
     },
     "execution_count": 131,
     "metadata": {},
     "output_type": "execute_result"
    }
   ],
   "source": [
    "(df['num_comments']).groupby(df['subreddit']).describe()"
   ]
  },
  {
   "cell_type": "markdown",
   "id": "charitable-tuner",
   "metadata": {},
   "source": [
    "Both samples seems to behave similarly: the average number of comment for posts in both subreddits is a little over 10, and, even if the largest amount of comments is a little higher for smallbusiness (968) than `startup` (809), they are in the same order of magnitude."
   ]
  },
  {
   "cell_type": "markdown",
   "id": "practical-maria",
   "metadata": {},
   "source": [
    "I check for duplicate posts in my sample, and establish that there are not."
   ]
  },
  {
   "cell_type": "code",
   "execution_count": 132,
   "id": "mathematical-spelling",
   "metadata": {
    "ExecuteTime": {
     "end_time": "2021-01-26T23:33:28.701116Z",
     "start_time": "2021-01-26T23:33:28.652963Z"
    }
   },
   "outputs": [
    {
     "data": {
      "text/html": [
       "<div>\n",
       "<style scoped>\n",
       "    .dataframe tbody tr th:only-of-type {\n",
       "        vertical-align: middle;\n",
       "    }\n",
       "\n",
       "    .dataframe tbody tr th {\n",
       "        vertical-align: top;\n",
       "    }\n",
       "\n",
       "    .dataframe thead th {\n",
       "        text-align: right;\n",
       "    }\n",
       "</style>\n",
       "<table border=\"1\" class=\"dataframe\">\n",
       "  <thead>\n",
       "    <tr style=\"text-align: right;\">\n",
       "      <th></th>\n",
       "      <th>title</th>\n",
       "      <th>selftext</th>\n",
       "      <th>subreddit</th>\n",
       "      <th>created_utc</th>\n",
       "      <th>author</th>\n",
       "      <th>num_comments</th>\n",
       "      <th>score</th>\n",
       "      <th>is_self</th>\n",
       "    </tr>\n",
       "  </thead>\n",
       "  <tbody>\n",
       "  </tbody>\n",
       "</table>\n",
       "</div>"
      ],
      "text/plain": [
       "Empty DataFrame\n",
       "Columns: [title, selftext, subreddit, created_utc, author, num_comments, score, is_self]\n",
       "Index: []"
      ]
     },
     "execution_count": 132,
     "metadata": {},
     "output_type": "execute_result"
    }
   ],
   "source": [
    "df[df.duplicated()]"
   ]
  },
  {
   "cell_type": "markdown",
   "id": "hollywood-floor",
   "metadata": {},
   "source": [
    "I also want to add a feature with the all corpus of the post, merging the title and the post body."
   ]
  },
  {
   "cell_type": "code",
   "execution_count": 133,
   "id": "trained-convert",
   "metadata": {
    "ExecuteTime": {
     "end_time": "2021-01-26T23:33:31.215732Z",
     "start_time": "2021-01-26T23:33:31.196872Z"
    }
   },
   "outputs": [],
   "source": [
    "df['alltext'] = df['title'] + ' ' + df['selftext']"
   ]
  },
  {
   "cell_type": "markdown",
   "id": "floppy-utility",
   "metadata": {},
   "source": [
    "**Target**\n",
    "\n",
    "I want to predict 'subreddit', so I modify the current `subreddit` feature into `target` and set startups = 1, smallbusiness = 0."
   ]
  },
  {
   "cell_type": "code",
   "execution_count": 134,
   "id": "environmental-garden",
   "metadata": {
    "ExecuteTime": {
     "end_time": "2021-01-26T23:33:33.081767Z",
     "start_time": "2021-01-26T23:33:33.064113Z"
    }
   },
   "outputs": [
    {
     "data": {
      "text/html": [
       "<div>\n",
       "<style scoped>\n",
       "    .dataframe tbody tr th:only-of-type {\n",
       "        vertical-align: middle;\n",
       "    }\n",
       "\n",
       "    .dataframe tbody tr th {\n",
       "        vertical-align: top;\n",
       "    }\n",
       "\n",
       "    .dataframe thead th {\n",
       "        text-align: right;\n",
       "    }\n",
       "</style>\n",
       "<table border=\"1\" class=\"dataframe\">\n",
       "  <thead>\n",
       "    <tr style=\"text-align: right;\">\n",
       "      <th></th>\n",
       "      <th>title</th>\n",
       "      <th>selftext</th>\n",
       "      <th>created_utc</th>\n",
       "      <th>author</th>\n",
       "      <th>num_comments</th>\n",
       "      <th>score</th>\n",
       "      <th>is_self</th>\n",
       "      <th>alltext</th>\n",
       "      <th>target</th>\n",
       "    </tr>\n",
       "  </thead>\n",
       "  <tbody>\n",
       "    <tr>\n",
       "      <th>1</th>\n",
       "      <td>What being a CEO of your company has taught you?</td>\n",
       "      <td>I am going to launch my business this year. I ...</td>\n",
       "      <td>1610838573</td>\n",
       "      <td>ChampionshipAct</td>\n",
       "      <td>17</td>\n",
       "      <td>1</td>\n",
       "      <td>True</td>\n",
       "      <td>What being a CEO of your company has taught yo...</td>\n",
       "      <td>0</td>\n",
       "    </tr>\n",
       "    <tr>\n",
       "      <th>2</th>\n",
       "      <td>Small Business advice</td>\n",
       "      <td>Hi. I recently opened up my own painting busin...</td>\n",
       "      <td>1610839361</td>\n",
       "      <td>oliverbutcher</td>\n",
       "      <td>0</td>\n",
       "      <td>1</td>\n",
       "      <td>True</td>\n",
       "      <td>Small Business advice Hi. I recently opened up...</td>\n",
       "      <td>0</td>\n",
       "    </tr>\n",
       "    <tr>\n",
       "      <th>3</th>\n",
       "      <td>As a business in Glendale AZ, do I need to cha...</td>\n",
       "      <td>I'm sorry if this isn't the right place to ask...</td>\n",
       "      <td>1610839408</td>\n",
       "      <td>NickyNice</td>\n",
       "      <td>4</td>\n",
       "      <td>1</td>\n",
       "      <td>True</td>\n",
       "      <td>As a business in Glendale AZ, do I need to cha...</td>\n",
       "      <td>0</td>\n",
       "    </tr>\n",
       "    <tr>\n",
       "      <th>4</th>\n",
       "      <td>shipping !</td>\n",
       "      <td>i’m needing help with shipping info. \\ni will ...</td>\n",
       "      <td>1610844945</td>\n",
       "      <td>vickyendgame</td>\n",
       "      <td>10</td>\n",
       "      <td>1</td>\n",
       "      <td>True</td>\n",
       "      <td>shipping ! i’m needing help with shipping info...</td>\n",
       "      <td>0</td>\n",
       "    </tr>\n",
       "    <tr>\n",
       "      <th>5</th>\n",
       "      <td>What to do if company is growing too fast</td>\n",
       "      <td>I'm running our family business which provides...</td>\n",
       "      <td>1610846426</td>\n",
       "      <td>yellowflash85</td>\n",
       "      <td>56</td>\n",
       "      <td>1</td>\n",
       "      <td>True</td>\n",
       "      <td>What to do if company is growing too fast I'm ...</td>\n",
       "      <td>0</td>\n",
       "    </tr>\n",
       "  </tbody>\n",
       "</table>\n",
       "</div>"
      ],
      "text/plain": [
       "                                               title  \\\n",
       "1   What being a CEO of your company has taught you?   \n",
       "2                              Small Business advice   \n",
       "3  As a business in Glendale AZ, do I need to cha...   \n",
       "4                                         shipping !   \n",
       "5          What to do if company is growing too fast   \n",
       "\n",
       "                                            selftext  created_utc  \\\n",
       "1  I am going to launch my business this year. I ...   1610838573   \n",
       "2  Hi. I recently opened up my own painting busin...   1610839361   \n",
       "3  I'm sorry if this isn't the right place to ask...   1610839408   \n",
       "4  i’m needing help with shipping info. \\ni will ...   1610844945   \n",
       "5  I'm running our family business which provides...   1610846426   \n",
       "\n",
       "            author  num_comments  score  is_self  \\\n",
       "1  ChampionshipAct            17      1     True   \n",
       "2    oliverbutcher             0      1     True   \n",
       "3        NickyNice             4      1     True   \n",
       "4     vickyendgame            10      1     True   \n",
       "5    yellowflash85            56      1     True   \n",
       "\n",
       "                                             alltext  target  \n",
       "1  What being a CEO of your company has taught yo...       0  \n",
       "2  Small Business advice Hi. I recently opened up...       0  \n",
       "3  As a business in Glendale AZ, do I need to cha...       0  \n",
       "4  shipping ! i’m needing help with shipping info...       0  \n",
       "5  What to do if company is growing too fast I'm ...       0  "
      ]
     },
     "execution_count": 134,
     "metadata": {},
     "output_type": "execute_result"
    }
   ],
   "source": [
    "df['target'] = df['subreddit'].map({'startups': 1, 'smallbusiness': 0})\n",
    "df.drop('subreddit', axis=1, inplace=True)\n",
    "df.head()"
   ]
  },
  {
   "cell_type": "markdown",
   "id": "interesting-mongolia",
   "metadata": {},
   "source": [
    "**Clean**"
   ]
  },
  {
   "cell_type": "code",
   "execution_count": 135,
   "id": "together-company",
   "metadata": {
    "ExecuteTime": {
     "end_time": "2021-01-26T23:33:34.980355Z",
     "start_time": "2021-01-26T23:33:34.975987Z"
    }
   },
   "outputs": [],
   "source": [
    "def cleaner(text):\n",
    "    # Make lowercase\n",
    "    text = text.lower()\n",
    "\n",
    "    # Remove HTML special entities (e.g. &amp;)\n",
    "    text = re.sub(r'\\&\\w*;', '', text)\n",
    "    \n",
    "    # Remove hyperlinks\n",
    "    text = re.sub(r'https?:\\/\\/.*\\/\\w*', '', text)\n",
    "    \n",
    "    # Remove punctuation and split 's, 't, 've with a space for filter\n",
    "    text = re.sub(r'[' + string.punctuation.replace('@', '') + ']+', ' ', text)\n",
    "    \n",
    "    # Remove words with 2 or fewer letters\n",
    "    text = re.sub(r'\\b\\w{1,2}\\b', '', text)\n",
    "    \n",
    "    # Remove whitespace (including new line characters)\n",
    "    text = re.sub(r'\\s\\s+', ' ', text)\n",
    "    \n",
    "    # Remove characters beyond Basic Multilingual Plane (BMP) of Unicode:\n",
    "    text = ''.join(c for c in text if c <= '\\uFFFF') \n",
    "    \n",
    "    return text\n"
   ]
  },
  {
   "cell_type": "code",
   "execution_count": 136,
   "id": "blond-inquiry",
   "metadata": {
    "ExecuteTime": {
     "end_time": "2021-01-26T23:33:37.336310Z",
     "start_time": "2021-01-26T23:33:35.672707Z"
    }
   },
   "outputs": [],
   "source": [
    "df['alltext'] = df['alltext'].apply(cleaner)"
   ]
  },
  {
   "cell_type": "markdown",
   "id": "southern-chester",
   "metadata": {},
   "source": [
    "**Lemmatize**"
   ]
  },
  {
   "cell_type": "code",
   "execution_count": 137,
   "id": "rational-gnome",
   "metadata": {
    "ExecuteTime": {
     "end_time": "2021-01-26T23:33:39.410552Z",
     "start_time": "2021-01-26T23:33:39.407652Z"
    }
   },
   "outputs": [],
   "source": [
    "lemmatizer = WordNetLemmatizer()\n",
    "\n",
    "def lemmatize_words(text):\n",
    "    words = text.split()\n",
    "    lemma_words = ''\n",
    "    for word in words:\n",
    "        lemma_words += (lemmatizer.lemmatize(word) + ' ')\n",
    "    return lemma_words"
   ]
  },
  {
   "cell_type": "code",
   "execution_count": 138,
   "id": "auburn-swing",
   "metadata": {
    "ExecuteTime": {
     "end_time": "2021-01-26T23:33:45.276636Z",
     "start_time": "2021-01-26T23:33:40.578717Z"
    }
   },
   "outputs": [],
   "source": [
    "df['alltext'] = df['alltext'].apply(lemmatize_words)"
   ]
  },
  {
   "cell_type": "code",
   "execution_count": 143,
   "id": "respiratory-boring",
   "metadata": {
    "ExecuteTime": {
     "end_time": "2021-01-26T23:34:07.940098Z",
     "start_time": "2021-01-26T23:34:07.936742Z"
    }
   },
   "outputs": [
    {
     "data": {
      "text/plain": [
       "(12302, 9)"
      ]
     },
     "execution_count": 143,
     "metadata": {},
     "output_type": "execute_result"
    }
   ],
   "source": [
    "df.shape"
   ]
  },
  {
   "cell_type": "code",
   "execution_count": 142,
   "id": "loose-interest",
   "metadata": {
    "ExecuteTime": {
     "end_time": "2021-01-26T23:34:05.645807Z",
     "start_time": "2021-01-26T23:34:05.642363Z"
    }
   },
   "outputs": [],
   "source": [
    "df = df.reset_index(drop=True)"
   ]
  },
  {
   "cell_type": "markdown",
   "id": "fifth-testament",
   "metadata": {},
   "source": [
    "**Tokenize**"
   ]
  },
  {
   "cell_type": "code",
   "execution_count": 120,
   "id": "unable-north",
   "metadata": {
    "ExecuteTime": {
     "end_time": "2021-01-26T23:32:16.471379Z",
     "start_time": "2021-01-26T23:32:16.469154Z"
    }
   },
   "outputs": [],
   "source": [
    "#tokenizer = RegexpTokenizer(r'\\w+')"
   ]
  },
  {
   "cell_type": "code",
   "execution_count": 121,
   "id": "nervous-education",
   "metadata": {
    "ExecuteTime": {
     "end_time": "2021-01-26T23:32:17.280497Z",
     "start_time": "2021-01-26T23:32:17.277524Z"
    }
   },
   "outputs": [],
   "source": [
    "#def token_word(column):\n",
    "  #  token_ls = []\n",
    " #   for row in column:\n",
    "  #      t = word_tokenize(row.lower())\n",
    "  #      token_ls.append(t)\n",
    "  #  return token_ls"
   ]
  },
  {
   "cell_type": "code",
   "execution_count": 144,
   "id": "furnished-bleeding",
   "metadata": {
    "ExecuteTime": {
     "end_time": "2021-01-26T23:35:06.342804Z",
     "start_time": "2021-01-26T23:35:05.878928Z"
    }
   },
   "outputs": [],
   "source": [
    "df.to_csv('corpus_clean.csv', index=False)"
   ]
  },
  {
   "cell_type": "markdown",
   "id": "fancy-vermont",
   "metadata": {},
   "source": [
    "**Most common words**"
   ]
  },
  {
   "cell_type": "code",
   "execution_count": 204,
   "id": "interesting-toner",
   "metadata": {
    "ExecuteTime": {
     "end_time": "2021-01-27T00:06:37.308891Z",
     "start_time": "2021-01-27T00:06:37.305579Z"
    }
   },
   "outputs": [],
   "source": [
    "# Easy way to get most frequently used words: change max_features\n",
    "def common_words(i):\n",
    "    count_vect = CountVectorizer(analyzer = \"word\", \n",
    "                                 tokenizer = None, \n",
    "                                 preprocessor = None,\n",
    "                                 stop_words = \"english\", \n",
    "                                 max_features = 40) \n",
    "\n",
    "    # input for CountVectorizer is an array of strings\n",
    "    vector_input = df[df['target'] == i]['alltext']\n",
    "\n",
    "    # fit_transform the vectorizer\n",
    "    words = count_vect.fit_transform(vector_input)\n",
    "\n",
    "    # convert output to a Numpy array\n",
    "    words = words.toarray()\n",
    "    return  count_vect.get_feature_names()"
   ]
  },
  {
   "cell_type": "code",
   "execution_count": 208,
   "id": "trying-northern",
   "metadata": {
    "ExecuteTime": {
     "end_time": "2021-01-27T00:06:50.128561Z",
     "start_time": "2021-01-27T00:06:49.679780Z"
    }
   },
   "outputs": [],
   "source": [
    "startup_words = common_words(1)"
   ]
  },
  {
   "cell_type": "code",
   "execution_count": 209,
   "id": "comparative-james",
   "metadata": {
    "ExecuteTime": {
     "end_time": "2021-01-27T00:06:50.899472Z",
     "start_time": "2021-01-27T00:06:50.896666Z"
    }
   },
   "outputs": [
    {
     "name": "stdout",
     "output_type": "stream",
     "text": [
      "['app', 'business', 'company', 'customer', 'don', 'experience', 'feedback', 'founder', 'good', 'ha', 'help', 'idea', 'job', 'just', 'know', 'like', 'looking', 'make', 'marketing', 'need', 'new', 'people', 'product', 'really', 'service', 'share', 'start', 'startup', 'thing', 'think', 'time', 'use', 'user', 'wa', 'want', 'way', 'work', 'working', 'x200b', 'year']\n"
     ]
    }
   ],
   "source": [
    "print(startup_words)"
   ]
  },
  {
   "cell_type": "code",
   "execution_count": 210,
   "id": "incredible-tradition",
   "metadata": {
    "ExecuteTime": {
     "end_time": "2021-01-27T00:06:54.425183Z",
     "start_time": "2021-01-27T00:06:53.955293Z"
    }
   },
   "outputs": [],
   "source": [
    "smb_words = common_words(0)"
   ]
  },
  {
   "cell_type": "code",
   "execution_count": 211,
   "id": "compressed-vinyl",
   "metadata": {
    "ExecuteTime": {
     "end_time": "2021-01-27T00:06:54.790882Z",
     "start_time": "2021-01-27T00:06:54.788336Z"
    }
   },
   "outputs": [
    {
     "name": "stdout",
     "output_type": "stream",
     "text": [
      "['advice', 'business', 'company', 'customer', 'day', 'don', 'employee', 'good', 'ha', 'help', 'idea', 'just', 'know', 'like', 'looking', 'make', 'money', 'month', 'need', 'new', 'owner', 'pay', 'people', 'product', 'question', 'sale', 'service', 'small', 'start', 'tax', 'thing', 'time', 'use', 'wa', 'want', 'way', 'website', 'work', 'x200b', 'year']\n"
     ]
    }
   ],
   "source": [
    "print(smb_words)"
   ]
  },
  {
   "cell_type": "markdown",
   "id": "circular-novel",
   "metadata": {},
   "source": [
    "`x200b` value is a formatting feature, that I will drop.\n",
    "\n",
    "`don` is super weired."
   ]
  },
  {
   "cell_type": "code",
   "execution_count": 221,
   "id": "neutral-completion",
   "metadata": {
    "ExecuteTime": {
     "end_time": "2021-01-27T00:18:22.836504Z",
     "start_time": "2021-01-27T00:18:22.833871Z"
    }
   },
   "outputs": [],
   "source": [
    "text.ENGLISH_STOP_WORDS\n",
    "\n",
    "add_stop_words = ['don', 'ha', 'x200b', 'wa', 'just']\n",
    "\n",
    "stop_words = text.ENGLISH_STOP_WORDS.union(add_stop_words)"
   ]
  },
  {
   "cell_type": "code",
   "execution_count": 222,
   "id": "furnished-checklist",
   "metadata": {
    "ExecuteTime": {
     "end_time": "2021-01-27T00:18:23.534918Z",
     "start_time": "2021-01-27T00:18:23.531489Z"
    }
   },
   "outputs": [],
   "source": [
    "def common_words(i):\n",
    "    count_vect = CountVectorizer(analyzer = \"word\", \n",
    "                                 tokenizer = None, \n",
    "                                 preprocessor = None,\n",
    "                                 stop_words = stop_words, \n",
    "                                 max_features = 40) \n",
    "\n",
    "    # input for CountVectorizer is an array of strings\n",
    "    vector_input = df[df['target'] == i]['alltext']\n",
    "\n",
    "    # fit_transform the vectorizer\n",
    "    words = count_vect.fit_transform(vector_input)\n",
    "\n",
    "    # convert output to a Numpy array\n",
    "    words = words.toarray()\n",
    "    return  count_vect.get_feature_names()"
   ]
  },
  {
   "cell_type": "code",
   "execution_count": 223,
   "id": "controlled-forestry",
   "metadata": {
    "ExecuteTime": {
     "end_time": "2021-01-27T00:18:24.794876Z",
     "start_time": "2021-01-27T00:18:24.340604Z"
    }
   },
   "outputs": [
    {
     "name": "stdout",
     "output_type": "stream",
     "text": [
      "['app', 'business', 'company', 'customer', 'experience', 'feedback', 'founder', 'good', 'help', 'idea', 'job', 'know', 'like', 'looking', 'make', 'market', 'marketing', 'money', 'month', 'need', 'new', 'people', 'product', 'question', 'really', 'service', 'share', 'start', 'startup', 'thing', 'think', 'time', 'use', 'user', 'want', 'way', 'website', 'work', 'working', 'year']\n"
     ]
    }
   ],
   "source": [
    "startup_words = common_words(1)\n",
    "print(startup_words)"
   ]
  },
  {
   "cell_type": "code",
   "execution_count": 224,
   "id": "compatible-invite",
   "metadata": {
    "ExecuteTime": {
     "end_time": "2021-01-27T00:18:33.621458Z",
     "start_time": "2021-01-27T00:18:33.139593Z"
    }
   },
   "outputs": [
    {
     "name": "stdout",
     "output_type": "stream",
     "text": [
      "['advice', 'business', 'client', 'company', 'customer', 'day', 'employee', 'good', 'help', 'idea', 'know', 'like', 'looking', 'make', 'marketing', 'money', 'month', 'need', 'new', 'online', 'owner', 'pay', 'people', 'product', 'question', 'really', 'sale', 'service', 'small', 'start', 'tax', 'thanks', 'thing', 'time', 'use', 'want', 'way', 'website', 'work', 'year']\n"
     ]
    }
   ],
   "source": [
    "smb_words = common_words(0)\n",
    "print(smb_words)"
   ]
  }
 ],
 "metadata": {
  "kernelspec": {
   "display_name": "Python 3",
   "language": "python",
   "name": "python3"
  },
  "language_info": {
   "codemirror_mode": {
    "name": "ipython",
    "version": 3
   },
   "file_extension": ".py",
   "mimetype": "text/x-python",
   "name": "python",
   "nbconvert_exporter": "python",
   "pygments_lexer": "ipython3",
   "version": "3.8.5"
  }
 },
 "nbformat": 4,
 "nbformat_minor": 5
}
