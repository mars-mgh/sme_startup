{
 "cells": [
  {
   "cell_type": "markdown",
   "id": "practical-ocean",
   "metadata": {},
   "source": [
    "# Sentiment Analysis and Data Visualization\n",
    "\n",
    "## Introduction\n",
    "\n",
    "### Summary\n",
    "This project aimes to recognize the topics Small Business Owners and Startup owners discuss about on Reddit, their similarities, and differences. The results are targeted towards a Financial Institution, that is starting a new blog to attract companies at small size. This research investigates in what these two gruops differ for interest, and whether it might make sense to address them together or separately.\n",
    "\n",
    "\n",
    "### In this Notebook\n",
    "In this notebook I perform I run a sentiment analysis model to identify if there is a difference between the two subreddits and if that could actually be a part of my predictive model.\n",
    "\n",
    "### Conclusion\n",
    "I end up realizing the sentiment is the same across the two subreddits.\n",
    "This indicates that the subreddits are comparable and the tone is equally informative.\n",
    "\n",
    "\n",
    "### Notebook Index\n",
    "\n",
    "- [01 | Data Collection](01_data_collection.ipynb)\n",
    "- [02 | EDA & Cleaning](02_eda.ipynb)\n",
    "- [03 | Model](03_model.ipynb)\n",
    "- [04 | Sentiment Analysis](04_sentiment_analysis.ipynb)"
   ]
  },
  {
   "cell_type": "code",
   "execution_count": 134,
   "id": "ranging-basics",
   "metadata": {
    "ExecuteTime": {
     "end_time": "2021-01-29T02:14:58.053246Z",
     "start_time": "2021-01-29T02:14:58.050092Z"
    }
   },
   "outputs": [],
   "source": [
    "import matplotlib.pyplot as plt\n",
    "import pandas as pd\n",
    "import seaborn as sns\n",
    "import numpy as np\n",
    "\n",
    "from nltk.sentiment.vader import SentimentIntensityAnalyzer\n",
    "\n",
    "from sklearn.model_selection import train_test_split\n",
    "from sklearn.metrics import confusion_matrix, plot_confusion_matrix\n",
    "\n",
    "pd.options.display.max_colwidth = 200"
   ]
  },
  {
   "cell_type": "code",
   "execution_count": 66,
   "id": "satellite-paper",
   "metadata": {
    "ExecuteTime": {
     "end_time": "2021-01-29T01:39:39.812536Z",
     "start_time": "2021-01-29T01:39:39.809203Z"
    }
   },
   "outputs": [],
   "source": [
    "def custom_pallete(custom_colors):\n",
    "    customPalette = sns.set_palette(sns.color_palette(custom_colors))\n",
    "    sns.palplot(sns.color_palette(custom_colors),size=0.8)\n",
    "    plt.tick_params(axis='both', labelsize=0, length = 0)"
   ]
  },
  {
   "cell_type": "code",
   "execution_count": 138,
   "id": "czech-newark",
   "metadata": {
    "ExecuteTime": {
     "end_time": "2021-01-29T05:01:19.664587Z",
     "start_time": "2021-01-29T05:01:19.621454Z"
    }
   },
   "outputs": [
    {
     "data": {
      "image/png": "[encoded data removed]",
      "text/plain": [
       "<Figure size 230.4x57.6 with 1 Axes>"
      ]
     },
     "metadata": {
      "needs_background": "light"
     },
     "output_type": "display_data"
    }
   ],
   "source": [
    "acqua = [\"#84B099\",\"#973276\",\"#CA8D89\", \"#E4F3E0\",\"#B5DEC8\",\"#9CC7B0\",\"#84B099\",\"#CFB384\",\"#F7BF7D\",\"#CA8D89\",\"#8959B9\",\"#973276\"]\n",
    "contrast =[\"#E26D5C\",\"#FFCD70\", \"#38618C\", '#723D46', '#472D30']\n",
    "project_3 = [\"#F9B310\",\"#047C9C\",\"#13C3CB\", \"#64D1D9\"]\n",
    "custom_pallete(project_3)"
   ]
  },
  {
   "cell_type": "code",
   "execution_count": 59,
   "id": "functioning-wrestling",
   "metadata": {
    "ExecuteTime": {
     "end_time": "2021-01-29T01:39:20.755455Z",
     "start_time": "2021-01-29T01:39:20.638924Z"
    }
   },
   "outputs": [],
   "source": [
    "df = pd.read_csv('../data/corpus_clean.csv')"
   ]
  },
  {
   "cell_type": "code",
   "execution_count": 60,
   "id": "surgical-variable",
   "metadata": {
    "ExecuteTime": {
     "end_time": "2021-01-29T01:39:21.160794Z",
     "start_time": "2021-01-29T01:39:21.153466Z"
    }
   },
   "outputs": [],
   "source": [
    "df.dropna(subset=['alltext'], inplace=True)"
   ]
  },
  {
   "cell_type": "code",
   "execution_count": 61,
   "id": "binding-establishment",
   "metadata": {
    "ExecuteTime": {
     "end_time": "2021-01-29T01:39:21.725300Z",
     "start_time": "2021-01-29T01:39:21.720926Z"
    }
   },
   "outputs": [],
   "source": [
    "corpus = list(df['alltext'])"
   ]
  },
  {
   "cell_type": "markdown",
   "id": "diverse-michigan",
   "metadata": {},
   "source": [
    "To Run this analysis I use Sentiment Intensity Analyzer and in particular I measure the polarity Scores."
   ]
  },
  {
   "cell_type": "code",
   "execution_count": 62,
   "id": "married-participant",
   "metadata": {
    "ExecuteTime": {
     "end_time": "2021-01-29T01:39:22.198101Z",
     "start_time": "2021-01-29T01:39:22.188947Z"
    }
   },
   "outputs": [
    {
     "data": {
      "text/plain": [
       "{'neg': 0.574, 'neu': 0.426, 'pos': 0.0, 'compound': -0.4019}"
      ]
     },
     "execution_count": 62,
     "metadata": {},
     "output_type": "execute_result"
    }
   ],
   "source": [
    "#instantiate SIA\n",
    "sia = SentimentIntensityAnalyzer()\n",
    "\n",
    "#Get polarity scores for the first tweet\n",
    "sia.polarity_scores(corpus[0])"
   ]
  },
  {
   "cell_type": "markdown",
   "id": "circular-beverage",
   "metadata": {},
   "source": [
    "Run the sentiment analysis by scoring each value in `alltext` and return it as a dataframe."
   ]
  },
  {
   "cell_type": "code",
   "execution_count": 63,
   "id": "regular-disclosure",
   "metadata": {
    "ExecuteTime": {
     "end_time": "2021-01-29T01:39:34.230416Z",
     "start_time": "2021-01-29T01:39:22.643088Z"
    }
   },
   "outputs": [
    {
     "data": {
      "text/html": [
       "<div>\n",
       "<style scoped>\n",
       "    .dataframe tbody tr th:only-of-type {\n",
       "        vertical-align: middle;\n",
       "    }\n",
       "\n",
       "    .dataframe tbody tr th {\n",
       "        vertical-align: top;\n",
       "    }\n",
       "\n",
       "    .dataframe thead th {\n",
       "        text-align: right;\n",
       "    }\n",
       "</style>\n",
       "<table border=\"1\" class=\"dataframe\">\n",
       "  <thead>\n",
       "    <tr style=\"text-align: right;\">\n",
       "      <th></th>\n",
       "      <th>neg</th>\n",
       "      <th>neu</th>\n",
       "      <th>pos</th>\n",
       "      <th>compound</th>\n",
       "      <th>alltext</th>\n",
       "    </tr>\n",
       "  </thead>\n",
       "  <tbody>\n",
       "    <tr>\n",
       "      <th>0</th>\n",
       "      <td>0.574</td>\n",
       "      <td>0.426</td>\n",
       "      <td>0.000</td>\n",
       "      <td>-0.4019</td>\n",
       "      <td>gusto problem nan</td>\n",
       "    </tr>\n",
       "    <tr>\n",
       "      <th>1</th>\n",
       "      <td>0.000</td>\n",
       "      <td>0.880</td>\n",
       "      <td>0.120</td>\n",
       "      <td>0.8211</td>\n",
       "      <td>there way spread out windfall income over multiple year decrease tax margin business suddenly brings thousand time more income than ever ha one year through the sale very valuable asset there way ...</td>\n",
       "    </tr>\n",
       "    <tr>\n",
       "      <th>2</th>\n",
       "      <td>0.124</td>\n",
       "      <td>0.660</td>\n",
       "      <td>0.217</td>\n",
       "      <td>0.6678</td>\n",
       "      <td>eidl ppp credit denial thing ’ just today hearing from friend that both her business were denied because her low credit score this new news before applied used company improve score didn’ have any...</td>\n",
       "    </tr>\n",
       "    <tr>\n",
       "      <th>3</th>\n",
       "      <td>0.056</td>\n",
       "      <td>0.790</td>\n",
       "      <td>0.154</td>\n",
       "      <td>0.9239</td>\n",
       "      <td>like learn about getting clientele with momentum broke due this pandemic like lost everything broke have enough get bucket ladder scooper stabilizer and hose from lowe can return these item don ge...</td>\n",
       "    </tr>\n",
       "    <tr>\n",
       "      <th>4</th>\n",
       "      <td>0.000</td>\n",
       "      <td>0.938</td>\n",
       "      <td>0.062</td>\n",
       "      <td>0.1531</td>\n",
       "      <td>owning two separate business while using the same phone number thinking about starting different llc than already have now have car detailing business and use cell phone how would about starting t...</td>\n",
       "    </tr>\n",
       "  </tbody>\n",
       "</table>\n",
       "</div>"
      ],
      "text/plain": [
       "     neg    neu    pos  compound  \\\n",
       "0  0.574  0.426  0.000   -0.4019   \n",
       "1  0.000  0.880  0.120    0.8211   \n",
       "2  0.124  0.660  0.217    0.6678   \n",
       "3  0.056  0.790  0.154    0.9239   \n",
       "4  0.000  0.938  0.062    0.1531   \n",
       "\n",
       "                                                                                                                                                                                                   alltext  \n",
       "0                                                                                                                                                                                       gusto problem nan   \n",
       "1  there way spread out windfall income over multiple year decrease tax margin business suddenly brings thousand time more income than ever ha one year through the sale very valuable asset there way ...  \n",
       "2  eidl ppp credit denial thing ’ just today hearing from friend that both her business were denied because her low credit score this new news before applied used company improve score didn’ have any...  \n",
       "3  like learn about getting clientele with momentum broke due this pandemic like lost everything broke have enough get bucket ladder scooper stabilizer and hose from lowe can return these item don ge...  \n",
       "4  owning two separate business while using the same phone number thinking about starting different llc than already have now have car detailing business and use cell phone how would about starting t...  "
      ]
     },
     "execution_count": 63,
     "metadata": {},
     "output_type": "execute_result"
    }
   ],
   "source": [
    "sentiment = []    \n",
    "\n",
    "for el in corpus:\n",
    "    scores = sia.polarity_scores(el)\n",
    "    scores['alltext'] = el\n",
    "    sentiment.append(scores)\n",
    "\n",
    "df_sentiment = pd.DataFrame(sentiment)\n",
    "df_sentiment.head()"
   ]
  },
  {
   "cell_type": "code",
   "execution_count": 64,
   "id": "swiss-rugby",
   "metadata": {
    "ExecuteTime": {
     "end_time": "2021-01-29T01:39:34.240592Z",
     "start_time": "2021-01-29T01:39:34.232411Z"
    }
   },
   "outputs": [
    {
     "data": {
      "text/html": [
       "<div>\n",
       "<style scoped>\n",
       "    .dataframe tbody tr th:only-of-type {\n",
       "        vertical-align: middle;\n",
       "    }\n",
       "\n",
       "    .dataframe tbody tr th {\n",
       "        vertical-align: top;\n",
       "    }\n",
       "\n",
       "    .dataframe thead th {\n",
       "        text-align: right;\n",
       "    }\n",
       "</style>\n",
       "<table border=\"1\" class=\"dataframe\">\n",
       "  <thead>\n",
       "    <tr style=\"text-align: right;\">\n",
       "      <th></th>\n",
       "      <th>title</th>\n",
       "      <th>created_utc</th>\n",
       "      <th>author</th>\n",
       "      <th>num_comments</th>\n",
       "      <th>score</th>\n",
       "      <th>is_self</th>\n",
       "      <th>alltext</th>\n",
       "      <th>target</th>\n",
       "    </tr>\n",
       "  </thead>\n",
       "  <tbody>\n",
       "    <tr>\n",
       "      <th>0</th>\n",
       "      <td>Gusto problems?</td>\n",
       "      <td>1610069013</td>\n",
       "      <td>[deleted]</td>\n",
       "      <td>0</td>\n",
       "      <td>1</td>\n",
       "      <td>True</td>\n",
       "      <td>gusto problem nan</td>\n",
       "      <td>0</td>\n",
       "    </tr>\n",
       "    <tr>\n",
       "      <th>1</th>\n",
       "      <td>Is there a way to spread out a windfall income over multiple years to decrease tax margin?</td>\n",
       "      <td>1610070146</td>\n",
       "      <td>if_yes_else_no</td>\n",
       "      <td>5</td>\n",
       "      <td>1</td>\n",
       "      <td>True</td>\n",
       "      <td>there way spread out windfall income over multiple year decrease tax margin business suddenly brings thousand time more income than ever ha one year through the sale very valuable asset there way ...</td>\n",
       "      <td>0</td>\n",
       "    </tr>\n",
       "    <tr>\n",
       "      <th>2</th>\n",
       "      <td>EIDL/PPP Credit Denials A Thing?</td>\n",
       "      <td>1610070921</td>\n",
       "      <td>WildFireBrand</td>\n",
       "      <td>3</td>\n",
       "      <td>1</td>\n",
       "      <td>True</td>\n",
       "      <td>eidl ppp credit denial thing ’ just today hearing from friend that both her business were denied because her low credit score this new news before applied used company improve score didn’ have any...</td>\n",
       "      <td>0</td>\n",
       "    </tr>\n",
       "    <tr>\n",
       "      <th>3</th>\n",
       "      <td>I'd like to learn about getting clientele with 0 momentum.</td>\n",
       "      <td>1610071223</td>\n",
       "      <td>OneBase</td>\n",
       "      <td>30</td>\n",
       "      <td>2</td>\n",
       "      <td>True</td>\n",
       "      <td>like learn about getting clientele with momentum broke due this pandemic like lost everything broke have enough get bucket ladder scooper stabilizer and hose from lowe can return these item don ge...</td>\n",
       "      <td>0</td>\n",
       "    </tr>\n",
       "    <tr>\n",
       "      <th>4</th>\n",
       "      <td>Owning two separate businesses while using the same phone number.</td>\n",
       "      <td>1610072846</td>\n",
       "      <td>TheFourthSon</td>\n",
       "      <td>17</td>\n",
       "      <td>1</td>\n",
       "      <td>True</td>\n",
       "      <td>owning two separate business while using the same phone number thinking about starting different llc than already have now have car detailing business and use cell phone how would about starting t...</td>\n",
       "      <td>0</td>\n",
       "    </tr>\n",
       "  </tbody>\n",
       "</table>\n",
       "</div>"
      ],
      "text/plain": [
       "                                                                                        title  \\\n",
       "0                                                                             Gusto problems?   \n",
       "1  Is there a way to spread out a windfall income over multiple years to decrease tax margin?   \n",
       "2                                                            EIDL/PPP Credit Denials A Thing?   \n",
       "3                                  I'd like to learn about getting clientele with 0 momentum.   \n",
       "4                           Owning two separate businesses while using the same phone number.   \n",
       "\n",
       "   created_utc          author  num_comments  score  is_self  \\\n",
       "0   1610069013       [deleted]             0      1     True   \n",
       "1   1610070146  if_yes_else_no             5      1     True   \n",
       "2   1610070921   WildFireBrand             3      1     True   \n",
       "3   1610071223         OneBase            30      2     True   \n",
       "4   1610072846    TheFourthSon            17      1     True   \n",
       "\n",
       "                                                                                                                                                                                                   alltext  \\\n",
       "0                                                                                                                                                                                       gusto problem nan    \n",
       "1  there way spread out windfall income over multiple year decrease tax margin business suddenly brings thousand time more income than ever ha one year through the sale very valuable asset there way ...   \n",
       "2  eidl ppp credit denial thing ’ just today hearing from friend that both her business were denied because her low credit score this new news before applied used company improve score didn’ have any...   \n",
       "3  like learn about getting clientele with momentum broke due this pandemic like lost everything broke have enough get bucket ladder scooper stabilizer and hose from lowe can return these item don ge...   \n",
       "4  owning two separate business while using the same phone number thinking about starting different llc than already have now have car detailing business and use cell phone how would about starting t...   \n",
       "\n",
       "   target  \n",
       "0       0  \n",
       "1       0  \n",
       "2       0  \n",
       "3       0  \n",
       "4       0  "
      ]
     },
     "execution_count": 64,
     "metadata": {},
     "output_type": "execute_result"
    }
   ],
   "source": [
    "df_sentiment['target'] = df['target']\n",
    "df.head(5)"
   ]
  },
  {
   "cell_type": "code",
   "execution_count": 143,
   "id": "alert-whole",
   "metadata": {
    "ExecuteTime": {
     "end_time": "2021-01-29T05:01:31.925063Z",
     "start_time": "2021-01-29T05:01:31.793509Z"
    }
   },
   "outputs": [
    {
     "data": {
      "image/png": "[encoded data removed]",
      "text/plain": [
       "<Figure size 432x288 with 1 Axes>"
      ]
     },
     "metadata": {
      "needs_background": "light"
     },
     "output_type": "display_data"
    }
   ],
   "source": [
    "df_sentiment.groupby('target').mean()[['pos', 'neg', 'compound']].plot(kind='barh')\n",
    "plt.title('Average Positive, Negative & Compound Scores');"
   ]
  },
  {
   "cell_type": "markdown",
   "id": "blessed-tennis",
   "metadata": {},
   "source": [
    "Sentiment In both subreddits are extreamely similar. For this reason the sentiment does not appear to be a good predictor of the subreddit. This also confirms how the two categories are similar, in the use that users do of the subreddit and the tone with wich they discuss topics."
   ]
  }
 ],
 "metadata": {
  "kernelspec": {
   "display_name": "Python 3",
   "language": "python",
   "name": "python3"
  },
  "language_info": {
   "codemirror_mode": {
    "name": "ipython",
    "version": 3
   },
   "file_extension": ".py",
   "mimetype": "text/x-python",
   "name": "python",
   "nbconvert_exporter": "python",
   "pygments_lexer": "ipython3",
   "version": "3.8.5"
  }
 },
 "nbformat": 4,
 "nbformat_minor": 5
}
