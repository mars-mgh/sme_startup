{
 "cells": [
  {
   "cell_type": "markdown",
   "id": "civilian-geology",
   "metadata": {},
   "source": [
    "# EDA and Cleaning"
   ]
  },
  {
   "cell_type": "markdown",
   "id": "intelligent-blame",
   "metadata": {},
   "source": [
    "## Introduction\n",
    "\n",
    "### Summary\n",
    "This project aimes to recognize the topics Small Business Owners and Startup owners discuss about on Reddit, their similarities, and differences. The results are targeted towards a Financial Institution, that is starting a new blog to attract companies at small size. This research investigates in what these two gruops differ for interest, and whether it might make sense to address them together or separately.\n",
    "\n",
    "\n",
    "### In this Notebook\n",
    "In this notebook I perform basic exploratory data analysis and consequential data cleaning.\n",
    "\n",
    "In particular I start by handling nulls, deleted posts and in general and removed ones.\n",
    "\n",
    "Then I decide to create a `alltext` feature, combining `title` and `subtext`.\n",
    "\n",
    "Also, I investigate potential differences in **engagement** for the two subreddits, starting with *comments* and moving on to *word count* and *post_lenght*. If I wold have find any significant difference or peculiarity I would have engineered features describing it; unfortunately the two subreddits look extremely similar.\n",
    "\n",
    "Then, to prepare my data for the modeling, I clean the text data using RegEx and lemmatize it.\n",
    "\n",
    "I decide to store the entirety of my text in the same columns, to reduce the potential confusion of handling too many features and keep my code and data as clean and clear as possible.\n",
    "\n",
    "At the end I export the dataframe as `corpus_clean.csv`, ready to be processed in the next notebook.\n",
    "\n",
    "\n",
    "\n",
    "### Notebook Index\n",
    "\n",
    "- [01 | Data Collection](01_data_collection.ipynb)\n",
    "- [02 | EDA & Cleaning](02_eda.ipynb)\n",
    "- [03 | Model](03_model.ipynb)\n",
    "- [04 | Sentiment Analysis](04_sentiment_analysis.ipynb)"
   ]
  },
  {
   "cell_type": "markdown",
   "id": "flush-compatibility",
   "metadata": {},
   "source": [
    "## 1. Imports"
   ]
  },
  {
   "cell_type": "code",
   "execution_count": 3,
   "id": "partial-workshop",
   "metadata": {
    "ExecuteTime": {
     "end_time": "2021-01-29T02:42:53.523249Z",
     "start_time": "2021-01-29T02:42:52.351709Z"
    }
   },
   "outputs": [],
   "source": [
    "import pandas as pd\n",
    "import numpy as np\n",
    "import matplotlib.pyplot as plt\n",
    "\n",
    "from nltk.tokenize import sent_tokenize, word_tokenize, RegexpTokenizer\n",
    "from nltk.stem import WordNetLemmatizer\n",
    "from nltk.stem.porter import PorterStemmer\n",
    "from nltk.corpus import stopwords\n",
    "from nltk.sentiment.vader import SentimentIntensityAnalyzer\n",
    "\n",
    "import re\n",
    "import string\n",
    "from sklearn.feature_extraction.text import CountVectorizer, TfidfVectorizer, TfidfTransformer\n",
    "from sklearn.feature_extraction import text"
   ]
  },
  {
   "cell_type": "markdown",
   "id": "alive-beginning",
   "metadata": {},
   "source": [
    "The following is a custom function that sets a custom palette and shows it for further reference."
   ]
  },
  {
   "cell_type": "code",
   "execution_count": 66,
   "id": "successful-status",
   "metadata": {
    "ExecuteTime": {
     "end_time": "2021-01-29T01:39:39.812536Z",
     "start_time": "2021-01-29T01:39:39.809203Z"
    }
   },
   "outputs": [],
   "source": [
    "def custom_pallete(custom_colors):\n",
    "    customPalette = sns.set_palette(sns.color_palette(custom_colors))\n",
    "    sns.palplot(sns.color_palette(custom_colors),size=0.8)\n",
    "    plt.tick_params(axis='both', labelsize=0, length = 0)"
   ]
  },
  {
   "cell_type": "code",
   "execution_count": 138,
   "id": "familiar-future",
   "metadata": {
    "ExecuteTime": {
     "end_time": "2021-01-29T05:01:19.664587Z",
     "start_time": "2021-01-29T05:01:19.621454Z"
    }
   },
   "outputs": [
    {
     "data": {
      "image/png": "[encoded data removed]",
      "text/plain": [
       "<Figure size 230.4x57.6 with 1 Axes>"
      ]
     },
     "metadata": {
      "needs_background": "light"
     },
     "output_type": "display_data"
    }
   ],
   "source": [
    "acqua = [\"#84B099\",\"#973276\",\"#CA8D89\", \"#E4F3E0\",\"#B5DEC8\",\"#9CC7B0\",\"#84B099\",\"#CFB384\",\"#F7BF7D\",\"#CA8D89\",\"#8959B9\",\"#973276\"]\n",
    "contrast =[\"#E26D5C\",\"#FFCD70\", \"#38618C\", '#723D46', '#472D30']\n",
    "project_3 = [\"#F9B310\",\"#047C9C\",\"#13C3CB\", \"#64D1D9\"]\n",
    "custom_pallete(project_3)"
   ]
  },
  {
   "cell_type": "code",
   "execution_count": 4,
   "id": "southeast-financing",
   "metadata": {
    "ExecuteTime": {
     "end_time": "2021-01-29T02:42:54.106664Z",
     "start_time": "2021-01-29T02:42:53.948717Z"
    }
   },
   "outputs": [],
   "source": [
    "df = pd.read_csv('../data/corpus.csv')"
   ]
  },
  {
   "cell_type": "code",
   "execution_count": 5,
   "id": "guided-sleeve",
   "metadata": {
    "ExecuteTime": {
     "end_time": "2021-01-29T02:42:54.454587Z",
     "start_time": "2021-01-29T02:42:54.439873Z"
    }
   },
   "outputs": [
    {
     "data": {
      "text/html": [
       "<div>\n",
       "<style scoped>\n",
       "    .dataframe tbody tr th:only-of-type {\n",
       "        vertical-align: middle;\n",
       "    }\n",
       "\n",
       "    .dataframe tbody tr th {\n",
       "        vertical-align: top;\n",
       "    }\n",
       "\n",
       "    .dataframe thead th {\n",
       "        text-align: right;\n",
       "    }\n",
       "</style>\n",
       "<table border=\"1\" class=\"dataframe\">\n",
       "  <thead>\n",
       "    <tr style=\"text-align: right;\">\n",
       "      <th></th>\n",
       "      <th>title</th>\n",
       "      <th>selftext</th>\n",
       "      <th>subreddit</th>\n",
       "      <th>created_utc</th>\n",
       "      <th>author</th>\n",
       "      <th>num_comments</th>\n",
       "      <th>score</th>\n",
       "      <th>is_self</th>\n",
       "    </tr>\n",
       "  </thead>\n",
       "  <tbody>\n",
       "    <tr>\n",
       "      <th>0</th>\n",
       "      <td>Gusto problems?</td>\n",
       "      <td>NaN</td>\n",
       "      <td>smallbusiness</td>\n",
       "      <td>1610069013</td>\n",
       "      <td>[deleted]</td>\n",
       "      <td>0</td>\n",
       "      <td>1</td>\n",
       "      <td>True</td>\n",
       "    </tr>\n",
       "    <tr>\n",
       "      <th>1</th>\n",
       "      <td>what would be the best way of calling potentia...</td>\n",
       "      <td>[removed]</td>\n",
       "      <td>smallbusiness</td>\n",
       "      <td>1610069951</td>\n",
       "      <td>wilsonckao</td>\n",
       "      <td>2</td>\n",
       "      <td>1</td>\n",
       "      <td>True</td>\n",
       "    </tr>\n",
       "    <tr>\n",
       "      <th>2</th>\n",
       "      <td>GURUS VS BOOKS</td>\n",
       "      <td>[removed]</td>\n",
       "      <td>smallbusiness</td>\n",
       "      <td>1610069955</td>\n",
       "      <td>Alpha12x</td>\n",
       "      <td>0</td>\n",
       "      <td>1</td>\n",
       "      <td>True</td>\n",
       "    </tr>\n",
       "    <tr>\n",
       "      <th>3</th>\n",
       "      <td>Is there a way to spread out a windfall income...</td>\n",
       "      <td>If my business suddenly brings in a thousand t...</td>\n",
       "      <td>smallbusiness</td>\n",
       "      <td>1610070146</td>\n",
       "      <td>if_yes_else_no</td>\n",
       "      <td>5</td>\n",
       "      <td>1</td>\n",
       "      <td>True</td>\n",
       "    </tr>\n",
       "    <tr>\n",
       "      <th>4</th>\n",
       "      <td>EIDL/PPP Credit Denials A Thing?</td>\n",
       "      <td>I’m just today hearing from my Friend that bot...</td>\n",
       "      <td>smallbusiness</td>\n",
       "      <td>1610070921</td>\n",
       "      <td>WildFireBrand</td>\n",
       "      <td>3</td>\n",
       "      <td>1</td>\n",
       "      <td>True</td>\n",
       "    </tr>\n",
       "  </tbody>\n",
       "</table>\n",
       "</div>"
      ],
      "text/plain": [
       "                                               title  \\\n",
       "0                                    Gusto problems?   \n",
       "1  what would be the best way of calling potentia...   \n",
       "2                                     GURUS VS BOOKS   \n",
       "3  Is there a way to spread out a windfall income...   \n",
       "4                   EIDL/PPP Credit Denials A Thing?   \n",
       "\n",
       "                                            selftext      subreddit  \\\n",
       "0                                                NaN  smallbusiness   \n",
       "1                                          [removed]  smallbusiness   \n",
       "2                                          [removed]  smallbusiness   \n",
       "3  If my business suddenly brings in a thousand t...  smallbusiness   \n",
       "4  I’m just today hearing from my Friend that bot...  smallbusiness   \n",
       "\n",
       "   created_utc          author  num_comments  score  is_self  \n",
       "0   1610069013       [deleted]             0      1     True  \n",
       "1   1610069951      wilsonckao             2      1     True  \n",
       "2   1610069955        Alpha12x             0      1     True  \n",
       "3   1610070146  if_yes_else_no             5      1     True  \n",
       "4   1610070921   WildFireBrand             3      1     True  "
      ]
     },
     "execution_count": 5,
     "metadata": {},
     "output_type": "execute_result"
    }
   ],
   "source": [
    "df.head()"
   ]
  },
  {
   "cell_type": "markdown",
   "id": "correct-montana",
   "metadata": {},
   "source": [
    "## 2. Cleaning"
   ]
  },
  {
   "cell_type": "markdown",
   "id": "controversial-moisture",
   "metadata": {},
   "source": [
    "I notce that many posts are marked as [removed] or [deleted] in selftext. I decide to drop those, as they are often spam."
   ]
  },
  {
   "cell_type": "code",
   "execution_count": 6,
   "id": "encouraging-logic",
   "metadata": {
    "ExecuteTime": {
     "end_time": "2021-01-29T02:42:55.375894Z",
     "start_time": "2021-01-29T02:42:55.365944Z"
    }
   },
   "outputs": [],
   "source": [
    "df['selftext'] = df['selftext'].map(lambda x: np.nan if x == '[removed]' or x == 'nan' or x == '[deleted]' else str(x))"
   ]
  },
  {
   "cell_type": "code",
   "execution_count": 8,
   "id": "colored-honduras",
   "metadata": {
    "ExecuteTime": {
     "end_time": "2021-01-29T02:42:56.303834Z",
     "start_time": "2021-01-29T02:42:56.289659Z"
    }
   },
   "outputs": [],
   "source": [
    "df = df.dropna(subset = ['selftext'])"
   ]
  },
  {
   "cell_type": "code",
   "execution_count": 9,
   "id": "breeding-strengthening",
   "metadata": {
    "ExecuteTime": {
     "end_time": "2021-01-29T02:42:56.748676Z",
     "start_time": "2021-01-29T02:42:56.738877Z"
    }
   },
   "outputs": [
    {
     "data": {
      "text/html": [
       "<div>\n",
       "<style scoped>\n",
       "    .dataframe tbody tr th:only-of-type {\n",
       "        vertical-align: middle;\n",
       "    }\n",
       "\n",
       "    .dataframe tbody tr th {\n",
       "        vertical-align: top;\n",
       "    }\n",
       "\n",
       "    .dataframe thead th {\n",
       "        text-align: right;\n",
       "    }\n",
       "</style>\n",
       "<table border=\"1\" class=\"dataframe\">\n",
       "  <thead>\n",
       "    <tr style=\"text-align: right;\">\n",
       "      <th></th>\n",
       "      <th>title</th>\n",
       "      <th>selftext</th>\n",
       "      <th>subreddit</th>\n",
       "      <th>created_utc</th>\n",
       "      <th>author</th>\n",
       "      <th>num_comments</th>\n",
       "      <th>score</th>\n",
       "      <th>is_self</th>\n",
       "    </tr>\n",
       "  </thead>\n",
       "  <tbody>\n",
       "    <tr>\n",
       "      <th>0</th>\n",
       "      <td>Gusto problems?</td>\n",
       "      <td>nan</td>\n",
       "      <td>smallbusiness</td>\n",
       "      <td>1610069013</td>\n",
       "      <td>[deleted]</td>\n",
       "      <td>0</td>\n",
       "      <td>1</td>\n",
       "      <td>True</td>\n",
       "    </tr>\n",
       "    <tr>\n",
       "      <th>3</th>\n",
       "      <td>Is there a way to spread out a windfall income...</td>\n",
       "      <td>If my business suddenly brings in a thousand t...</td>\n",
       "      <td>smallbusiness</td>\n",
       "      <td>1610070146</td>\n",
       "      <td>if_yes_else_no</td>\n",
       "      <td>5</td>\n",
       "      <td>1</td>\n",
       "      <td>True</td>\n",
       "    </tr>\n",
       "    <tr>\n",
       "      <th>4</th>\n",
       "      <td>EIDL/PPP Credit Denials A Thing?</td>\n",
       "      <td>I’m just today hearing from my Friend that bot...</td>\n",
       "      <td>smallbusiness</td>\n",
       "      <td>1610070921</td>\n",
       "      <td>WildFireBrand</td>\n",
       "      <td>3</td>\n",
       "      <td>1</td>\n",
       "      <td>True</td>\n",
       "    </tr>\n",
       "    <tr>\n",
       "      <th>5</th>\n",
       "      <td>I'd like to learn about getting clientele with...</td>\n",
       "      <td>I'm broke due to this pandemic. Like lost ever...</td>\n",
       "      <td>smallbusiness</td>\n",
       "      <td>1610071223</td>\n",
       "      <td>OneBase</td>\n",
       "      <td>30</td>\n",
       "      <td>2</td>\n",
       "      <td>True</td>\n",
       "    </tr>\n",
       "    <tr>\n",
       "      <th>7</th>\n",
       "      <td>Owning two separate businesses while using the...</td>\n",
       "      <td>I am thinking about starting up a different LL...</td>\n",
       "      <td>smallbusiness</td>\n",
       "      <td>1610072846</td>\n",
       "      <td>TheFourthSon</td>\n",
       "      <td>17</td>\n",
       "      <td>1</td>\n",
       "      <td>True</td>\n",
       "    </tr>\n",
       "  </tbody>\n",
       "</table>\n",
       "</div>"
      ],
      "text/plain": [
       "                                               title  \\\n",
       "0                                    Gusto problems?   \n",
       "3  Is there a way to spread out a windfall income...   \n",
       "4                   EIDL/PPP Credit Denials A Thing?   \n",
       "5  I'd like to learn about getting clientele with...   \n",
       "7  Owning two separate businesses while using the...   \n",
       "\n",
       "                                            selftext      subreddit  \\\n",
       "0                                                nan  smallbusiness   \n",
       "3  If my business suddenly brings in a thousand t...  smallbusiness   \n",
       "4  I’m just today hearing from my Friend that bot...  smallbusiness   \n",
       "5  I'm broke due to this pandemic. Like lost ever...  smallbusiness   \n",
       "7  I am thinking about starting up a different LL...  smallbusiness   \n",
       "\n",
       "   created_utc          author  num_comments  score  is_self  \n",
       "0   1610069013       [deleted]             0      1     True  \n",
       "3   1610070146  if_yes_else_no             5      1     True  \n",
       "4   1610070921   WildFireBrand             3      1     True  \n",
       "5   1610071223         OneBase            30      2     True  \n",
       "7   1610072846    TheFourthSon            17      1     True  "
      ]
     },
     "execution_count": 9,
     "metadata": {},
     "output_type": "execute_result"
    }
   ],
   "source": [
    "df.head()"
   ]
  },
  {
   "cell_type": "code",
   "execution_count": 10,
   "id": "former-victor",
   "metadata": {
    "ExecuteTime": {
     "end_time": "2021-01-29T02:42:57.241785Z",
     "start_time": "2021-01-29T02:42:57.233476Z"
    }
   },
   "outputs": [
    {
     "data": {
      "text/plain": [
       "title           0\n",
       "selftext        0\n",
       "subreddit       0\n",
       "created_utc     0\n",
       "author          0\n",
       "num_comments    0\n",
       "score           0\n",
       "is_self         0\n",
       "dtype: int64"
      ]
     },
     "execution_count": 10,
     "metadata": {},
     "output_type": "execute_result"
    }
   ],
   "source": [
    "df.isnull().sum()"
   ]
  },
  {
   "cell_type": "markdown",
   "id": "minute-difference",
   "metadata": {},
   "source": [
    "Verified that I do not have any more Nulls in my data I check the shape."
   ]
  },
  {
   "cell_type": "code",
   "execution_count": 11,
   "id": "liberal-timing",
   "metadata": {
    "ExecuteTime": {
     "end_time": "2021-01-29T02:42:57.687271Z",
     "start_time": "2021-01-29T02:42:57.683670Z"
    }
   },
   "outputs": [
    {
     "data": {
      "text/plain": [
       "(11929, 8)"
      ]
     },
     "execution_count": 11,
     "metadata": {},
     "output_type": "execute_result"
    }
   ],
   "source": [
    "df.shape"
   ]
  },
  {
   "cell_type": "markdown",
   "id": "formed-paintball",
   "metadata": {},
   "source": [
    "Veryfied that I have 11929 rows to work with, having exclude the empty `'selftext'` rows, I proceed veryfing the number of posts I have for each subreddit."
   ]
  },
  {
   "cell_type": "code",
   "execution_count": 12,
   "id": "temporal-conjunction",
   "metadata": {
    "ExecuteTime": {
     "end_time": "2021-01-29T02:42:58.655774Z",
     "start_time": "2021-01-29T02:42:58.649776Z"
    }
   },
   "outputs": [
    {
     "data": {
      "text/plain": [
       "smallbusiness    7406\n",
       "startups         4523\n",
       "Name: subreddit, dtype: int64"
      ]
     },
     "execution_count": 12,
     "metadata": {},
     "output_type": "execute_result"
    }
   ],
   "source": [
    "df['subreddit'].value_counts()"
   ]
  },
  {
   "cell_type": "markdown",
   "id": "explicit-track",
   "metadata": {},
   "source": [
    "Small business sample size is bigger than startups, but both seem large enough to continue with the analysis."
   ]
  },
  {
   "cell_type": "markdown",
   "id": "hollywood-floor",
   "metadata": {},
   "source": [
    "### Consolidate Text\n",
    "\n",
    "I decide to combine title and selftext in a unique feature. This is bcecause many questions seems to start from the title and I want to maximize the amount of text I will work on."
   ]
  },
  {
   "cell_type": "code",
   "execution_count": 15,
   "id": "trained-convert",
   "metadata": {
    "ExecuteTime": {
     "end_time": "2021-01-29T02:43:03.213995Z",
     "start_time": "2021-01-29T02:43:03.195644Z"
    }
   },
   "outputs": [],
   "source": [
    "df['alltext'] = df['title'] + ' ' + df['selftext']"
   ]
  },
  {
   "cell_type": "code",
   "execution_count": 16,
   "id": "least-newton",
   "metadata": {
    "ExecuteTime": {
     "end_time": "2021-01-29T02:43:03.718282Z",
     "start_time": "2021-01-29T02:43:03.711752Z"
    }
   },
   "outputs": [],
   "source": [
    "df = df.drop(columns = 'selftext')"
   ]
  },
  {
   "cell_type": "markdown",
   "id": "floppy-utility",
   "metadata": {},
   "source": [
    "### Target\n",
    "\n",
    "I want to predict 'subreddit', so I modify the current `subreddit` feature into `target` and set startups = 1, smallbusiness = 0."
   ]
  },
  {
   "cell_type": "code",
   "execution_count": 17,
   "id": "environmental-garden",
   "metadata": {
    "ExecuteTime": {
     "end_time": "2021-01-29T02:43:04.691689Z",
     "start_time": "2021-01-29T02:43:04.678388Z"
    }
   },
   "outputs": [
    {
     "data": {
      "text/html": [
       "<div>\n",
       "<style scoped>\n",
       "    .dataframe tbody tr th:only-of-type {\n",
       "        vertical-align: middle;\n",
       "    }\n",
       "\n",
       "    .dataframe tbody tr th {\n",
       "        vertical-align: top;\n",
       "    }\n",
       "\n",
       "    .dataframe thead th {\n",
       "        text-align: right;\n",
       "    }\n",
       "</style>\n",
       "<table border=\"1\" class=\"dataframe\">\n",
       "  <thead>\n",
       "    <tr style=\"text-align: right;\">\n",
       "      <th></th>\n",
       "      <th>title</th>\n",
       "      <th>created_utc</th>\n",
       "      <th>author</th>\n",
       "      <th>num_comments</th>\n",
       "      <th>score</th>\n",
       "      <th>is_self</th>\n",
       "      <th>alltext</th>\n",
       "      <th>target</th>\n",
       "    </tr>\n",
       "  </thead>\n",
       "  <tbody>\n",
       "    <tr>\n",
       "      <th>0</th>\n",
       "      <td>Gusto problems?</td>\n",
       "      <td>1610069013</td>\n",
       "      <td>[deleted]</td>\n",
       "      <td>0</td>\n",
       "      <td>1</td>\n",
       "      <td>True</td>\n",
       "      <td>Gusto problems? nan</td>\n",
       "      <td>0</td>\n",
       "    </tr>\n",
       "    <tr>\n",
       "      <th>3</th>\n",
       "      <td>Is there a way to spread out a windfall income...</td>\n",
       "      <td>1610070146</td>\n",
       "      <td>if_yes_else_no</td>\n",
       "      <td>5</td>\n",
       "      <td>1</td>\n",
       "      <td>True</td>\n",
       "      <td>Is there a way to spread out a windfall income...</td>\n",
       "      <td>0</td>\n",
       "    </tr>\n",
       "    <tr>\n",
       "      <th>4</th>\n",
       "      <td>EIDL/PPP Credit Denials A Thing?</td>\n",
       "      <td>1610070921</td>\n",
       "      <td>WildFireBrand</td>\n",
       "      <td>3</td>\n",
       "      <td>1</td>\n",
       "      <td>True</td>\n",
       "      <td>EIDL/PPP Credit Denials A Thing? I’m just toda...</td>\n",
       "      <td>0</td>\n",
       "    </tr>\n",
       "    <tr>\n",
       "      <th>5</th>\n",
       "      <td>I'd like to learn about getting clientele with...</td>\n",
       "      <td>1610071223</td>\n",
       "      <td>OneBase</td>\n",
       "      <td>30</td>\n",
       "      <td>2</td>\n",
       "      <td>True</td>\n",
       "      <td>I'd like to learn about getting clientele with...</td>\n",
       "      <td>0</td>\n",
       "    </tr>\n",
       "    <tr>\n",
       "      <th>7</th>\n",
       "      <td>Owning two separate businesses while using the...</td>\n",
       "      <td>1610072846</td>\n",
       "      <td>TheFourthSon</td>\n",
       "      <td>17</td>\n",
       "      <td>1</td>\n",
       "      <td>True</td>\n",
       "      <td>Owning two separate businesses while using the...</td>\n",
       "      <td>0</td>\n",
       "    </tr>\n",
       "  </tbody>\n",
       "</table>\n",
       "</div>"
      ],
      "text/plain": [
       "                                               title  created_utc  \\\n",
       "0                                    Gusto problems?   1610069013   \n",
       "3  Is there a way to spread out a windfall income...   1610070146   \n",
       "4                   EIDL/PPP Credit Denials A Thing?   1610070921   \n",
       "5  I'd like to learn about getting clientele with...   1610071223   \n",
       "7  Owning two separate businesses while using the...   1610072846   \n",
       "\n",
       "           author  num_comments  score  is_self  \\\n",
       "0       [deleted]             0      1     True   \n",
       "3  if_yes_else_no             5      1     True   \n",
       "4   WildFireBrand             3      1     True   \n",
       "5         OneBase            30      2     True   \n",
       "7    TheFourthSon            17      1     True   \n",
       "\n",
       "                                             alltext  target  \n",
       "0                                Gusto problems? nan       0  \n",
       "3  Is there a way to spread out a windfall income...       0  \n",
       "4  EIDL/PPP Credit Denials A Thing? I’m just toda...       0  \n",
       "5  I'd like to learn about getting clientele with...       0  \n",
       "7  Owning two separate businesses while using the...       0  "
      ]
     },
     "execution_count": 17,
     "metadata": {},
     "output_type": "execute_result"
    }
   ],
   "source": [
    "df['target'] = df['subreddit'].map({'startups': 1, 'smallbusiness': 0})\n",
    "df.drop('subreddit', axis=1, inplace=True)\n",
    "df.head()"
   ]
  },
  {
   "cell_type": "markdown",
   "id": "interesting-mongolia",
   "metadata": {},
   "source": [
    "### Text Cleaning\n",
    "\n",
    "The following function accepts a string of text and, after turnin it lowercase, uses RegEx to clean it from whitespaces, special characters, hyperlinks and punctuations. I also decided to remove all words of 2 or less charcters.\n",
    "\n",
    "This function was inspired by stackoverflow https://stackoverflow.com/questions/55187374/cleaning-text-with-python-and-re"
   ]
  },
  {
   "cell_type": "code",
   "execution_count": 18,
   "id": "together-company",
   "metadata": {
    "ExecuteTime": {
     "end_time": "2021-01-29T02:43:05.652527Z",
     "start_time": "2021-01-29T02:43:05.648435Z"
    }
   },
   "outputs": [],
   "source": [
    "def cleaner(txt):\n",
    "    \"\"\"cleaner accepts a string\"\"\"\n",
    "    # Make lowercase\n",
    "    txt = txt.lower()\n",
    "\n",
    "    # Handle formatting characters (e.g. &amp)\n",
    "    txt = re.sub(r'\\&\\w*;', '', txt)\n",
    "    \n",
    "    # Delete whitespaces\n",
    "    txt = re.sub(r'\\s\\s+', ' ', txt)\n",
    "    \n",
    "    # Exclude hyperlinks\n",
    "    txt = re.sub(r'https?:\\/\\/.*\\/\\w*', '', txt)\n",
    "    \n",
    "    # Handle punctuation and 's, 't, 've \n",
    "    txt = re.sub(r'[' + string.punctuation.replace('@', '') + ']+', ' ', txt)\n",
    "    \n",
    "    # Delete words less than 2 letters\n",
    "    txt = re.sub(r'\\b\\w{1,2}\\b', '', txt)\n",
    "    \n",
    "    # Remove characters outside Unicode:\n",
    "    txt = ''.join(l for l in txt if l <= '\\uFFFF')\n",
    "    \n",
    "    return txt"
   ]
  },
  {
   "cell_type": "code",
   "execution_count": 19,
   "id": "blond-inquiry",
   "metadata": {
    "ExecuteTime": {
     "end_time": "2021-01-29T02:43:07.683072Z",
     "start_time": "2021-01-29T02:43:06.211706Z"
    }
   },
   "outputs": [],
   "source": [
    "df['alltext'] = df['alltext'].apply(cleaner)"
   ]
  },
  {
   "cell_type": "markdown",
   "id": "southern-chester",
   "metadata": {},
   "source": [
    "### Lemmatize\n",
    "\n",
    "I create a function to lemmatize the words in the cleaned text, and store it back into a string.\n",
    "\n",
    "I decided for this approach after having read many blogs and stackoverflow posts."
   ]
  },
  {
   "cell_type": "code",
   "execution_count": 20,
   "id": "rational-gnome",
   "metadata": {
    "ExecuteTime": {
     "end_time": "2021-01-29T02:43:07.688302Z",
     "start_time": "2021-01-29T02:43:07.684726Z"
    }
   },
   "outputs": [],
   "source": [
    "lemmatizer = WordNetLemmatizer()\n",
    "\n",
    "def lemmatize_words(txt):\n",
    "    \"\"\"lemmatize words accepts a string\"\"\"\n",
    "    words = txt.split()\n",
    "    lem_words = ''\n",
    "    for word in words:\n",
    "        lem_words += (lemmatizer.lemmatize(word) + ' ')\n",
    "    return lem_words"
   ]
  },
  {
   "cell_type": "code",
   "execution_count": 21,
   "id": "auburn-swing",
   "metadata": {
    "ExecuteTime": {
     "end_time": "2021-01-29T02:43:13.130527Z",
     "start_time": "2021-01-29T02:43:08.030501Z"
    }
   },
   "outputs": [],
   "source": [
    "df['alltext'] = df['alltext'].apply(lemmatize_words)"
   ]
  },
  {
   "cell_type": "code",
   "execution_count": 22,
   "id": "respiratory-boring",
   "metadata": {
    "ExecuteTime": {
     "end_time": "2021-01-29T02:43:13.135485Z",
     "start_time": "2021-01-29T02:43:13.132205Z"
    }
   },
   "outputs": [
    {
     "data": {
      "text/plain": [
       "(11929, 8)"
      ]
     },
     "execution_count": 22,
     "metadata": {},
     "output_type": "execute_result"
    }
   ],
   "source": [
    "df.shape"
   ]
  },
  {
   "cell_type": "code",
   "execution_count": 23,
   "id": "loose-interest",
   "metadata": {
    "ExecuteTime": {
     "end_time": "2021-01-29T02:43:14.292516Z",
     "start_time": "2021-01-29T02:43:14.289044Z"
    }
   },
   "outputs": [],
   "source": [
    "df = df.reset_index(drop=True)"
   ]
  },
  {
   "cell_type": "code",
   "execution_count": 24,
   "id": "nutritional-fabric",
   "metadata": {
    "ExecuteTime": {
     "end_time": "2021-01-29T02:43:14.833796Z",
     "start_time": "2021-01-29T02:43:14.826239Z"
    }
   },
   "outputs": [
    {
     "data": {
      "text/plain": [
       "title           0\n",
       "created_utc     0\n",
       "author          0\n",
       "num_comments    0\n",
       "score           0\n",
       "is_self         0\n",
       "alltext         0\n",
       "target          0\n",
       "dtype: int64"
      ]
     },
     "execution_count": 24,
     "metadata": {},
     "output_type": "execute_result"
    }
   ],
   "source": [
    "df.isnull().sum()"
   ]
  },
  {
   "cell_type": "markdown",
   "id": "desirable-chapel",
   "metadata": {},
   "source": [
    "## 3. Feature Engineering\n",
    "For my feature engineering I investigate engagement in the two subreddits.\n",
    "### Comments"
   ]
  },
  {
   "cell_type": "code",
   "execution_count": 13,
   "id": "loose-plasma",
   "metadata": {
    "ExecuteTime": {
     "end_time": "2021-01-29T02:42:59.707916Z",
     "start_time": "2021-01-29T02:42:59.686529Z"
    }
   },
   "outputs": [
    {
     "data": {
      "text/html": [
       "<div>\n",
       "<style scoped>\n",
       "    .dataframe tbody tr th:only-of-type {\n",
       "        vertical-align: middle;\n",
       "    }\n",
       "\n",
       "    .dataframe tbody tr th {\n",
       "        vertical-align: top;\n",
       "    }\n",
       "\n",
       "    .dataframe thead th {\n",
       "        text-align: right;\n",
       "    }\n",
       "</style>\n",
       "<table border=\"1\" class=\"dataframe\">\n",
       "  <thead>\n",
       "    <tr style=\"text-align: right;\">\n",
       "      <th></th>\n",
       "      <th>count</th>\n",
       "      <th>mean</th>\n",
       "      <th>std</th>\n",
       "      <th>min</th>\n",
       "      <th>25%</th>\n",
       "      <th>50%</th>\n",
       "      <th>75%</th>\n",
       "      <th>max</th>\n",
       "    </tr>\n",
       "    <tr>\n",
       "      <th>subreddit</th>\n",
       "      <th></th>\n",
       "      <th></th>\n",
       "      <th></th>\n",
       "      <th></th>\n",
       "      <th></th>\n",
       "      <th></th>\n",
       "      <th></th>\n",
       "      <th></th>\n",
       "    </tr>\n",
       "  </thead>\n",
       "  <tbody>\n",
       "    <tr>\n",
       "      <th>smallbusiness</th>\n",
       "      <td>7406.0</td>\n",
       "      <td>10.675263</td>\n",
       "      <td>20.056605</td>\n",
       "      <td>0.0</td>\n",
       "      <td>2.0</td>\n",
       "      <td>5.0</td>\n",
       "      <td>11.0</td>\n",
       "      <td>425.0</td>\n",
       "    </tr>\n",
       "    <tr>\n",
       "      <th>startups</th>\n",
       "      <td>4523.0</td>\n",
       "      <td>12.445722</td>\n",
       "      <td>29.673758</td>\n",
       "      <td>0.0</td>\n",
       "      <td>2.0</td>\n",
       "      <td>5.0</td>\n",
       "      <td>13.0</td>\n",
       "      <td>692.0</td>\n",
       "    </tr>\n",
       "  </tbody>\n",
       "</table>\n",
       "</div>"
      ],
      "text/plain": [
       "                count       mean        std  min  25%  50%   75%    max\n",
       "subreddit                                                              \n",
       "smallbusiness  7406.0  10.675263  20.056605  0.0  2.0  5.0  11.0  425.0\n",
       "startups       4523.0  12.445722  29.673758  0.0  2.0  5.0  13.0  692.0"
      ]
     },
     "execution_count": 13,
     "metadata": {},
     "output_type": "execute_result"
    }
   ],
   "source": [
    "(df['num_comments']).groupby(df['subreddit']).describe()"
   ]
  },
  {
   "cell_type": "markdown",
   "id": "charitable-tuner",
   "metadata": {},
   "source": [
    "Both samples seems to behave similarly: the average number of comment for posts in both subreddits is a little over 10, and, even if the largest amount of comments is a little higher for startups (692) than small business (425), they are clearly both outliers, and not significant for a feature to be included."
   ]
  },
  {
   "cell_type": "markdown",
   "id": "knowing-sentence",
   "metadata": {},
   "source": [
    "### Post Lenght"
   ]
  },
  {
   "cell_type": "code",
   "execution_count": 139,
   "id": "comfortable-indication",
   "metadata": {
    "ExecuteTime": {
     "end_time": "2021-01-29T05:01:21.002922Z",
     "start_time": "2021-01-29T05:01:20.993601Z"
    }
   },
   "outputs": [],
   "source": [
    "df['post_lenght'] = df['alltext'].str.len()"
   ]
  },
  {
   "cell_type": "code",
   "execution_count": 144,
   "id": "communist-springfield",
   "metadata": {
    "ExecuteTime": {
     "end_time": "2021-01-29T05:07:35.560506Z",
     "start_time": "2021-01-29T05:07:35.347747Z"
    },
    "scrolled": false
   },
   "outputs": [
    {
     "data": {
      "image/png": "[encoded data removed]",
      "text/plain": [
       "<Figure size 360x360 with 1 Axes>"
      ]
     },
     "metadata": {
      "needs_background": "light"
     },
     "output_type": "display_data"
    }
   ],
   "source": [
    "g = sns.displot(df, x=\"post_lenght\", hue=\"target\", legend=False, element=\"step\")\n",
    "plt.xlim(-1,3000)\n",
    "plt.title(\"Post Length Distribution per Subreddit\\nexcluding outliers (>300)\")\n",
    "plt.legend(title='Subreddit', loc='upper right', labels=['Startup', 'Small Business'])\n",
    "plt.show(g)"
   ]
  },
  {
   "cell_type": "markdown",
   "id": "removable-whole",
   "metadata": {},
   "source": [
    "The post length distribution is extreamely similar across the two subreddits, and the overlap seems too much for an additional feature to add meaning to the model."
   ]
  },
  {
   "cell_type": "markdown",
   "id": "isolated-tonight",
   "metadata": {},
   "source": [
    "### Word Count"
   ]
  },
  {
   "cell_type": "code",
   "execution_count": 140,
   "id": "hourly-calculation",
   "metadata": {
    "ExecuteTime": {
     "end_time": "2021-01-29T05:01:21.629242Z",
     "start_time": "2021-01-29T05:01:21.464128Z"
    }
   },
   "outputs": [],
   "source": [
    "df['post_word_count'] = df['alltext'].str.split().str.len()"
   ]
  },
  {
   "cell_type": "code",
   "execution_count": 141,
   "id": "annual-equivalent",
   "metadata": {
    "ExecuteTime": {
     "end_time": "2021-01-29T05:01:22.411549Z",
     "start_time": "2021-01-29T05:01:22.185431Z"
    },
    "scrolled": true
   },
   "outputs": [
    {
     "data": {
      "image/png": "[encoded data removed]",
      "text/plain": [
       "<Figure size 360x360 with 1 Axes>"
      ]
     },
     "metadata": {
      "needs_background": "light"
     },
     "output_type": "display_data"
    }
   ],
   "source": [
    "g = sns.displot(df, x=\"post_word_count\", hue=\"target\", legend=False, element=\"step\")\n",
    "plt.xlim(-1,500)\n",
    "plt.title(\"Word Count Distribution per Subreddit\\nexcluding outliers(>500)\")\n",
    "plt.legend(title='Subreddit', loc='upper right', labels=['Startup', 'Small Business'])\n",
    "plt.show(g)"
   ]
  },
  {
   "cell_type": "markdown",
   "id": "little-rocket",
   "metadata": {},
   "source": [
    "Same as per the post length, also the word count appears to be extremely similar and, even if **Startups** seems to be having lower word count, it does not appear to be a significantly different, to inform a better predictive model."
   ]
  },
  {
   "cell_type": "markdown",
   "id": "fancy-vermont",
   "metadata": {},
   "source": [
    "### Most common words\n",
    "\n",
    "To investigate further the content of the text, I run the text through a custo function, to identify common words.\n",
    "This uses count vectorizer and return a list of the most common n words."
   ]
  },
  {
   "cell_type": "code",
   "execution_count": 26,
   "id": "interesting-toner",
   "metadata": {
    "ExecuteTime": {
     "end_time": "2021-01-29T02:43:16.721137Z",
     "start_time": "2021-01-29T02:43:16.717491Z"
    },
    "code_folding": []
   },
   "outputs": [],
   "source": [
    "def common_words(i, n_words, stopwords):\n",
    "    \"\"\"Get the most frequent *n* words\n",
    "    in the 'alltext' feature for 'target' equal 0 or 1.\n",
    "    \"\"\"\n",
    "    count_vect = CountVectorizer(analyzer = \"word\", \n",
    "                                 tokenizer = None, \n",
    "                                 preprocessor = None,\n",
    "                                 stop_words = stopwords, \n",
    "                                 max_features = n_words) \n",
    "\n",
    "    # select input for CVectorizer\n",
    "    vector_input = df[df['target'] == i]['alltext']\n",
    "\n",
    "    # fit_transform the vectorizer\n",
    "    words = count_vect.fit_transform(vector_input)\n",
    "\n",
    "    # convert output to a Numpy array\n",
    "    words = words.toarray()\n",
    "    return  count_vect.get_feature_names()"
   ]
  },
  {
   "cell_type": "code",
   "execution_count": 27,
   "id": "trying-northern",
   "metadata": {
    "ExecuteTime": {
     "end_time": "2021-01-29T02:43:17.636345Z",
     "start_time": "2021-01-29T02:43:17.257114Z"
    }
   },
   "outputs": [],
   "source": [
    "startup_words = common_words(1, 40, 'english')"
   ]
  },
  {
   "cell_type": "code",
   "execution_count": 29,
   "id": "incredible-tradition",
   "metadata": {
    "ExecuteTime": {
     "end_time": "2021-01-29T02:43:18.947916Z",
     "start_time": "2021-01-29T02:43:18.516410Z"
    }
   },
   "outputs": [],
   "source": [
    "smb_words = common_words(0, 40, 'english')"
   ]
  },
  {
   "cell_type": "code",
   "execution_count": 28,
   "id": "comparative-james",
   "metadata": {
    "ExecuteTime": {
     "end_time": "2021-01-29T02:43:17.892578Z",
     "start_time": "2021-01-29T02:43:17.889972Z"
    }
   },
   "outputs": [
    {
     "name": "stdout",
     "output_type": "stream",
     "text": [
      "['app', 'business', 'company', 'customer', 'don', 'feedback', 'founder', 'good', 'ha', 'help', 'idea', 'just', 'know', 'like', 'looking', 'make', 'marketing', 'money', 'month', 'need', 'new', 'people', 'product', 'question', 'really', 'service', 'start', 'startup', 'thing', 'think', 'time', 'use', 'user', 'wa', 'want', 'way', 'website', 'work', 'working', 'year']\n"
     ]
    }
   ],
   "source": [
    "print(startup_words)"
   ]
  },
  {
   "cell_type": "code",
   "execution_count": 30,
   "id": "compressed-vinyl",
   "metadata": {
    "ExecuteTime": {
     "end_time": "2021-01-29T02:43:19.127259Z",
     "start_time": "2021-01-29T02:43:19.124728Z"
    }
   },
   "outputs": [
    {
     "name": "stdout",
     "output_type": "stream",
     "text": [
      "['advice', 'business', 'client', 'company', 'customer', 'day', 'don', 'employee', 'good', 'ha', 'help', 'idea', 'just', 'know', 'like', 'looking', 'make', 'money', 'month', 'need', 'new', 'owner', 'people', 'product', 'question', 'really', 'sale', 'service', 'small', 'start', 'thanks', 'thing', 'time', 'use', 'wa', 'want', 'way', 'website', 'work', 'year']\n"
     ]
    }
   ],
   "source": [
    "print(smb_words)"
   ]
  },
  {
   "cell_type": "markdown",
   "id": "circular-novel",
   "metadata": {},
   "source": [
    "From running this function I notice that:\n",
    "\n",
    "- `x200b` value is a formatting feature, that I will add to stop_words.\n",
    "\n",
    "- `don` is a residual from \"don't\" that I will also add to stopwords."
   ]
  },
  {
   "cell_type": "code",
   "execution_count": 31,
   "id": "neutral-completion",
   "metadata": {
    "ExecuteTime": {
     "end_time": "2021-01-29T02:43:20.274357Z",
     "start_time": "2021-01-29T02:43:20.271895Z"
    }
   },
   "outputs": [],
   "source": [
    "text.ENGLISH_STOP_WORDS\n",
    "\n",
    "add_stop_words = ['don', 'x200b']\n",
    "\n",
    "stop_words = text.ENGLISH_STOP_WORDS.union(add_stop_words)"
   ]
  },
  {
   "cell_type": "code",
   "execution_count": 32,
   "id": "controlled-forestry",
   "metadata": {
    "ExecuteTime": {
     "end_time": "2021-01-29T02:43:21.373442Z",
     "start_time": "2021-01-29T02:43:20.993700Z"
    }
   },
   "outputs": [
    {
     "name": "stdout",
     "output_type": "stream",
     "text": [
      "['app', 'business', 'company', 'customer', 'experience', 'feedback', 'founder', 'free', 'good', 'help', 'idea', 'know', 'like', 'looking', 'make', 'marketing', 'money', 'month', 'need', 'new', 'people', 'post', 'product', 'question', 'really', 'service', 'start', 'startup', 'team', 'thing', 'think', 'time', 'use', 'user', 'want', 'way', 'website', 'work', 'working', 'year']\n"
     ]
    }
   ],
   "source": [
    "startup_words = common_words(1, 40, stop_words)\n",
    "print(startup_words)"
   ]
  },
  {
   "cell_type": "code",
   "execution_count": 140,
   "id": "compatible-invite",
   "metadata": {
    "ExecuteTime": {
     "end_time": "2021-01-28T17:23:48.912412Z",
     "start_time": "2021-01-28T17:23:48.401771Z"
    },
    "scrolled": true
   },
   "outputs": [
    {
     "name": "stdout",
     "output_type": "stream",
     "text": [
      "['advice', 'business', 'client', 'company', 'customer', 'day', 'employee', 'good', 'help', 'idea', 'know', 'like', 'looking', 'make', 'money', 'month', 'need', 'new', 'online', 'owner', 'pay', 'people', 'product', 'question', 'really', 'sale', 'service', 'small', 'start', 'tax', 'thanks', 'thing', 'think', 'time', 'use', 'want', 'way', 'website', 'work', 'year']\n"
     ]
    }
   ],
   "source": [
    "smb_words = common_words(0, 40, stop_words)\n",
    "print(smb_words)"
   ]
  },
  {
   "cell_type": "markdown",
   "id": "separated-celtic",
   "metadata": {},
   "source": [
    "Between the two subreddits I recognize some common words and some specific words. This shows me that I still have to be mindful of the big overlap of these conversations, but also suggests that keywords could inform models and help predict better the terget.\n",
    "\n",
    "In particular it is interesting to highlight that Startups refer to HR issues using the words `team`, `people`, and Small Business with `employee`.\n",
    "\n",
    "## 4. Export Dataframe"
   ]
  },
  {
   "cell_type": "code",
   "execution_count": 25,
   "id": "furnished-bleeding",
   "metadata": {
    "ExecuteTime": {
     "end_time": "2021-01-29T02:43:15.588123Z",
     "start_time": "2021-01-29T02:43:15.369344Z"
    }
   },
   "outputs": [],
   "source": [
    "df.to_csv('../data/corpus_clean.csv', index=False)"
   ]
  }
 ],
 "metadata": {
  "kernelspec": {
   "display_name": "Python 3",
   "language": "python",
   "name": "python3"
  },
  "language_info": {
   "codemirror_mode": {
    "name": "ipython",
    "version": 3
   },
   "file_extension": ".py",
   "mimetype": "text/x-python",
   "name": "python",
   "nbconvert_exporter": "python",
   "pygments_lexer": "ipython3",
   "version": "3.8.5"
  }
 },
 "nbformat": 4,
 "nbformat_minor": 5
}
