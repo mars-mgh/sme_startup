{
 "cells": [
  {
   "cell_type": "markdown",
   "metadata": {},
   "source": [
    "# Talk Business\n",
    "## General Assembly | Data Science Intensive | Project 3"
   ]
  },
  {
   "cell_type": "markdown",
   "metadata": {},
   "source": [
    "## Introduction\n",
    "\n",
    "### Summary\n",
    "This project aimes to recognize the topics Small Business Owners and Startup owners discuss about on Reddit, their similarities, and differences. The results are targeted towards a Financial Institution, that is starting a new blog to attract companies at small size. This research investigates in what these two gruops differ for interest, and whether it might make sense to address them together or separately.\n",
    "\n",
    "### Source\n",
    "Data are pulled from **r/stratups** and **r/smallbusiness** subreddits. Both are among the most activeon Finance & Business section on Reddit.\n",
    "\n",
    "### In this Notebook\n",
    "In this notebook I use a function to collect data from my subreddits using the PushShift API, concatenate the dataframes resulting from the export.\n",
    "\n",
    "At the end I export the dataframe as `corpus.csv`, to be processed in the next notebook.\n",
    "\n",
    "\n",
    "\n",
    "### Notebook Index\n",
    "\n",
    "- [01 | Data Collection](01_data_collection.ipynb)\n",
    "- [02 | EDA & Cleaning](02_eda.ipynb)\n",
    "- [03 | Model](03_model.ipynb)\n",
    "- [04 | Sentiment Analysis](04_sentiment_analysis.ipynb)"
   ]
  },
  {
   "cell_type": "markdown",
   "metadata": {},
   "source": [
    "## 1. Imports & Preliminary Checks\n",
    "\n",
    "For this notebook I import pandas and numpy used to handle and export the dataframes, together with  time and request, used in the function below."
   ]
  },
  {
   "cell_type": "code",
   "execution_count": 21,
   "metadata": {
    "ExecuteTime": {
     "end_time": "2021-01-28T00:57:20.988384Z",
     "start_time": "2021-01-28T00:57:20.985789Z"
    }
   },
   "outputs": [],
   "source": [
    "import pandas as pd\n",
    "import numpy as np\n",
    "\n",
    "import requests\n",
    "import time"
   ]
  },
  {
   "cell_type": "markdown",
   "metadata": {},
   "source": [
    "First I check that the APIs are working and I am connecting properly."
   ]
  },
  {
   "cell_type": "code",
   "execution_count": 23,
   "metadata": {
    "ExecuteTime": {
     "end_time": "2021-01-28T00:57:23.517832Z",
     "start_time": "2021-01-28T00:57:22.200015Z"
    }
   },
   "outputs": [],
   "source": [
    "res_stup = requests.get(\"https://api.pushshift.io/reddit/search/submission?subreddit=startups\")\n",
    "res_smb = requests.get(\"https://api.pushshift.io/reddit/search/submission?subreddit=smallbusiness\")"
   ]
  },
  {
   "cell_type": "code",
   "execution_count": 24,
   "metadata": {
    "ExecuteTime": {
     "end_time": "2021-01-28T00:57:23.524440Z",
     "start_time": "2021-01-28T00:57:23.520191Z"
    }
   },
   "outputs": [
    {
     "data": {
      "text/plain": [
       "(200, 200)"
      ]
     },
     "execution_count": 24,
     "metadata": {},
     "output_type": "execute_result"
    }
   ],
   "source": [
    "res_stup.status_code, res_smb.status_code"
   ]
  },
  {
   "cell_type": "markdown",
   "metadata": {},
   "source": [
    "Request result is connected (200) for both subreddit API link so I proceed.\n",
    "\n",
    "## 2. PushShift\n",
    "\n",
    "From an analysis of the Json file I decide I will import the following features `title`, `selftext`, `subreddit`, `created_utc`, `author`, `num_comments`, `score`, `is_self`, and I save them in a list called `subfields`.. "
   ]
  },
  {
   "cell_type": "code",
   "execution_count": 39,
   "metadata": {
    "ExecuteTime": {
     "end_time": "2021-01-28T01:09:32.695902Z",
     "start_time": "2021-01-28T01:09:32.693293Z"
    }
   },
   "outputs": [],
   "source": [
    "subfields = ['title', 'selftext', 'subreddit', 'created_utc', 'author', 'num_comments', 'score', 'is_self']"
   ]
  },
  {
   "cell_type": "markdown",
   "metadata": {},
   "source": [
    "The following function runs accepting the subreddit, the days intervall and the number of queries to perform, and returns a dataframe of the posts, containing all information for the subfields selected above.\n",
    "\n",
    "Then I run the function for both subreddits."
   ]
  },
  {
   "cell_type": "code",
   "execution_count": 40,
   "metadata": {
    "ExecuteTime": {
     "end_time": "2021-01-28T01:09:37.557366Z",
     "start_time": "2021-01-28T01:09:37.552974Z"
    }
   },
   "outputs": [],
   "source": [
    "def import_posts(subreddit, kind = 'submission', days=20, number=100):\n",
    "\n",
    "    BASE_URL = f\"https://api.pushshift.io/reddit/search/{kind}\" # also known as the \"API endpoint\" \n",
    "\n",
    "    # construct full url\n",
    "    stem = f\"{BASE_URL}?subreddit={subreddit}&size=500\" # always pulling max of 500\n",
    "\n",
    "    posts = []\n",
    "\n",
    "    for i in range(1, number + 1):\n",
    "        URL = f\"{stem}&after={days * i}d\"\n",
    "        print(\"Querying from: \" + URL)\n",
    "        res = requests.get(URL)\n",
    "        assert res.status_code == 200\n",
    "        json = res.json()['data']\n",
    "        df = pd.DataFrame(json)\n",
    "        posts.append(df)\n",
    "        time.sleep(2)\n",
    "    \n",
    "    corpus = pd.concat(posts, sort= False)\n",
    "    return corpus"
   ]
  },
  {
   "cell_type": "code",
   "execution_count": 41,
   "metadata": {
    "ExecuteTime": {
     "end_time": "2021-01-28T01:14:54.890777Z",
     "start_time": "2021-01-28T01:09:38.431444Z"
    },
    "scrolled": true
   },
   "outputs": [
    {
     "name": "stdout",
     "output_type": "stream",
     "text": [
      "Querying from: https://api.pushshift.io/reddit/search/submission?subreddit=startups&size=500&after=20d\n",
      "Querying from: https://api.pushshift.io/reddit/search/submission?subreddit=startups&size=500&after=40d\n",
      "Querying from: https://api.pushshift.io/reddit/search/submission?subreddit=startups&size=500&after=60d\n",
      "Querying from: https://api.pushshift.io/reddit/search/submission?subreddit=startups&size=500&after=80d\n",
      "Querying from: https://api.pushshift.io/reddit/search/submission?subreddit=startups&size=500&after=100d\n",
      "Querying from: https://api.pushshift.io/reddit/search/submission?subreddit=startups&size=500&after=120d\n",
      "Querying from: https://api.pushshift.io/reddit/search/submission?subreddit=startups&size=500&after=140d\n",
      "Querying from: https://api.pushshift.io/reddit/search/submission?subreddit=startups&size=500&after=160d\n",
      "Querying from: https://api.pushshift.io/reddit/search/submission?subreddit=startups&size=500&after=180d\n",
      "Querying from: https://api.pushshift.io/reddit/search/submission?subreddit=startups&size=500&after=200d\n",
      "Querying from: https://api.pushshift.io/reddit/search/submission?subreddit=startups&size=500&after=220d\n",
      "Querying from: https://api.pushshift.io/reddit/search/submission?subreddit=startups&size=500&after=240d\n",
      "Querying from: https://api.pushshift.io/reddit/search/submission?subreddit=startups&size=500&after=260d\n",
      "Querying from: https://api.pushshift.io/reddit/search/submission?subreddit=startups&size=500&after=280d\n",
      "Querying from: https://api.pushshift.io/reddit/search/submission?subreddit=startups&size=500&after=300d\n",
      "Querying from: https://api.pushshift.io/reddit/search/submission?subreddit=startups&size=500&after=320d\n",
      "Querying from: https://api.pushshift.io/reddit/search/submission?subreddit=startups&size=500&after=340d\n",
      "Querying from: https://api.pushshift.io/reddit/search/submission?subreddit=startups&size=500&after=360d\n",
      "Querying from: https://api.pushshift.io/reddit/search/submission?subreddit=startups&size=500&after=380d\n",
      "Querying from: https://api.pushshift.io/reddit/search/submission?subreddit=startups&size=500&after=400d\n",
      "Querying from: https://api.pushshift.io/reddit/search/submission?subreddit=startups&size=500&after=420d\n",
      "Querying from: https://api.pushshift.io/reddit/search/submission?subreddit=startups&size=500&after=440d\n",
      "Querying from: https://api.pushshift.io/reddit/search/submission?subreddit=startups&size=500&after=460d\n",
      "Querying from: https://api.pushshift.io/reddit/search/submission?subreddit=startups&size=500&after=480d\n",
      "Querying from: https://api.pushshift.io/reddit/search/submission?subreddit=startups&size=500&after=500d\n",
      "Querying from: https://api.pushshift.io/reddit/search/submission?subreddit=startups&size=500&after=520d\n",
      "Querying from: https://api.pushshift.io/reddit/search/submission?subreddit=startups&size=500&after=540d\n",
      "Querying from: https://api.pushshift.io/reddit/search/submission?subreddit=startups&size=500&after=560d\n",
      "Querying from: https://api.pushshift.io/reddit/search/submission?subreddit=startups&size=500&after=580d\n",
      "Querying from: https://api.pushshift.io/reddit/search/submission?subreddit=startups&size=500&after=600d\n",
      "Querying from: https://api.pushshift.io/reddit/search/submission?subreddit=startups&size=500&after=620d\n",
      "Querying from: https://api.pushshift.io/reddit/search/submission?subreddit=startups&size=500&after=640d\n",
      "Querying from: https://api.pushshift.io/reddit/search/submission?subreddit=startups&size=500&after=660d\n",
      "Querying from: https://api.pushshift.io/reddit/search/submission?subreddit=startups&size=500&after=680d\n",
      "Querying from: https://api.pushshift.io/reddit/search/submission?subreddit=startups&size=500&after=700d\n",
      "Querying from: https://api.pushshift.io/reddit/search/submission?subreddit=startups&size=500&after=720d\n",
      "Querying from: https://api.pushshift.io/reddit/search/submission?subreddit=startups&size=500&after=740d\n",
      "Querying from: https://api.pushshift.io/reddit/search/submission?subreddit=startups&size=500&after=760d\n",
      "Querying from: https://api.pushshift.io/reddit/search/submission?subreddit=startups&size=500&after=780d\n",
      "Querying from: https://api.pushshift.io/reddit/search/submission?subreddit=startups&size=500&after=800d\n",
      "Querying from: https://api.pushshift.io/reddit/search/submission?subreddit=startups&size=500&after=820d\n",
      "Querying from: https://api.pushshift.io/reddit/search/submission?subreddit=startups&size=500&after=840d\n",
      "Querying from: https://api.pushshift.io/reddit/search/submission?subreddit=startups&size=500&after=860d\n",
      "Querying from: https://api.pushshift.io/reddit/search/submission?subreddit=startups&size=500&after=880d\n",
      "Querying from: https://api.pushshift.io/reddit/search/submission?subreddit=startups&size=500&after=900d\n",
      "Querying from: https://api.pushshift.io/reddit/search/submission?subreddit=startups&size=500&after=920d\n",
      "Querying from: https://api.pushshift.io/reddit/search/submission?subreddit=startups&size=500&after=940d\n",
      "Querying from: https://api.pushshift.io/reddit/search/submission?subreddit=startups&size=500&after=960d\n",
      "Querying from: https://api.pushshift.io/reddit/search/submission?subreddit=startups&size=500&after=980d\n",
      "Querying from: https://api.pushshift.io/reddit/search/submission?subreddit=startups&size=500&after=1000d\n",
      "Querying from: https://api.pushshift.io/reddit/search/submission?subreddit=startups&size=500&after=1020d\n",
      "Querying from: https://api.pushshift.io/reddit/search/submission?subreddit=startups&size=500&after=1040d\n",
      "Querying from: https://api.pushshift.io/reddit/search/submission?subreddit=startups&size=500&after=1060d\n",
      "Querying from: https://api.pushshift.io/reddit/search/submission?subreddit=startups&size=500&after=1080d\n",
      "Querying from: https://api.pushshift.io/reddit/search/submission?subreddit=startups&size=500&after=1100d\n",
      "Querying from: https://api.pushshift.io/reddit/search/submission?subreddit=startups&size=500&after=1120d\n",
      "Querying from: https://api.pushshift.io/reddit/search/submission?subreddit=startups&size=500&after=1140d\n",
      "Querying from: https://api.pushshift.io/reddit/search/submission?subreddit=startups&size=500&after=1160d\n",
      "Querying from: https://api.pushshift.io/reddit/search/submission?subreddit=startups&size=500&after=1180d\n",
      "Querying from: https://api.pushshift.io/reddit/search/submission?subreddit=startups&size=500&after=1200d\n",
      "Querying from: https://api.pushshift.io/reddit/search/submission?subreddit=startups&size=500&after=1220d\n",
      "Querying from: https://api.pushshift.io/reddit/search/submission?subreddit=startups&size=500&after=1240d\n",
      "Querying from: https://api.pushshift.io/reddit/search/submission?subreddit=startups&size=500&after=1260d\n",
      "Querying from: https://api.pushshift.io/reddit/search/submission?subreddit=startups&size=500&after=1280d\n",
      "Querying from: https://api.pushshift.io/reddit/search/submission?subreddit=startups&size=500&after=1300d\n",
      "Querying from: https://api.pushshift.io/reddit/search/submission?subreddit=startups&size=500&after=1320d\n",
      "Querying from: https://api.pushshift.io/reddit/search/submission?subreddit=startups&size=500&after=1340d\n",
      "Querying from: https://api.pushshift.io/reddit/search/submission?subreddit=startups&size=500&after=1360d\n",
      "Querying from: https://api.pushshift.io/reddit/search/submission?subreddit=startups&size=500&after=1380d\n",
      "Querying from: https://api.pushshift.io/reddit/search/submission?subreddit=startups&size=500&after=1400d\n",
      "Querying from: https://api.pushshift.io/reddit/search/submission?subreddit=startups&size=500&after=1420d\n",
      "Querying from: https://api.pushshift.io/reddit/search/submission?subreddit=startups&size=500&after=1440d\n",
      "Querying from: https://api.pushshift.io/reddit/search/submission?subreddit=startups&size=500&after=1460d\n",
      "Querying from: https://api.pushshift.io/reddit/search/submission?subreddit=startups&size=500&after=1480d\n",
      "Querying from: https://api.pushshift.io/reddit/search/submission?subreddit=startups&size=500&after=1500d\n",
      "Querying from: https://api.pushshift.io/reddit/search/submission?subreddit=startups&size=500&after=1520d\n",
      "Querying from: https://api.pushshift.io/reddit/search/submission?subreddit=startups&size=500&after=1540d\n",
      "Querying from: https://api.pushshift.io/reddit/search/submission?subreddit=startups&size=500&after=1560d\n",
      "Querying from: https://api.pushshift.io/reddit/search/submission?subreddit=startups&size=500&after=1580d\n"
     ]
    },
    {
     "name": "stdout",
     "output_type": "stream",
     "text": [
      "Querying from: https://api.pushshift.io/reddit/search/submission?subreddit=startups&size=500&after=1600d\n",
      "Querying from: https://api.pushshift.io/reddit/search/submission?subreddit=startups&size=500&after=1620d\n",
      "Querying from: https://api.pushshift.io/reddit/search/submission?subreddit=startups&size=500&after=1640d\n",
      "Querying from: https://api.pushshift.io/reddit/search/submission?subreddit=startups&size=500&after=1660d\n",
      "Querying from: https://api.pushshift.io/reddit/search/submission?subreddit=startups&size=500&after=1680d\n",
      "Querying from: https://api.pushshift.io/reddit/search/submission?subreddit=startups&size=500&after=1700d\n",
      "Querying from: https://api.pushshift.io/reddit/search/submission?subreddit=startups&size=500&after=1720d\n",
      "Querying from: https://api.pushshift.io/reddit/search/submission?subreddit=startups&size=500&after=1740d\n",
      "Querying from: https://api.pushshift.io/reddit/search/submission?subreddit=startups&size=500&after=1760d\n",
      "Querying from: https://api.pushshift.io/reddit/search/submission?subreddit=startups&size=500&after=1780d\n",
      "Querying from: https://api.pushshift.io/reddit/search/submission?subreddit=startups&size=500&after=1800d\n",
      "Querying from: https://api.pushshift.io/reddit/search/submission?subreddit=startups&size=500&after=1820d\n",
      "Querying from: https://api.pushshift.io/reddit/search/submission?subreddit=startups&size=500&after=1840d\n",
      "Querying from: https://api.pushshift.io/reddit/search/submission?subreddit=startups&size=500&after=1860d\n",
      "Querying from: https://api.pushshift.io/reddit/search/submission?subreddit=startups&size=500&after=1880d\n",
      "Querying from: https://api.pushshift.io/reddit/search/submission?subreddit=startups&size=500&after=1900d\n",
      "Querying from: https://api.pushshift.io/reddit/search/submission?subreddit=startups&size=500&after=1920d\n",
      "Querying from: https://api.pushshift.io/reddit/search/submission?subreddit=startups&size=500&after=1940d\n",
      "Querying from: https://api.pushshift.io/reddit/search/submission?subreddit=startups&size=500&after=1960d\n",
      "Querying from: https://api.pushshift.io/reddit/search/submission?subreddit=startups&size=500&after=1980d\n",
      "Querying from: https://api.pushshift.io/reddit/search/submission?subreddit=startups&size=500&after=2000d\n"
     ]
    }
   ],
   "source": [
    "startup_df = import_posts(\"startups\")"
   ]
  },
  {
   "cell_type": "code",
   "execution_count": 42,
   "metadata": {
    "ExecuteTime": {
     "end_time": "2021-01-28T01:20:53.162191Z",
     "start_time": "2021-01-28T01:15:48.388789Z"
    }
   },
   "outputs": [
    {
     "name": "stdout",
     "output_type": "stream",
     "text": [
      "Querying from: https://api.pushshift.io/reddit/search/submission?subreddit=smallbusiness&size=500&after=20d\n",
      "Querying from: https://api.pushshift.io/reddit/search/submission?subreddit=smallbusiness&size=500&after=40d\n",
      "Querying from: https://api.pushshift.io/reddit/search/submission?subreddit=smallbusiness&size=500&after=60d\n",
      "Querying from: https://api.pushshift.io/reddit/search/submission?subreddit=smallbusiness&size=500&after=80d\n",
      "Querying from: https://api.pushshift.io/reddit/search/submission?subreddit=smallbusiness&size=500&after=100d\n",
      "Querying from: https://api.pushshift.io/reddit/search/submission?subreddit=smallbusiness&size=500&after=120d\n",
      "Querying from: https://api.pushshift.io/reddit/search/submission?subreddit=smallbusiness&size=500&after=140d\n",
      "Querying from: https://api.pushshift.io/reddit/search/submission?subreddit=smallbusiness&size=500&after=160d\n",
      "Querying from: https://api.pushshift.io/reddit/search/submission?subreddit=smallbusiness&size=500&after=180d\n",
      "Querying from: https://api.pushshift.io/reddit/search/submission?subreddit=smallbusiness&size=500&after=200d\n",
      "Querying from: https://api.pushshift.io/reddit/search/submission?subreddit=smallbusiness&size=500&after=220d\n",
      "Querying from: https://api.pushshift.io/reddit/search/submission?subreddit=smallbusiness&size=500&after=240d\n",
      "Querying from: https://api.pushshift.io/reddit/search/submission?subreddit=smallbusiness&size=500&after=260d\n",
      "Querying from: https://api.pushshift.io/reddit/search/submission?subreddit=smallbusiness&size=500&after=280d\n",
      "Querying from: https://api.pushshift.io/reddit/search/submission?subreddit=smallbusiness&size=500&after=300d\n",
      "Querying from: https://api.pushshift.io/reddit/search/submission?subreddit=smallbusiness&size=500&after=320d\n",
      "Querying from: https://api.pushshift.io/reddit/search/submission?subreddit=smallbusiness&size=500&after=340d\n",
      "Querying from: https://api.pushshift.io/reddit/search/submission?subreddit=smallbusiness&size=500&after=360d\n",
      "Querying from: https://api.pushshift.io/reddit/search/submission?subreddit=smallbusiness&size=500&after=380d\n",
      "Querying from: https://api.pushshift.io/reddit/search/submission?subreddit=smallbusiness&size=500&after=400d\n",
      "Querying from: https://api.pushshift.io/reddit/search/submission?subreddit=smallbusiness&size=500&after=420d\n",
      "Querying from: https://api.pushshift.io/reddit/search/submission?subreddit=smallbusiness&size=500&after=440d\n",
      "Querying from: https://api.pushshift.io/reddit/search/submission?subreddit=smallbusiness&size=500&after=460d\n",
      "Querying from: https://api.pushshift.io/reddit/search/submission?subreddit=smallbusiness&size=500&after=480d\n",
      "Querying from: https://api.pushshift.io/reddit/search/submission?subreddit=smallbusiness&size=500&after=500d\n",
      "Querying from: https://api.pushshift.io/reddit/search/submission?subreddit=smallbusiness&size=500&after=520d\n",
      "Querying from: https://api.pushshift.io/reddit/search/submission?subreddit=smallbusiness&size=500&after=540d\n",
      "Querying from: https://api.pushshift.io/reddit/search/submission?subreddit=smallbusiness&size=500&after=560d\n",
      "Querying from: https://api.pushshift.io/reddit/search/submission?subreddit=smallbusiness&size=500&after=580d\n",
      "Querying from: https://api.pushshift.io/reddit/search/submission?subreddit=smallbusiness&size=500&after=600d\n",
      "Querying from: https://api.pushshift.io/reddit/search/submission?subreddit=smallbusiness&size=500&after=620d\n",
      "Querying from: https://api.pushshift.io/reddit/search/submission?subreddit=smallbusiness&size=500&after=640d\n",
      "Querying from: https://api.pushshift.io/reddit/search/submission?subreddit=smallbusiness&size=500&after=660d\n",
      "Querying from: https://api.pushshift.io/reddit/search/submission?subreddit=smallbusiness&size=500&after=680d\n",
      "Querying from: https://api.pushshift.io/reddit/search/submission?subreddit=smallbusiness&size=500&after=700d\n",
      "Querying from: https://api.pushshift.io/reddit/search/submission?subreddit=smallbusiness&size=500&after=720d\n",
      "Querying from: https://api.pushshift.io/reddit/search/submission?subreddit=smallbusiness&size=500&after=740d\n",
      "Querying from: https://api.pushshift.io/reddit/search/submission?subreddit=smallbusiness&size=500&after=760d\n",
      "Querying from: https://api.pushshift.io/reddit/search/submission?subreddit=smallbusiness&size=500&after=780d\n",
      "Querying from: https://api.pushshift.io/reddit/search/submission?subreddit=smallbusiness&size=500&after=800d\n",
      "Querying from: https://api.pushshift.io/reddit/search/submission?subreddit=smallbusiness&size=500&after=820d\n",
      "Querying from: https://api.pushshift.io/reddit/search/submission?subreddit=smallbusiness&size=500&after=840d\n",
      "Querying from: https://api.pushshift.io/reddit/search/submission?subreddit=smallbusiness&size=500&after=860d\n",
      "Querying from: https://api.pushshift.io/reddit/search/submission?subreddit=smallbusiness&size=500&after=880d\n",
      "Querying from: https://api.pushshift.io/reddit/search/submission?subreddit=smallbusiness&size=500&after=900d\n",
      "Querying from: https://api.pushshift.io/reddit/search/submission?subreddit=smallbusiness&size=500&after=920d\n",
      "Querying from: https://api.pushshift.io/reddit/search/submission?subreddit=smallbusiness&size=500&after=940d\n",
      "Querying from: https://api.pushshift.io/reddit/search/submission?subreddit=smallbusiness&size=500&after=960d\n",
      "Querying from: https://api.pushshift.io/reddit/search/submission?subreddit=smallbusiness&size=500&after=980d\n",
      "Querying from: https://api.pushshift.io/reddit/search/submission?subreddit=smallbusiness&size=500&after=1000d\n",
      "Querying from: https://api.pushshift.io/reddit/search/submission?subreddit=smallbusiness&size=500&after=1020d\n",
      "Querying from: https://api.pushshift.io/reddit/search/submission?subreddit=smallbusiness&size=500&after=1040d\n",
      "Querying from: https://api.pushshift.io/reddit/search/submission?subreddit=smallbusiness&size=500&after=1060d\n",
      "Querying from: https://api.pushshift.io/reddit/search/submission?subreddit=smallbusiness&size=500&after=1080d\n",
      "Querying from: https://api.pushshift.io/reddit/search/submission?subreddit=smallbusiness&size=500&after=1100d\n",
      "Querying from: https://api.pushshift.io/reddit/search/submission?subreddit=smallbusiness&size=500&after=1120d\n",
      "Querying from: https://api.pushshift.io/reddit/search/submission?subreddit=smallbusiness&size=500&after=1140d\n",
      "Querying from: https://api.pushshift.io/reddit/search/submission?subreddit=smallbusiness&size=500&after=1160d\n",
      "Querying from: https://api.pushshift.io/reddit/search/submission?subreddit=smallbusiness&size=500&after=1180d\n",
      "Querying from: https://api.pushshift.io/reddit/search/submission?subreddit=smallbusiness&size=500&after=1200d\n",
      "Querying from: https://api.pushshift.io/reddit/search/submission?subreddit=smallbusiness&size=500&after=1220d\n",
      "Querying from: https://api.pushshift.io/reddit/search/submission?subreddit=smallbusiness&size=500&after=1240d\n",
      "Querying from: https://api.pushshift.io/reddit/search/submission?subreddit=smallbusiness&size=500&after=1260d\n",
      "Querying from: https://api.pushshift.io/reddit/search/submission?subreddit=smallbusiness&size=500&after=1280d\n",
      "Querying from: https://api.pushshift.io/reddit/search/submission?subreddit=smallbusiness&size=500&after=1300d\n",
      "Querying from: https://api.pushshift.io/reddit/search/submission?subreddit=smallbusiness&size=500&after=1320d\n",
      "Querying from: https://api.pushshift.io/reddit/search/submission?subreddit=smallbusiness&size=500&after=1340d\n",
      "Querying from: https://api.pushshift.io/reddit/search/submission?subreddit=smallbusiness&size=500&after=1360d\n",
      "Querying from: https://api.pushshift.io/reddit/search/submission?subreddit=smallbusiness&size=500&after=1380d\n",
      "Querying from: https://api.pushshift.io/reddit/search/submission?subreddit=smallbusiness&size=500&after=1400d\n",
      "Querying from: https://api.pushshift.io/reddit/search/submission?subreddit=smallbusiness&size=500&after=1420d\n",
      "Querying from: https://api.pushshift.io/reddit/search/submission?subreddit=smallbusiness&size=500&after=1440d\n",
      "Querying from: https://api.pushshift.io/reddit/search/submission?subreddit=smallbusiness&size=500&after=1460d\n",
      "Querying from: https://api.pushshift.io/reddit/search/submission?subreddit=smallbusiness&size=500&after=1480d\n",
      "Querying from: https://api.pushshift.io/reddit/search/submission?subreddit=smallbusiness&size=500&after=1500d\n"
     ]
    },
    {
     "name": "stdout",
     "output_type": "stream",
     "text": [
      "Querying from: https://api.pushshift.io/reddit/search/submission?subreddit=smallbusiness&size=500&after=1520d\n",
      "Querying from: https://api.pushshift.io/reddit/search/submission?subreddit=smallbusiness&size=500&after=1540d\n",
      "Querying from: https://api.pushshift.io/reddit/search/submission?subreddit=smallbusiness&size=500&after=1560d\n",
      "Querying from: https://api.pushshift.io/reddit/search/submission?subreddit=smallbusiness&size=500&after=1580d\n",
      "Querying from: https://api.pushshift.io/reddit/search/submission?subreddit=smallbusiness&size=500&after=1600d\n",
      "Querying from: https://api.pushshift.io/reddit/search/submission?subreddit=smallbusiness&size=500&after=1620d\n",
      "Querying from: https://api.pushshift.io/reddit/search/submission?subreddit=smallbusiness&size=500&after=1640d\n",
      "Querying from: https://api.pushshift.io/reddit/search/submission?subreddit=smallbusiness&size=500&after=1660d\n",
      "Querying from: https://api.pushshift.io/reddit/search/submission?subreddit=smallbusiness&size=500&after=1680d\n",
      "Querying from: https://api.pushshift.io/reddit/search/submission?subreddit=smallbusiness&size=500&after=1700d\n",
      "Querying from: https://api.pushshift.io/reddit/search/submission?subreddit=smallbusiness&size=500&after=1720d\n",
      "Querying from: https://api.pushshift.io/reddit/search/submission?subreddit=smallbusiness&size=500&after=1740d\n",
      "Querying from: https://api.pushshift.io/reddit/search/submission?subreddit=smallbusiness&size=500&after=1760d\n",
      "Querying from: https://api.pushshift.io/reddit/search/submission?subreddit=smallbusiness&size=500&after=1780d\n",
      "Querying from: https://api.pushshift.io/reddit/search/submission?subreddit=smallbusiness&size=500&after=1800d\n",
      "Querying from: https://api.pushshift.io/reddit/search/submission?subreddit=smallbusiness&size=500&after=1820d\n",
      "Querying from: https://api.pushshift.io/reddit/search/submission?subreddit=smallbusiness&size=500&after=1840d\n",
      "Querying from: https://api.pushshift.io/reddit/search/submission?subreddit=smallbusiness&size=500&after=1860d\n",
      "Querying from: https://api.pushshift.io/reddit/search/submission?subreddit=smallbusiness&size=500&after=1880d\n",
      "Querying from: https://api.pushshift.io/reddit/search/submission?subreddit=smallbusiness&size=500&after=1900d\n",
      "Querying from: https://api.pushshift.io/reddit/search/submission?subreddit=smallbusiness&size=500&after=1920d\n",
      "Querying from: https://api.pushshift.io/reddit/search/submission?subreddit=smallbusiness&size=500&after=1940d\n",
      "Querying from: https://api.pushshift.io/reddit/search/submission?subreddit=smallbusiness&size=500&after=1960d\n",
      "Querying from: https://api.pushshift.io/reddit/search/submission?subreddit=smallbusiness&size=500&after=1980d\n",
      "Querying from: https://api.pushshift.io/reddit/search/submission?subreddit=smallbusiness&size=500&after=2000d\n"
     ]
    }
   ],
   "source": [
    "smbiz_df = import_posts(\"smallbusiness\")"
   ]
  },
  {
   "cell_type": "markdown",
   "metadata": {},
   "source": [
    "## 3. Dataframes\n",
    "\n",
    "Then I name columns with the names of the subfields in the list."
   ]
  },
  {
   "cell_type": "code",
   "execution_count": 43,
   "metadata": {
    "ExecuteTime": {
     "end_time": "2021-01-28T01:21:52.757387Z",
     "start_time": "2021-01-28T01:21:52.719149Z"
    }
   },
   "outputs": [],
   "source": [
    "startup_df = startup_df[subfields]"
   ]
  },
  {
   "cell_type": "code",
   "execution_count": 44,
   "metadata": {
    "ExecuteTime": {
     "end_time": "2021-01-28T01:21:53.477025Z",
     "start_time": "2021-01-28T01:21:53.440789Z"
    }
   },
   "outputs": [],
   "source": [
    "smbiz_df = smbiz_df[subfields]"
   ]
  },
  {
   "cell_type": "code",
   "execution_count": 45,
   "metadata": {
    "ExecuteTime": {
     "end_time": "2021-01-28T01:21:54.457370Z",
     "start_time": "2021-01-28T01:21:54.453899Z"
    }
   },
   "outputs": [
    {
     "data": {
      "text/plain": [
       "((9997, 8), (9997, 8))"
      ]
     },
     "execution_count": 45,
     "metadata": {},
     "output_type": "execute_result"
    }
   ],
   "source": [
    "startup_df.shape, smbiz_df.shape"
   ]
  },
  {
   "cell_type": "markdown",
   "metadata": {},
   "source": [
    "My two dataframes have the exact same size.\n",
    "\n",
    "Processing basic checks to not save an unneccessary large file, I remove duplicates and print data frame heads to make sure all previous steps worked properly."
   ]
  },
  {
   "cell_type": "code",
   "execution_count": 46,
   "metadata": {
    "ExecuteTime": {
     "end_time": "2021-01-28T01:21:55.797288Z",
     "start_time": "2021-01-28T01:21:55.759114Z"
    }
   },
   "outputs": [],
   "source": [
    "startup_df.drop_duplicates(inplace = True)\n",
    "smbiz_df.drop_duplicates(inplace = True)"
   ]
  },
  {
   "cell_type": "code",
   "execution_count": 47,
   "metadata": {
    "ExecuteTime": {
     "end_time": "2021-01-28T01:21:57.758172Z",
     "start_time": "2021-01-28T01:21:57.748376Z"
    }
   },
   "outputs": [
    {
     "data": {
      "text/html": [
       "<div>\n",
       "<style scoped>\n",
       "    .dataframe tbody tr th:only-of-type {\n",
       "        vertical-align: middle;\n",
       "    }\n",
       "\n",
       "    .dataframe tbody tr th {\n",
       "        vertical-align: top;\n",
       "    }\n",
       "\n",
       "    .dataframe thead th {\n",
       "        text-align: right;\n",
       "    }\n",
       "</style>\n",
       "<table border=\"1\" class=\"dataframe\">\n",
       "  <thead>\n",
       "    <tr style=\"text-align: right;\">\n",
       "      <th></th>\n",
       "      <th>title</th>\n",
       "      <th>selftext</th>\n",
       "      <th>subreddit</th>\n",
       "      <th>created_utc</th>\n",
       "      <th>author</th>\n",
       "      <th>num_comments</th>\n",
       "      <th>score</th>\n",
       "      <th>is_self</th>\n",
       "    </tr>\n",
       "  </thead>\n",
       "  <tbody>\n",
       "    <tr>\n",
       "      <th>0</th>\n",
       "      <td>I'll test your product for 10 mins or give you...</td>\n",
       "      <td>[removed]</td>\n",
       "      <td>startups</td>\n",
       "      <td>1610070442</td>\n",
       "      <td>Pool_of_Death</td>\n",
       "      <td>5</td>\n",
       "      <td>2</td>\n",
       "      <td>True</td>\n",
       "    </tr>\n",
       "    <tr>\n",
       "      <th>1</th>\n",
       "      <td>Can I build you an API for free?</td>\n",
       "      <td>[removed]</td>\n",
       "      <td>startups</td>\n",
       "      <td>1610070624</td>\n",
       "      <td>guru223</td>\n",
       "      <td>2</td>\n",
       "      <td>1</td>\n",
       "      <td>True</td>\n",
       "    </tr>\n",
       "    <tr>\n",
       "      <th>2</th>\n",
       "      <td>Can I build you an API?</td>\n",
       "      <td>[removed]</td>\n",
       "      <td>startups</td>\n",
       "      <td>1610070654</td>\n",
       "      <td>guru223</td>\n",
       "      <td>2</td>\n",
       "      <td>1</td>\n",
       "      <td>True</td>\n",
       "    </tr>\n",
       "    <tr>\n",
       "      <th>3</th>\n",
       "      <td>Better School Meals for Ghana!</td>\n",
       "      <td></td>\n",
       "      <td>startups</td>\n",
       "      <td>1610070999</td>\n",
       "      <td>nutriprideafrica</td>\n",
       "      <td>0</td>\n",
       "      <td>1</td>\n",
       "      <td>False</td>\n",
       "    </tr>\n",
       "    <tr>\n",
       "      <th>4</th>\n",
       "      <td>I am sharing an online discussion event with s...</td>\n",
       "      <td>[removed]</td>\n",
       "      <td>startups</td>\n",
       "      <td>1610075207</td>\n",
       "      <td>sapfunnyxd</td>\n",
       "      <td>3</td>\n",
       "      <td>1</td>\n",
       "      <td>True</td>\n",
       "    </tr>\n",
       "  </tbody>\n",
       "</table>\n",
       "</div>"
      ],
      "text/plain": [
       "                                               title   selftext subreddit  \\\n",
       "0  I'll test your product for 10 mins or give you...  [removed]  startups   \n",
       "1                   Can I build you an API for free?  [removed]  startups   \n",
       "2                            Can I build you an API?  [removed]  startups   \n",
       "3                     Better School Meals for Ghana!             startups   \n",
       "4  I am sharing an online discussion event with s...  [removed]  startups   \n",
       "\n",
       "   created_utc            author  num_comments  score  is_self  \n",
       "0   1610070442     Pool_of_Death             5      2     True  \n",
       "1   1610070624           guru223             2      1     True  \n",
       "2   1610070654           guru223             2      1     True  \n",
       "3   1610070999  nutriprideafrica             0      1    False  \n",
       "4   1610075207        sapfunnyxd             3      1     True  "
      ]
     },
     "execution_count": 47,
     "metadata": {},
     "output_type": "execute_result"
    }
   ],
   "source": [
    "startup_df.head()"
   ]
  },
  {
   "cell_type": "code",
   "execution_count": 48,
   "metadata": {
    "ExecuteTime": {
     "end_time": "2021-01-28T01:21:58.940873Z",
     "start_time": "2021-01-28T01:21:58.931022Z"
    }
   },
   "outputs": [
    {
     "data": {
      "text/html": [
       "<div>\n",
       "<style scoped>\n",
       "    .dataframe tbody tr th:only-of-type {\n",
       "        vertical-align: middle;\n",
       "    }\n",
       "\n",
       "    .dataframe tbody tr th {\n",
       "        vertical-align: top;\n",
       "    }\n",
       "\n",
       "    .dataframe thead th {\n",
       "        text-align: right;\n",
       "    }\n",
       "</style>\n",
       "<table border=\"1\" class=\"dataframe\">\n",
       "  <thead>\n",
       "    <tr style=\"text-align: right;\">\n",
       "      <th></th>\n",
       "      <th>title</th>\n",
       "      <th>selftext</th>\n",
       "      <th>subreddit</th>\n",
       "      <th>created_utc</th>\n",
       "      <th>author</th>\n",
       "      <th>num_comments</th>\n",
       "      <th>score</th>\n",
       "      <th>is_self</th>\n",
       "    </tr>\n",
       "  </thead>\n",
       "  <tbody>\n",
       "    <tr>\n",
       "      <th>0</th>\n",
       "      <td>Gusto problems?</td>\n",
       "      <td>NaN</td>\n",
       "      <td>smallbusiness</td>\n",
       "      <td>1610069013</td>\n",
       "      <td>[deleted]</td>\n",
       "      <td>0</td>\n",
       "      <td>1</td>\n",
       "      <td>True</td>\n",
       "    </tr>\n",
       "    <tr>\n",
       "      <th>1</th>\n",
       "      <td>what would be the best way of calling potentia...</td>\n",
       "      <td>[removed]</td>\n",
       "      <td>smallbusiness</td>\n",
       "      <td>1610069951</td>\n",
       "      <td>wilsonckao</td>\n",
       "      <td>2</td>\n",
       "      <td>1</td>\n",
       "      <td>True</td>\n",
       "    </tr>\n",
       "    <tr>\n",
       "      <th>2</th>\n",
       "      <td>GURUS VS BOOKS</td>\n",
       "      <td>[removed]</td>\n",
       "      <td>smallbusiness</td>\n",
       "      <td>1610069955</td>\n",
       "      <td>Alpha12x</td>\n",
       "      <td>0</td>\n",
       "      <td>1</td>\n",
       "      <td>True</td>\n",
       "    </tr>\n",
       "    <tr>\n",
       "      <th>3</th>\n",
       "      <td>Is there a way to spread out a windfall income...</td>\n",
       "      <td>If my business suddenly brings in a thousand t...</td>\n",
       "      <td>smallbusiness</td>\n",
       "      <td>1610070146</td>\n",
       "      <td>if_yes_else_no</td>\n",
       "      <td>5</td>\n",
       "      <td>1</td>\n",
       "      <td>True</td>\n",
       "    </tr>\n",
       "    <tr>\n",
       "      <th>4</th>\n",
       "      <td>EIDL/PPP Credit Denials A Thing?</td>\n",
       "      <td>I’m just today hearing from my Friend that bot...</td>\n",
       "      <td>smallbusiness</td>\n",
       "      <td>1610070921</td>\n",
       "      <td>WildFireBrand</td>\n",
       "      <td>3</td>\n",
       "      <td>1</td>\n",
       "      <td>True</td>\n",
       "    </tr>\n",
       "  </tbody>\n",
       "</table>\n",
       "</div>"
      ],
      "text/plain": [
       "                                               title  \\\n",
       "0                                    Gusto problems?   \n",
       "1  what would be the best way of calling potentia...   \n",
       "2                                     GURUS VS BOOKS   \n",
       "3  Is there a way to spread out a windfall income...   \n",
       "4                   EIDL/PPP Credit Denials A Thing?   \n",
       "\n",
       "                                            selftext      subreddit  \\\n",
       "0                                                NaN  smallbusiness   \n",
       "1                                          [removed]  smallbusiness   \n",
       "2                                          [removed]  smallbusiness   \n",
       "3  If my business suddenly brings in a thousand t...  smallbusiness   \n",
       "4  I’m just today hearing from my Friend that bot...  smallbusiness   \n",
       "\n",
       "   created_utc          author  num_comments  score  is_self  \n",
       "0   1610069013       [deleted]             0      1     True  \n",
       "1   1610069951      wilsonckao             2      1     True  \n",
       "2   1610069955        Alpha12x             0      1     True  \n",
       "3   1610070146  if_yes_else_no             5      1     True  \n",
       "4   1610070921   WildFireBrand             3      1     True  "
      ]
     },
     "execution_count": 48,
     "metadata": {},
     "output_type": "execute_result"
    }
   ],
   "source": [
    "smbiz_df.head()"
   ]
  },
  {
   "cell_type": "code",
   "execution_count": 49,
   "metadata": {
    "ExecuteTime": {
     "end_time": "2021-01-28T01:22:07.218618Z",
     "start_time": "2021-01-28T01:22:07.210676Z"
    }
   },
   "outputs": [],
   "source": [
    "df = pd.concat([smbiz_df, startup_df])"
   ]
  },
  {
   "cell_type": "code",
   "execution_count": 50,
   "metadata": {
    "ExecuteTime": {
     "end_time": "2021-01-28T01:22:08.160034Z",
     "start_time": "2021-01-28T01:22:08.156772Z"
    }
   },
   "outputs": [
    {
     "data": {
      "text/plain": [
       "(19993, 8)"
      ]
     },
     "execution_count": 50,
     "metadata": {},
     "output_type": "execute_result"
    }
   ],
   "source": [
    "df.shape"
   ]
  },
  {
   "cell_type": "markdown",
   "metadata": {},
   "source": [
    "Concatenated the two dataframes I proceedby exporting the dataframe as csv."
   ]
  },
  {
   "cell_type": "code",
   "execution_count": 51,
   "metadata": {
    "ExecuteTime": {
     "end_time": "2021-01-28T01:22:09.066153Z",
     "start_time": "2021-01-28T01:22:09.056518Z"
    }
   },
   "outputs": [
    {
     "data": {
      "text/html": [
       "<div>\n",
       "<style scoped>\n",
       "    .dataframe tbody tr th:only-of-type {\n",
       "        vertical-align: middle;\n",
       "    }\n",
       "\n",
       "    .dataframe tbody tr th {\n",
       "        vertical-align: top;\n",
       "    }\n",
       "\n",
       "    .dataframe thead th {\n",
       "        text-align: right;\n",
       "    }\n",
       "</style>\n",
       "<table border=\"1\" class=\"dataframe\">\n",
       "  <thead>\n",
       "    <tr style=\"text-align: right;\">\n",
       "      <th></th>\n",
       "      <th>title</th>\n",
       "      <th>selftext</th>\n",
       "      <th>subreddit</th>\n",
       "      <th>created_utc</th>\n",
       "      <th>author</th>\n",
       "      <th>num_comments</th>\n",
       "      <th>score</th>\n",
       "      <th>is_self</th>\n",
       "    </tr>\n",
       "  </thead>\n",
       "  <tbody>\n",
       "    <tr>\n",
       "      <th>0</th>\n",
       "      <td>Gusto problems?</td>\n",
       "      <td>NaN</td>\n",
       "      <td>smallbusiness</td>\n",
       "      <td>1610069013</td>\n",
       "      <td>[deleted]</td>\n",
       "      <td>0</td>\n",
       "      <td>1</td>\n",
       "      <td>True</td>\n",
       "    </tr>\n",
       "    <tr>\n",
       "      <th>1</th>\n",
       "      <td>what would be the best way of calling potentia...</td>\n",
       "      <td>[removed]</td>\n",
       "      <td>smallbusiness</td>\n",
       "      <td>1610069951</td>\n",
       "      <td>wilsonckao</td>\n",
       "      <td>2</td>\n",
       "      <td>1</td>\n",
       "      <td>True</td>\n",
       "    </tr>\n",
       "    <tr>\n",
       "      <th>2</th>\n",
       "      <td>GURUS VS BOOKS</td>\n",
       "      <td>[removed]</td>\n",
       "      <td>smallbusiness</td>\n",
       "      <td>1610069955</td>\n",
       "      <td>Alpha12x</td>\n",
       "      <td>0</td>\n",
       "      <td>1</td>\n",
       "      <td>True</td>\n",
       "    </tr>\n",
       "    <tr>\n",
       "      <th>3</th>\n",
       "      <td>Is there a way to spread out a windfall income...</td>\n",
       "      <td>If my business suddenly brings in a thousand t...</td>\n",
       "      <td>smallbusiness</td>\n",
       "      <td>1610070146</td>\n",
       "      <td>if_yes_else_no</td>\n",
       "      <td>5</td>\n",
       "      <td>1</td>\n",
       "      <td>True</td>\n",
       "    </tr>\n",
       "    <tr>\n",
       "      <th>4</th>\n",
       "      <td>EIDL/PPP Credit Denials A Thing?</td>\n",
       "      <td>I’m just today hearing from my Friend that bot...</td>\n",
       "      <td>smallbusiness</td>\n",
       "      <td>1610070921</td>\n",
       "      <td>WildFireBrand</td>\n",
       "      <td>3</td>\n",
       "      <td>1</td>\n",
       "      <td>True</td>\n",
       "    </tr>\n",
       "  </tbody>\n",
       "</table>\n",
       "</div>"
      ],
      "text/plain": [
       "                                               title  \\\n",
       "0                                    Gusto problems?   \n",
       "1  what would be the best way of calling potentia...   \n",
       "2                                     GURUS VS BOOKS   \n",
       "3  Is there a way to spread out a windfall income...   \n",
       "4                   EIDL/PPP Credit Denials A Thing?   \n",
       "\n",
       "                                            selftext      subreddit  \\\n",
       "0                                                NaN  smallbusiness   \n",
       "1                                          [removed]  smallbusiness   \n",
       "2                                          [removed]  smallbusiness   \n",
       "3  If my business suddenly brings in a thousand t...  smallbusiness   \n",
       "4  I’m just today hearing from my Friend that bot...  smallbusiness   \n",
       "\n",
       "   created_utc          author  num_comments  score  is_self  \n",
       "0   1610069013       [deleted]             0      1     True  \n",
       "1   1610069951      wilsonckao             2      1     True  \n",
       "2   1610069955        Alpha12x             0      1     True  \n",
       "3   1610070146  if_yes_else_no             5      1     True  \n",
       "4   1610070921   WildFireBrand             3      1     True  "
      ]
     },
     "execution_count": 51,
     "metadata": {},
     "output_type": "execute_result"
    }
   ],
   "source": [
    "df.head()"
   ]
  },
  {
   "cell_type": "markdown",
   "metadata": {},
   "source": [
    "Happy with the quantity of posts I imported I proceed exporting the dataframe as `.csv`"
   ]
  },
  {
   "cell_type": "code",
   "execution_count": 52,
   "metadata": {
    "ExecuteTime": {
     "end_time": "2021-01-28T01:22:11.158515Z",
     "start_time": "2021-01-28T01:22:10.877952Z"
    }
   },
   "outputs": [],
   "source": [
    "df.to_csv('../data/corpus.csv', index=False)"
   ]
  }
 ],
 "metadata": {
  "kernelspec": {
   "display_name": "Python 3",
   "language": "python",
   "name": "python3"
  },
  "language_info": {
   "codemirror_mode": {
    "name": "ipython",
    "version": 3
   },
   "file_extension": ".py",
   "mimetype": "text/x-python",
   "name": "python",
   "nbconvert_exporter": "python",
   "pygments_lexer": "ipython3",
   "version": "3.8.5"
  }
 },
 "nbformat": 4,
 "nbformat_minor": 4
}
