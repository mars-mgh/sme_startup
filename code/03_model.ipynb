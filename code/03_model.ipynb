{
 "cells": [
  {
   "cell_type": "markdown",
   "id": "proved-sheffield",
   "metadata": {},
   "source": [
    "# Model Creation and Scoring\n",
    "\n",
    "## Introduction\n",
    "\n",
    "### Summary\n",
    "This project aimes to recognize the topics Small Business Owners and Startup owners discuss about on Reddit, their similarities, and differences. The results are targeted towards a Financial Institution, that is starting a new blog to attract companies at small size. This research investigates in what these two gruops differ for interest, and whether it might make sense to address them together or separately.\n",
    "\n",
    "\n",
    "### In this Notebook\n",
    "In this notebook I perform I fit and tune different categorical predictive models.\n",
    "\n",
    "#### Models\n",
    "First, I run a **Baseline Model** that predicts the majority class and results in a 62% Accuracy.\n",
    "\n",
    "The I set a series of pipelines to run the following models using Count Vectorizer:\n",
    "\n",
    "- **Random Forest** Manual\n",
    "- **Random Forest** Grid Searched\n",
    "- **Logistic Regression**\n",
    "- **Multinomial Naive Bayes** \n",
    "\n",
    "Then I try using TF-TDIF and run a\n",
    "- **Multinomial Naive Bayes** \n",
    "\n",
    "\n",
    "I choose Cvec over TFDIF to start with because in my data cleaning I removed all small size words and I want to take maxiumum advantage of \"specific language\" that might differenciate Startup and Small Business conversations.\n",
    "\n",
    "\n",
    "#### Scores\n",
    "Below a table summarizing the results from my models. Even thought the average scores for these models seem very similar, there is somewhat of a variation among them for different metrics and different classes.\n",
    "\n",
    "\n",
    "|Model |precision | recall | f1|\n",
    "| --- | --- | --- | --- |\n",
    "|Baseline | 39% | 62% | 48% |\n",
    "|Manual Random Forest| 85% | 85% | 85% |\n",
    "|GridSearched Random Forest | 84% | 85% | 84%|\n",
    "|Logistic Regression | 82% | 82% | 82% |\n",
    "|MNBayes Count Vectorizer| 82% | 82% | 82%|\n",
    "|MNBayes TF-IDF Vectorizer | 84% | 84% | 83 %|\n",
    "\n",
    "These results show that the data is solid and the results consistent across different models.\n",
    "\n",
    "### Conclusion\n",
    "\n",
    "The best model ends up being a Random Forest, having the more class balanced results.\n",
    "\n",
    "Although a lot can be done in improving the performance of the model.\n",
    "\n",
    "First of all pulling more data, then investigating further differences in engagement and feature weights.\n",
    "\n",
    "Overall, though, this analysis proves that the overlap between startup founders and business owners conversations is significant, but the conversations are also described by different keywords. This is the reason why I would advice the Financial Institution that wants to start the blog, to address the two market subsects with different terminology for the greates part, and verify through the model if the keywords for the articles they look forward to cover in the online publication are predicted for the target they indend to address it towards.\n",
    "\n",
    "\n",
    "### Notebook Index\n",
    "\n",
    "- [01 | Data Collection](01_data_collection.ipynb)\n",
    "- [02 | EDA & Cleaning](02_eda.ipynb)\n",
    "- [03 | Model](03_model.ipynb)\n",
    "- [04 | Sentiment Analysis](04_sentiment_analysis.ipynb)"
   ]
  },
  {
   "cell_type": "code",
   "execution_count": 89,
   "id": "innovative-module",
   "metadata": {
    "ExecuteTime": {
     "end_time": "2021-01-29T02:48:09.861629Z",
     "start_time": "2021-01-29T02:48:09.765634Z"
    }
   },
   "outputs": [],
   "source": [
    "# imports\n",
    "import pandas as pd\n",
    "import matplotlib.pyplot as plt\n",
    "\n",
    "from sklearn.pipeline import Pipeline\n",
    "from sklearn.model_selection import train_test_split, GridSearchCV\n",
    "import seaborn as sns\n",
    "\n",
    "from sklearn.dummy import DummyClassifier\n",
    "from sklearn.ensemble import RandomForestClassifier\n",
    "from sklearn.naive_bayes import MultinomialNB\n",
    "from sklearn.feature_extraction.text import CountVectorizer, TfidfVectorizer\n",
    "from sklearn.feature_extraction import text\n",
    "from sklearn.linear_model import LogisticRegression\n",
    "from sklearn.tree import DecisionTreeClassifier\n",
    "\n",
    "from sklearn.metrics import confusion_matrix, plot_confusion_matrix, roc_auc_score, plot_roc_curve\n",
    "from sklearn import metrics"
   ]
  },
  {
   "cell_type": "code",
   "execution_count": 90,
   "id": "intensive-jerusalem",
   "metadata": {
    "ExecuteTime": {
     "end_time": "2021-01-29T02:48:10.961322Z",
     "start_time": "2021-01-29T02:48:10.958354Z"
    }
   },
   "outputs": [],
   "source": [
    "def custom_pallete(custom_colors):\n",
    "    customPalette = sns.set_palette(sns.color_palette(custom_colors))\n",
    "    sns.palplot(sns.color_palette(custom_colors),size=0.8)\n",
    "    plt.tick_params(axis='both', labelsize=0, length = 0)"
   ]
  },
  {
   "cell_type": "code",
   "execution_count": 104,
   "id": "detailed-doctor",
   "metadata": {
    "ExecuteTime": {
     "end_time": "2021-01-30T06:13:12.868834Z",
     "start_time": "2021-01-30T06:13:12.809532Z"
    }
   },
   "outputs": [
    {
     "data": {
      "image/png": "[encoded data removed]",
      "text/plain": [
       "<Figure size 230.4x57.6 with 1 Axes>"
      ]
     },
     "metadata": {
      "needs_background": "light"
     },
     "output_type": "display_data"
    }
   ],
   "source": [
    "acqua = [\"#84B099\",\"#973276\",\"#CA8D89\", \"#E4F3E0\",\"#B5DEC8\",\"#9CC7B0\",\"#84B099\",\"#CFB384\",\"#F7BF7D\",\"#CA8D89\",\"#8959B9\",\"#973276\"]\n",
    "contrast =[\"#E26D5C\",\"#FFCD70\", \"#38618C\", '#723D46', '#472D30']\n",
    "project_3 = [\"#F9B310\",\"#047C9C\",\"#13C3CB\", \"#64D1D9\"]\n",
    "custom_pallete(project_3)"
   ]
  },
  {
   "cell_type": "code",
   "execution_count": 2,
   "id": "important-poverty",
   "metadata": {
    "ExecuteTime": {
     "end_time": "2021-01-28T23:43:13.885313Z",
     "start_time": "2021-01-28T23:43:13.764784Z"
    }
   },
   "outputs": [],
   "source": [
    "df = pd.read_csv('../data/corpus_clean.csv')"
   ]
  },
  {
   "cell_type": "code",
   "execution_count": 3,
   "id": "growing-procedure",
   "metadata": {
    "ExecuteTime": {
     "end_time": "2021-01-28T23:43:13.896488Z",
     "start_time": "2021-01-28T23:43:13.887445Z"
    },
    "scrolled": true
   },
   "outputs": [
    {
     "data": {
      "text/plain": [
       "title           0\n",
       "created_utc     0\n",
       "author          0\n",
       "num_comments    0\n",
       "score           0\n",
       "is_self         0\n",
       "alltext         2\n",
       "target          0\n",
       "dtype: int64"
      ]
     },
     "execution_count": 3,
     "metadata": {},
     "output_type": "execute_result"
    }
   ],
   "source": [
    "df.isnull().sum()"
   ]
  },
  {
   "cell_type": "code",
   "execution_count": 4,
   "id": "expressed-valuable",
   "metadata": {
    "ExecuteTime": {
     "end_time": "2021-01-28T23:43:13.913549Z",
     "start_time": "2021-01-28T23:43:13.897963Z"
    }
   },
   "outputs": [],
   "source": [
    "df.dropna(subset=['alltext'], inplace=True)"
   ]
  },
  {
   "cell_type": "markdown",
   "id": "broken-nebraska",
   "metadata": {},
   "source": [
    "Bring the custom stopwords from the last to this notebook."
   ]
  },
  {
   "cell_type": "code",
   "execution_count": 5,
   "id": "organized-bacon",
   "metadata": {
    "ExecuteTime": {
     "end_time": "2021-01-28T23:43:13.917061Z",
     "start_time": "2021-01-28T23:43:13.914848Z"
    }
   },
   "outputs": [],
   "source": [
    "text.ENGLISH_STOP_WORDS\n",
    "\n",
    "add_stop_words = ['don', 'x200b']\n",
    "\n",
    "stop_words = text.ENGLISH_STOP_WORDS.union(add_stop_words)"
   ]
  },
  {
   "cell_type": "markdown",
   "id": "confused-filter",
   "metadata": {},
   "source": [
    "## Define X, y and Train Test Split "
   ]
  },
  {
   "cell_type": "code",
   "execution_count": 106,
   "id": "digital-assist",
   "metadata": {
    "ExecuteTime": {
     "end_time": "2021-01-30T06:14:05.556470Z",
     "start_time": "2021-01-30T06:14:05.552367Z"
    }
   },
   "outputs": [],
   "source": [
    "X = df[['alltext']]\n",
    "y = df['target']"
   ]
  },
  {
   "cell_type": "code",
   "execution_count": 7,
   "id": "printable-orchestra",
   "metadata": {
    "ExecuteTime": {
     "end_time": "2021-01-28T23:43:13.928157Z",
     "start_time": "2021-01-28T23:43:13.923680Z"
    }
   },
   "outputs": [
    {
     "data": {
      "text/plain": [
       "0    0.620776\n",
       "1    0.379224\n",
       "Name: target, dtype: float64"
      ]
     },
     "execution_count": 7,
     "metadata": {},
     "output_type": "execute_result"
    }
   ],
   "source": [
    "y.value_counts(normalize = True)"
   ]
  },
  {
   "cell_type": "code",
   "execution_count": 8,
   "id": "stunning-nurse",
   "metadata": {
    "ExecuteTime": {
     "end_time": "2021-01-28T23:43:13.939444Z",
     "start_time": "2021-01-28T23:43:13.930634Z"
    }
   },
   "outputs": [],
   "source": [
    "X_train, X_test, y_train, y_test = train_test_split(X,\n",
    "                                                    y,\n",
    "                                                    test_size=0.25,\n",
    "                                                    stratify=y,\n",
    "                                                    random_state=42)"
   ]
  },
  {
   "cell_type": "code",
   "execution_count": 9,
   "id": "removed-jesus",
   "metadata": {
    "ExecuteTime": {
     "end_time": "2021-01-28T23:43:13.944918Z",
     "start_time": "2021-01-28T23:43:13.940811Z"
    }
   },
   "outputs": [
    {
     "data": {
      "text/plain": [
       "0    0.620724\n",
       "1    0.379276\n",
       "Name: target, dtype: float64"
      ]
     },
     "execution_count": 9,
     "metadata": {},
     "output_type": "execute_result"
    }
   ],
   "source": [
    "y_test.value_counts(normalize = True)"
   ]
  },
  {
   "cell_type": "markdown",
   "id": "received-meaning",
   "metadata": {},
   "source": [
    "## 0. Baseline Model"
   ]
  },
  {
   "cell_type": "code",
   "execution_count": 37,
   "id": "violent-radiation",
   "metadata": {
    "ExecuteTime": {
     "end_time": "2021-01-29T00:02:05.787086Z",
     "start_time": "2021-01-29T00:02:05.781138Z"
    }
   },
   "outputs": [
    {
     "name": "stdout",
     "output_type": "stream",
     "text": [
      "Train score: 0.6207937395192845\n",
      "Test score: 0.6207243460764588\n"
     ]
    }
   ],
   "source": [
    "baseline = DummyClassifier(strategy=\"most_frequent\")\n",
    "baseline.fit(X_train, y_train)\n",
    "preds_baseline = baseline.predict(X_test)\n",
    "\n",
    "#Score & store scores\n",
    "baseline_train = baseline.score(X_train, y_train)\n",
    "baseline_test = baseline.score(X_test, y_test)\n",
    "print('Train score:', baseline_train)\n",
    "print('Test score:', baseline_test)"
   ]
  },
  {
   "cell_type": "markdown",
   "id": "demonstrated-brooklyn",
   "metadata": {},
   "source": [
    "## 1. Random Forest and Count Vectorizer \n",
    "### a. Manual"
   ]
  },
  {
   "cell_type": "code",
   "execution_count": 10,
   "id": "assisted-creator",
   "metadata": {
    "ExecuteTime": {
     "end_time": "2021-01-28T23:43:35.543307Z",
     "start_time": "2021-01-28T23:43:13.946147Z"
    }
   },
   "outputs": [
    {
     "name": "stdout",
     "output_type": "stream",
     "text": [
      "Train score: 0.9976523197316937\n",
      "Test score: 0.8484238765928906\n"
     ]
    }
   ],
   "source": [
    "#Initiate Count Vectorizer\n",
    "cvec = CountVectorizer(analyzer = \"word\", \n",
    "                       tokenizer = None, \n",
    "                       preprocessor = None,\n",
    "                       stop_words = None, \n",
    "                       max_features = 10000, \n",
    "                       ngram_range = (1, 3)\n",
    "                      )\n",
    "#Initiate Random Forest\n",
    "rf = RandomForestClassifier(random_state = 42)\n",
    "\n",
    "#Initiate Pipeline\n",
    "pipe = Pipeline([\n",
    "    ('cvec', cvec),\n",
    "    ('rf', rf)\n",
    "])\n",
    "\n",
    "#Fit pipe\n",
    "pipe.fit(X_train, y_train)\n",
    "\n",
    "#Score & store scores\n",
    "rf_man_train = pipe.score(X_train, y_train)\n",
    "rf_man_test = pipe.score(X_test, y_test)\n",
    "print('Train score:', rf_man_train)\n",
    "print('Test score:', rf_man_test)"
   ]
  },
  {
   "cell_type": "code",
   "execution_count": 11,
   "id": "numerical-anger",
   "metadata": {
    "ExecuteTime": {
     "end_time": "2021-01-28T23:43:36.486918Z",
     "start_time": "2021-01-28T23:43:35.545115Z"
    }
   },
   "outputs": [
    {
     "name": "stdout",
     "output_type": "stream",
     "text": [
      "Specificity: 0.9259859535386278\n"
     ]
    }
   ],
   "source": [
    "#Get predictions\n",
    "preds_rf_man = pipe.predict(X_test)\n",
    "\n",
    "#Save confusion matrix values\n",
    "tn_rf_man, fp_rf_man, fn_rf_man, tp_rf_man = confusion_matrix(y_test, preds_rf_man).ravel()\n",
    "\n",
    "#Calculate the specificity\n",
    "spec_rf_man = tn_rf_man / (tn_rf_man + fp_rf_man)\n",
    "\n",
    "print('Specificity:', spec_rf_man)"
   ]
  },
  {
   "cell_type": "code",
   "execution_count": 99,
   "id": "pointed-sierra",
   "metadata": {
    "ExecuteTime": {
     "end_time": "2021-01-29T16:35:33.124038Z",
     "start_time": "2021-01-29T16:35:31.445303Z"
    }
   },
   "outputs": [
    {
     "data": {
      "text/plain": [
       "0.899947264866507"
      ]
     },
     "execution_count": 99,
     "metadata": {},
     "output_type": "execute_result"
    },
    {
     "data": {
      "image/png": "[encoded data removed]",
      "text/plain": [
       "<Figure size 432x288 with 1 Axes>"
      ]
     },
     "metadata": {
      "needs_background": "light"
     },
     "output_type": "display_data"
    }
   ],
   "source": [
    "# ROC curve\n",
    "plot_roc_curve(pipe, X_test, y_test)\n",
    "# add worst case scenario line\n",
    "plt.plot([0,1], [0,1], label = 'baseline', linestyle = '--')\n",
    "# add a legend\n",
    "plt.legend()\n",
    "plt.title('ROC Curve Manual Random Forest');\n",
    "# Calculate ROC AUC.\n",
    "roc_auc_score(y_test, pipe.predict_proba(X_test)[:,1])"
   ]
  },
  {
   "cell_type": "markdown",
   "id": "listed-salvation",
   "metadata": {},
   "source": [
    "### b. Gridsearch"
   ]
  },
  {
   "cell_type": "code",
   "execution_count": 14,
   "id": "apart-secret",
   "metadata": {
    "ExecuteTime": {
     "end_time": "2021-01-28T23:46:04.021413Z",
     "start_time": "2021-01-28T23:43:36.538357Z"
    }
   },
   "outputs": [
    {
     "name": "stdout",
     "output_type": "stream",
     "text": [
      "Fitting 3 folds for each of 162 candidates, totalling 486 fits\n"
     ]
    },
    {
     "name": "stderr",
     "output_type": "stream",
     "text": [
      "[Parallel(n_jobs=-2)]: Using backend LokyBackend with 15 concurrent workers.\n",
      "[Parallel(n_jobs=-2)]: Done  20 tasks      | elapsed:    5.4s\n",
      "[Parallel(n_jobs=-2)]: Done 170 tasks      | elapsed:   46.4s\n",
      "[Parallel(n_jobs=-2)]: Done 420 tasks      | elapsed:  1.9min\n",
      "[Parallel(n_jobs=-2)]: Done 486 out of 486 | elapsed:  2.4min finished\n"
     ]
    },
    {
     "data": {
      "text/plain": [
       "GridSearchCV(cv=3,\n",
       "             estimator=Pipeline(steps=[('cvec',\n",
       "                                        CountVectorizer(max_features=10000,\n",
       "                                                        ngram_range=(1, 3))),\n",
       "                                       ('rf',\n",
       "                                        RandomForestClassifier(random_state=42))]),\n",
       "             n_jobs=-2,\n",
       "             param_grid={'cvec__max_features': [500, 1000, 5000],\n",
       "                         'cvec__ngram_range': [(1, 1), (1, 2)],\n",
       "                         'cvec__stop_words': [None, 'english',\n",
       "                                              frozenset({'a', 'about', 'above',\n",
       "                                                         'across', 'after',\n",
       "                                                         'afterwards', 'again',\n",
       "                                                         'against', 'all',\n",
       "                                                         'almost', 'alone',\n",
       "                                                         'along', 'already',\n",
       "                                                         'also', 'although',\n",
       "                                                         'always', 'am',\n",
       "                                                         'among', 'amongst',\n",
       "                                                         'amoungst', 'amount',\n",
       "                                                         'an', 'and', 'another',\n",
       "                                                         'any', 'anyhow',\n",
       "                                                         'anyone', 'anything',\n",
       "                                                         'anyway', 'anywhere', ...})],\n",
       "                         'rf__max_depth': [None, 10, 20],\n",
       "                         'rf__n_estimators': [10, 20, 30]},\n",
       "             verbose=1)"
      ]
     },
     "execution_count": 14,
     "metadata": {},
     "output_type": "execute_result"
    }
   ],
   "source": [
    "params_rf = {\n",
    "    'cvec__stop_words': [None, 'english', stop_words], \n",
    "    'cvec__max_features': [500, 1000, 5000], \n",
    "    'cvec__ngram_range': [(1, 1), (1, 2)], \n",
    "    'rf__n_estimators': [10, 20, 30],\n",
    "    'rf__max_depth': [None, 10, 20]\n",
    "}\n",
    "\n",
    "gs_rf = GridSearchCV(pipe, param_grid=params_rf, cv=3, verbose=1, n_jobs=-2)\n",
    "gs_rf.fit(X_train, y_train)"
   ]
  },
  {
   "cell_type": "code",
   "execution_count": 15,
   "id": "physical-ultimate",
   "metadata": {
    "ExecuteTime": {
     "end_time": "2021-01-28T23:46:05.643972Z",
     "start_time": "2021-01-28T23:46:04.023008Z"
    }
   },
   "outputs": [
    {
     "name": "stdout",
     "output_type": "stream",
     "text": [
      "Best score: 0.8404692195815318\n",
      "Best Parameters: {'cvec__max_features': 1000, 'cvec__ngram_range': (1, 2), 'cvec__stop_words': 'english', 'rf__max_depth': None, 'rf__n_estimators': 30}\n",
      "Train Score: 0.9951928451648966\n",
      "Test Score: 0.8450704225352113\n"
     ]
    }
   ],
   "source": [
    "gs_rf_train = gs_rf.score(X_train, y_train)\n",
    "gs_rf_test = gs_rf.score(X_test, y_test)\n",
    "gs_rf_params = gs_rf.best_params_\n",
    "\n",
    "print('Best score:', gs_rf.best_score_)\n",
    "print('Best Parameters:', gs_rf_params)\n",
    "print('Train Score:', gs_rf_train)\n",
    "print('Test Score:', gs_rf_test)"
   ]
  },
  {
   "cell_type": "code",
   "execution_count": 16,
   "id": "baking-aircraft",
   "metadata": {
    "ExecuteTime": {
     "end_time": "2021-01-28T23:46:06.073275Z",
     "start_time": "2021-01-28T23:46:05.645854Z"
    }
   },
   "outputs": [
    {
     "name": "stdout",
     "output_type": "stream",
     "text": [
      "Specificity: 0.9070772555375473\n"
     ]
    }
   ],
   "source": [
    "#Get predictions\n",
    "preds_rf = gs_rf.predict(X_test)\n",
    "\n",
    "#Save confusion matrix values\n",
    "tn_rf, fp_rf, fn_rf, tp_rf = confusion_matrix(y_test, preds_rf).ravel()\n",
    "\n",
    "#Calculate the specificity\n",
    "spec_rf = tn_rf / (tn_rf + fp_rf)\n",
    "\n",
    "print('Specificity:', spec_rf)"
   ]
  },
  {
   "cell_type": "code",
   "execution_count": 100,
   "id": "short-fever",
   "metadata": {
    "ExecuteTime": {
     "end_time": "2021-01-29T16:36:00.596254Z",
     "start_time": "2021-01-29T16:35:59.749997Z"
    }
   },
   "outputs": [
    {
     "data": {
      "text/plain": [
       "0.8905196655713618"
      ]
     },
     "execution_count": 100,
     "metadata": {},
     "output_type": "execute_result"
    },
    {
     "data": {
      "image/png": "[encoded data removed]",
      "text/plain": [
       "<Figure size 432x288 with 1 Axes>"
      ]
     },
     "metadata": {
      "needs_background": "light"
     },
     "output_type": "display_data"
    }
   ],
   "source": [
    "# ROC curve\n",
    "plot_roc_curve(gs_rf, X_test, y_test)\n",
    "# add worst case scenario line\n",
    "plt.plot([0,1], [0,1], label = 'baseline', linestyle = '--')\n",
    "# add a legend\n",
    "plt.legend()\n",
    "plt.title('ROC Curve Grid Search Random Forest');\n",
    "# Calculate ROC AUC.\n",
    "roc_auc_score(y_test, gs_rf.predict_proba(X_test)[:,1])"
   ]
  },
  {
   "cell_type": "markdown",
   "id": "mental-incidence",
   "metadata": {},
   "source": [
    "## 2. Logistic Regression Count Vectorizer"
   ]
  },
  {
   "cell_type": "code",
   "execution_count": 48,
   "id": "elder-contents",
   "metadata": {
    "ExecuteTime": {
     "end_time": "2021-01-29T00:27:06.461143Z",
     "start_time": "2021-01-29T00:27:00.221144Z"
    }
   },
   "outputs": [
    {
     "data": {
      "text/plain": [
       "Pipeline(steps=[('cvec',\n",
       "                 CountVectorizer(max_features=10000, ngram_range=(1, 3),\n",
       "                                 stop_words=frozenset({'a', 'about', 'above',\n",
       "                                                       'across', 'after',\n",
       "                                                       'afterwards', 'again',\n",
       "                                                       'against', 'all',\n",
       "                                                       'almost', 'alone',\n",
       "                                                       'along', 'already',\n",
       "                                                       'also', 'although',\n",
       "                                                       'always', 'am', 'among',\n",
       "                                                       'amongst', 'amoungst',\n",
       "                                                       'amount', 'an', 'and',\n",
       "                                                       'another', 'any',\n",
       "                                                       'anyhow', 'anyone',\n",
       "                                                       'anything', 'anyway',\n",
       "                                                       'anywhere', ...}))),\n",
       "                ('logreg', LogisticRegression(solver='liblinear'))])"
      ]
     },
     "execution_count": 48,
     "metadata": {},
     "output_type": "execute_result"
    }
   ],
   "source": [
    "#Initiate LCount Vectorizer\n",
    "cvec = CountVectorizer(analyzer = \"word\", \n",
    "                       tokenizer = None, \n",
    "                       preprocessor = None,\n",
    "                       stop_words = stop_words, \n",
    "                       max_features = 10000, \n",
    "                       ngram_range = (1, 3)\n",
    "                      )\n",
    "#Initiate Logistic Regression\n",
    "logreg = LogisticRegression(solver = 'liblinear')\n",
    "\n",
    "#Initialize Pipeline\n",
    "pipe_log = Pipeline([\n",
    "    ('cvec', cvec),\n",
    "    ('logreg', logreg)\n",
    "])\n",
    "#Fit the pipeline\n",
    "pipe_log.fit(X_train, y_train)"
   ]
  },
  {
   "cell_type": "code",
   "execution_count": 49,
   "id": "eight-virus",
   "metadata": {
    "ExecuteTime": {
     "end_time": "2021-01-29T00:28:05.659748Z",
     "start_time": "2021-01-29T00:28:03.492827Z"
    }
   },
   "outputs": [
    {
     "data": {
      "text/plain": [
       "(0.98848518725545, 0.824279007377599)"
      ]
     },
     "execution_count": 49,
     "metadata": {},
     "output_type": "execute_result"
    }
   ],
   "source": [
    "# Score model on training and test set.\n",
    "pipe_log.score(X_train, y_train), pipe_log.score(X_test, y_test)"
   ]
  },
  {
   "cell_type": "code",
   "execution_count": 65,
   "id": "infrared-teach",
   "metadata": {
    "ExecuteTime": {
     "end_time": "2021-01-29T02:18:34.126863Z",
     "start_time": "2021-01-29T02:18:33.625127Z"
    }
   },
   "outputs": [
    {
     "name": "stdout",
     "output_type": "stream",
     "text": [
      "Specificity: 0.8789843327930849\n"
     ]
    }
   ],
   "source": [
    "# Get predictions\n",
    "preds_log = pipe_log.predict(X_test)\n",
    "\n",
    "# # Save confusion matrix values\n",
    "tn_log, fp_log, fn_log, tp_log = confusion_matrix(y_test, preds_log).ravel()\n",
    "\n",
    "# # Calculate the specificity\n",
    "\n",
    "spec_log = tn_log / (tn_log + fp_log)\n",
    "\n",
    "print('Specificity:', spec_log)"
   ]
  },
  {
   "cell_type": "code",
   "execution_count": 66,
   "id": "fiscal-carolina",
   "metadata": {
    "ExecuteTime": {
     "end_time": "2021-01-29T02:18:35.716715Z",
     "start_time": "2021-01-29T02:18:35.133309Z"
    },
    "scrolled": true
   },
   "outputs": [
    {
     "data": {
      "image/png": "[encoded data removed]",
      "text/plain": [
       "<Figure size 432x288 with 2 Axes>"
      ]
     },
     "metadata": {
      "needs_background": "light"
     },
     "output_type": "display_data"
    }
   ],
   "source": [
    "plot_confusion_matrix(pipe_log, X_test, y_test, cmap='Blues', values_format='d');"
   ]
  },
  {
   "cell_type": "code",
   "execution_count": 103,
   "id": "taken-general",
   "metadata": {
    "ExecuteTime": {
     "end_time": "2021-01-29T16:39:15.906554Z",
     "start_time": "2021-01-29T16:39:15.279586Z"
    }
   },
   "outputs": [
    {
     "data": {
      "image/png": "[encoded data removed]",
      "text/plain": [
       "<Figure size 432x288 with 1 Axes>"
      ]
     },
     "metadata": {
      "needs_background": "light"
     },
     "output_type": "display_data"
    }
   ],
   "source": [
    "# ROC curve\n",
    "plot_roc_curve(pipe_log, X_test, y_test)\n",
    "# add worst case scenario line\n",
    "plt.plot([0,1], [0,1], label = 'baseline', linestyle = '--')\n",
    "# add a legend\n",
    "plt.legend()\n",
    "plt.title(\"ROC Curve Logistic Regression\");"
   ]
  },
  {
   "cell_type": "code",
   "execution_count": 68,
   "id": "oriental-delicious",
   "metadata": {
    "ExecuteTime": {
     "end_time": "2021-01-29T02:19:35.679772Z",
     "start_time": "2021-01-29T02:19:35.208178Z"
    }
   },
   "outputs": [
    {
     "data": {
      "text/plain": [
       "0.8778164215486074"
      ]
     },
     "execution_count": 68,
     "metadata": {},
     "output_type": "execute_result"
    }
   ],
   "source": [
    "# Calculate ROC AUC.\n",
    "roc_auc_score(y_test, pipe_log.predict_proba(X_test)[:,1])"
   ]
  },
  {
   "cell_type": "markdown",
   "id": "velvet-checkout",
   "metadata": {},
   "source": [
    "## 3. Multinomial Naive Bayes model¶\n",
    "### a. CountVectorizer\n",
    "\n",
    "Search over the following values of hyperparameters:\n",
    "- Maximum number of features fit: 1000, 2000, 3000, 5000\n",
    "- Minimum number of posts to include token: 2, 3\n",
    "- Maximum number of posts to include token: 90%, 95%\n",
    "- Choose between individual tokens and individual tokens and 2-grams."
   ]
  },
  {
   "cell_type": "code",
   "execution_count": 17,
   "id": "second-symphony",
   "metadata": {
    "ExecuteTime": {
     "end_time": "2021-01-28T23:46:55.445680Z",
     "start_time": "2021-01-28T23:46:06.074802Z"
    }
   },
   "outputs": [
    {
     "data": {
      "text/plain": [
       "GridSearchCV(cv=5,\n",
       "             estimator=Pipeline(steps=[('cvec', CountVectorizer()),\n",
       "                                       ('nb', MultinomialNB())]),\n",
       "             n_jobs=-2,\n",
       "             param_grid={'cvec__max_df': [0.9, 0.95],\n",
       "                         'cvec__max_features': [1000, 2000, 3000, 5000],\n",
       "                         'cvec__min_df': [2, 3],\n",
       "                         'cvec__ngram_range': [(1, 1), (1, 2)]})"
      ]
     },
     "execution_count": 17,
     "metadata": {},
     "output_type": "execute_result"
    }
   ],
   "source": [
    "pipe_cvnb = Pipeline([\n",
    "    ('cvec', CountVectorizer()),\n",
    "    ('nb', MultinomialNB())\n",
    "])\n",
    "\n",
    "params_cvnb = {\n",
    "    'cvec__max_features': [1000, 2000, 3000, 5000],\n",
    "    'cvec__min_df': [2, 3],\n",
    "    'cvec__max_df': [.9, .95],\n",
    "    'cvec__ngram_range': [(1,1), (1,2)]\n",
    "}\n",
    "\n",
    "gs_cvnb = GridSearchCV(pipe_cvnb, params_cvnb, cv=5,n_jobs= -2)\n",
    "\n",
    "# Fit GridSearch to training data.\n",
    "gs_cvnb.fit(X_train, y_train)"
   ]
  },
  {
   "cell_type": "code",
   "execution_count": 18,
   "id": "hazardous-fraud",
   "metadata": {
    "ExecuteTime": {
     "end_time": "2021-01-28T23:46:57.516361Z",
     "start_time": "2021-01-28T23:46:55.447747Z"
    }
   },
   "outputs": [
    {
     "name": "stdout",
     "output_type": "stream",
     "text": [
      "Best score: 0.8404692195815318\n",
      "Best Parameters: {'cvec__max_features': 1000, 'cvec__ngram_range': (1, 2), 'cvec__stop_words': 'english', 'rf__max_depth': None, 'rf__n_estimators': 30}\n",
      "Train Score: 0.9951928451648966\n",
      "Test Score: 0.8450704225352113\n"
     ]
    }
   ],
   "source": [
    "#Store the scores in valriables for further use\n",
    "gs_cvnb_best = gs_cvnb.best_score_\n",
    "gs_cvnb_train = gs_cvnb.score(X_train, y_train)\n",
    "gs_cvnb_test = gs_cvnb.score(X_test, y_test)\n",
    "\n",
    "#Print scores\n",
    "print('Best score:', gs_rf.best_score_)\n",
    "print('Best Parameters:', gs_rf_params)\n",
    "print('Train Score:', gs_rf_train)\n",
    "print('Test Score:', gs_rf_test)"
   ]
  },
  {
   "cell_type": "code",
   "execution_count": 93,
   "id": "unsigned-render",
   "metadata": {
    "ExecuteTime": {
     "end_time": "2021-01-29T02:48:25.275445Z",
     "start_time": "2021-01-29T02:48:23.985951Z"
    }
   },
   "outputs": [
    {
     "name": "stdout",
     "output_type": "stream",
     "text": [
      "Specificity: 0.8454889249054565\n"
     ]
    },
    {
     "data": {
      "image/png": "[encoded data removed]",
      "text/plain": [
       "<Figure size 432x288 with 2 Axes>"
      ]
     },
     "metadata": {
      "needs_background": "light"
     },
     "output_type": "display_data"
    }
   ],
   "source": [
    "# Get predictions\n",
    "preds_cvnb = gs_cvnb.predict(X_test)\n",
    "\n",
    "# Save confusion matrix values\n",
    "tn_cvnb, fp_cvnb, fn_cvnb, tp_cvnb = confusion_matrix(y_test, preds_cvnb).ravel()\n",
    "\n",
    "#Plot the confusion matrix\n",
    "plot_confusion_matrix(gs_cvnb, X_test, y_test, cmap='Blues', values_format='d');\n",
    "\n",
    "#Calculate the specificity\n",
    "spec_cvnb = tn_cvnb / (tn_cvnb + fp_cvnb)\n",
    "\n",
    "print('Specificity:', spec_cvnb)"
   ]
  },
  {
   "cell_type": "code",
   "execution_count": 101,
   "id": "imperial-queensland",
   "metadata": {
    "ExecuteTime": {
     "end_time": "2021-01-29T16:37:25.671364Z",
     "start_time": "2021-01-29T16:37:24.712385Z"
    }
   },
   "outputs": [
    {
     "data": {
      "text/plain": [
       "0.8800829814075217"
      ]
     },
     "execution_count": 101,
     "metadata": {},
     "output_type": "execute_result"
    },
    {
     "data": {
      "image/png": "[encoded data removed]",
      "text/plain": [
       "<Figure size 432x288 with 1 Axes>"
      ]
     },
     "metadata": {
      "needs_background": "light"
     },
     "output_type": "display_data"
    }
   ],
   "source": [
    "# ROC curve\n",
    "plot_roc_curve(gs_cvnb, X_test, y_test)\n",
    "# add worst case scenario line\n",
    "plt.plot([0,1], [0,1], label = 'baseline', linestyle = '--')\n",
    "# add a legend\n",
    "plt.title(\"ROC Curve MNBayes Count Vectorizer\")\n",
    "plt.legend();\n",
    "\n",
    "# Calculate ROC AUC.\n",
    "roc_auc_score(y_test, gs_cvnb.predict_proba(X_test)[:,1])"
   ]
  },
  {
   "cell_type": "markdown",
   "id": "competent-cheat",
   "metadata": {},
   "source": [
    "### b. TF-IDF Vectorizer\n",
    "\n",
    "Search over the following values of hyperparameters:\n",
    "- Maximum number of features fit: 1000, 2000, 3000, 5000\n",
    "- Choose between no stop words, english and (my custom) stop_words\n",
    "- Choose individual tokens or individual tokens and 2-grams."
   ]
  },
  {
   "cell_type": "code",
   "execution_count": 20,
   "id": "different-illustration",
   "metadata": {
    "ExecuteTime": {
     "end_time": "2021-01-28T23:46:58.672895Z",
     "start_time": "2021-01-28T23:46:58.671044Z"
    }
   },
   "outputs": [],
   "source": [
    "# Instantiate the transformer.\n",
    "tvec = TfidfVectorizer()"
   ]
  },
  {
   "cell_type": "code",
   "execution_count": 21,
   "id": "formal-coast",
   "metadata": {
    "ExecuteTime": {
     "end_time": "2021-01-28T23:46:59.968911Z",
     "start_time": "2021-01-28T23:46:58.674263Z"
    }
   },
   "outputs": [],
   "source": [
    "# convert training data to dataframe\n",
    "X_train_df = pd.DataFrame(tvec.fit_transform(X_train).todense(), \n",
    "                          columns=tvec.get_feature_names())"
   ]
  },
  {
   "cell_type": "code",
   "execution_count": 22,
   "id": "motivated-jordan",
   "metadata": {
    "ExecuteTime": {
     "end_time": "2021-01-28T23:47:34.653205Z",
     "start_time": "2021-01-28T23:46:59.974826Z"
    }
   },
   "outputs": [
    {
     "data": {
      "text/plain": [
       "GridSearchCV(cv=5,\n",
       "             estimator=Pipeline(steps=[('tvec', TfidfVectorizer()),\n",
       "                                       ('nb', MultinomialNB())]),\n",
       "             n_jobs=-2,\n",
       "             param_grid={'tvec__max_features': [1000, 2000, 3000, 5000],\n",
       "                         'tvec__ngram_range': [(1, 1), (1, 2)],\n",
       "                         'tvec__stop_words': [None, 'english',\n",
       "                                              frozenset({'a', 'about', 'above',\n",
       "                                                         'across', 'after',\n",
       "                                                         'afterwards', 'again',\n",
       "                                                         'against', 'all',\n",
       "                                                         'almost', 'alone',\n",
       "                                                         'along', 'already',\n",
       "                                                         'also', 'although',\n",
       "                                                         'always', 'am',\n",
       "                                                         'among', 'amongst',\n",
       "                                                         'amoungst', 'amount',\n",
       "                                                         'an', 'and', 'another',\n",
       "                                                         'any', 'anyhow',\n",
       "                                                         'anyone', 'anything',\n",
       "                                                         'anyway', 'anywhere', ...})]})"
      ]
     },
     "execution_count": 22,
     "metadata": {},
     "output_type": "execute_result"
    }
   ],
   "source": [
    "pipe_tvec = Pipeline([\n",
    "    ('tvec', TfidfVectorizer()),\n",
    "    ('nb', MultinomialNB())\n",
    "])\n",
    "\n",
    "params_tvec = {\n",
    "    'tvec__max_features': [1000, 2000, 3000, 5000],\n",
    "    'tvec__stop_words': [None, 'english', stop_words],\n",
    "    'tvec__ngram_range': [(1,1), (1,2)]\n",
    "}\n",
    "\n",
    "# Instantiate GridSearchCV.\n",
    "gs_tvec = GridSearchCV(pipe_tvec, params_tvec, cv=5, n_jobs=-2)\n",
    "\n",
    "# Fit GridSearch to training data.\n",
    "gs_tvec.fit(X_train, y_train)"
   ]
  },
  {
   "cell_type": "code",
   "execution_count": 23,
   "id": "interim-tissue",
   "metadata": {
    "ExecuteTime": {
     "end_time": "2021-01-28T23:47:36.316639Z",
     "start_time": "2021-01-28T23:47:34.655312Z"
    }
   },
   "outputs": [
    {
     "data": {
      "text/plain": [
       "(0.8527669088876467, 0.835345405767941)"
      ]
     },
     "execution_count": 23,
     "metadata": {},
     "output_type": "execute_result"
    }
   ],
   "source": [
    "# Score model on training and test set.\n",
    "gs_tvec.score(X_train, y_train), gs_tvec.score(X_test, y_test)"
   ]
  },
  {
   "cell_type": "code",
   "execution_count": 54,
   "id": "subjective-cooling",
   "metadata": {
    "ExecuteTime": {
     "end_time": "2021-01-29T00:33:55.602350Z",
     "start_time": "2021-01-29T00:33:55.202360Z"
    }
   },
   "outputs": [
    {
     "name": "stdout",
     "output_type": "stream",
     "text": [
      "Specificity: 0.9146407347379795\n"
     ]
    }
   ],
   "source": [
    "# # Get predictions\n",
    "preds_tvec = gs_tvec.predict(X_test)\n",
    "\n",
    "# # Save confusion matrix values\n",
    "tn_tvec, fp_tvec, fn_tvec, tp_tvec = confusion_matrix(y_test, preds_tvec).ravel()\n",
    "\n",
    "# # Calculate the specificity\n",
    "\n",
    "spec_tvec = tn_tvec / (tn_tvec + fp_tvec)\n",
    "\n",
    "print('Specificity:', spec_tvec)"
   ]
  },
  {
   "cell_type": "code",
   "execution_count": 25,
   "id": "packed-determination",
   "metadata": {
    "ExecuteTime": {
     "end_time": "2021-01-28T23:47:37.266501Z",
     "start_time": "2021-01-28T23:47:36.738795Z"
    },
    "scrolled": false
   },
   "outputs": [
    {
     "data": {
      "image/png": "[encoded data removed]",
      "text/plain": [
       "<Figure size 432x288 with 2 Axes>"
      ]
     },
     "metadata": {
      "needs_background": "light"
     },
     "output_type": "display_data"
    }
   ],
   "source": [
    "plot_confusion_matrix(gs_tvec, X_test, y_test, cmap='Blues', values_format='d');"
   ]
  },
  {
   "cell_type": "code",
   "execution_count": 102,
   "id": "settled-indiana",
   "metadata": {
    "ExecuteTime": {
     "end_time": "2021-01-29T16:38:21.209528Z",
     "start_time": "2021-01-29T16:38:20.445715Z"
    }
   },
   "outputs": [
    {
     "data": {
      "text/plain": [
       "0.9031061184696686"
      ]
     },
     "execution_count": 102,
     "metadata": {},
     "output_type": "execute_result"
    },
    {
     "data": {
      "image/png": "[encoded data removed]",
      "text/plain": [
       "<Figure size 432x288 with 1 Axes>"
      ]
     },
     "metadata": {
      "needs_background": "light"
     },
     "output_type": "display_data"
    }
   ],
   "source": [
    "# ROC curve\n",
    "plot_roc_curve(gs_tvec, X_test, y_test)\n",
    "# add worst case scenario line\n",
    "plt.plot([0,1], [0,1], label = 'baseline', linestyle = '--')\n",
    "# add a legend\n",
    "plt.legend()\n",
    "plt.title(\"ROC Curve MNBayes TF-IDF Vectorizer\");\n",
    "\n",
    "# Calculate ROC AUC.\n",
    "roc_auc_score(y_test, gs_tvec.predict_proba(X_test)[:,1])"
   ]
  },
  {
   "cell_type": "markdown",
   "id": "optical-ground",
   "metadata": {},
   "source": [
    "## Models Valuation\n",
    "\n",
    "In this section all the results obtained by the models above are compared."
   ]
  },
  {
   "cell_type": "code",
   "execution_count": 60,
   "id": "right-memorabilia",
   "metadata": {
    "ExecuteTime": {
     "end_time": "2021-01-29T00:40:46.225657Z",
     "start_time": "2021-01-29T00:40:46.180525Z"
    },
    "scrolled": true
   },
   "outputs": [
    {
     "name": "stdout",
     "output_type": "stream",
     "text": [
      "Baseline Model\n",
      "              precision    recall  f1-score   support\n",
      "\n",
      "           0       0.62      1.00      0.77      1851\n",
      "           1       0.00      0.00      0.00      1131\n",
      "\n",
      "    accuracy                           0.62      2982\n",
      "   macro avg       0.31      0.50      0.38      2982\n",
      "weighted avg       0.39      0.62      0.48      2982\n",
      "\n",
      "____________________________________________________\n",
      "Manual Random Forest\n",
      "              precision    recall  f1-score   support\n",
      "\n",
      "           0       0.84      0.93      0.88      1851\n",
      "           1       0.86      0.72      0.78      1131\n",
      "\n",
      "    accuracy                           0.85      2982\n",
      "   macro avg       0.85      0.82      0.83      2982\n",
      "weighted avg       0.85      0.85      0.85      2982\n",
      "\n",
      "____________________________________________________\n",
      "Grid Searched Random Forest\n",
      "              precision    recall  f1-score   support\n",
      "\n",
      "           0       0.85      0.91      0.88      1851\n",
      "           1       0.83      0.74      0.78      1131\n",
      "\n",
      "    accuracy                           0.85      2982\n",
      "   macro avg       0.84      0.83      0.83      2982\n",
      "weighted avg       0.84      0.85      0.84      2982\n",
      "\n",
      "____________________________________________________\n",
      "Count Vectorizer MNBayes\n",
      "              precision    recall  f1-score   support\n",
      "\n",
      "           0       0.86      0.85      0.85      1851\n",
      "           1       0.76      0.78      0.77      1131\n",
      "\n",
      "    accuracy                           0.82      2982\n",
      "   macro avg       0.81      0.81      0.81      2982\n",
      "weighted avg       0.82      0.82      0.82      2982\n",
      "\n",
      "____________________________________________________\n",
      "TF-IDF Vectorizer MNBayes\n",
      "              precision    recall  f1-score   support\n",
      "\n",
      "           0       0.84      0.91      0.87      1851\n",
      "           1       0.83      0.71      0.76      1131\n",
      "\n",
      "    accuracy                           0.84      2982\n",
      "   macro avg       0.84      0.81      0.82      2982\n",
      "weighted avg       0.84      0.84      0.83      2982\n",
      "\n",
      "____________________________________________________\n",
      "Logistic Regression\n",
      "              precision    recall  f1-score   support\n",
      "\n",
      "           0       0.84      0.88      0.86      1851\n",
      "           1       0.79      0.73      0.76      1131\n",
      "\n",
      "    accuracy                           0.82      2982\n",
      "   macro avg       0.82      0.81      0.81      2982\n",
      "weighted avg       0.82      0.82      0.82      2982\n",
      "\n"
     ]
    }
   ],
   "source": [
    "print (\"Baseline Model\")\n",
    "print(metrics.classification_report(y_test, preds_baseline))\n",
    "print (\"____________________________________________________\")\n",
    "print (\"Manual Random Forest\")\n",
    "print(metrics.classification_report(y_test, preds_rf_man))\n",
    "print (\"____________________________________________________\")\n",
    "print (\"Grid Searched Random Forest\")\n",
    "print(metrics.classification_report(y_test, preds_rf))\n",
    "print (\"____________________________________________________\")\n",
    "print (\"Count Vectorizer MNBayes\")\n",
    "print(metrics.classification_report(y_test, preds_cvnb))\n",
    "print (\"____________________________________________________\")\n",
    "print (\"TF-IDF Vectorizer MNBayes\")\n",
    "print(metrics.classification_report(y_test, preds_tvec))\n",
    "print (\"____________________________________________________\")\n",
    "print (\"Logistic Regression\")\n",
    "print(metrics.classification_report(y_test, preds_log))"
   ]
  },
  {
   "cell_type": "markdown",
   "id": "experienced-helicopter",
   "metadata": {},
   "source": [
    "The Manual Random Forest is overall the model that had the best performances, even though all models appear to be overfit. I would probably need to rebalance the classes to make sure this is properly addressed in future models."
   ]
  },
  {
   "cell_type": "markdown",
   "id": "valid-circuit",
   "metadata": {
    "ExecuteTime": {
     "end_time": "2021-01-29T02:17:13.324496Z",
     "start_time": "2021-01-29T02:17:13.322529Z"
    }
   },
   "source": [
    "## Features Importance\n",
    "\n",
    "I also wanted to investigate which words were influencing more the best model, Radom Forest.\n",
    "\n",
    "To do so, I create a dataframe including best features and their importance scores.\n",
    "\n",
    "I then plot it."
   ]
  },
  {
   "cell_type": "code",
   "execution_count": 84,
   "id": "nasty-romance",
   "metadata": {
    "ExecuteTime": {
     "end_time": "2021-01-29T02:39:21.771766Z",
     "start_time": "2021-01-29T02:39:21.722812Z"
    }
   },
   "outputs": [],
   "source": [
    "rf_features = cvec.get_feature_names()\n",
    "rf_features_best = rf.feature_importances_\n",
    "\n",
    "df_rf_features = pd.DataFrame(data=rf_features_best, index=rf_features)\n",
    "\n",
    "df_rf_features.columns = ['feature_importances_']"
   ]
  },
  {
   "cell_type": "code",
   "execution_count": 85,
   "id": "modified-biotechnology",
   "metadata": {
    "ExecuteTime": {
     "end_time": "2021-01-29T02:39:22.552798Z",
     "start_time": "2021-01-29T02:39:22.543197Z"
    },
    "scrolled": true
   },
   "outputs": [
    {
     "data": {
      "text/html": [
       "<div>\n",
       "<style scoped>\n",
       "    .dataframe tbody tr th:only-of-type {\n",
       "        vertical-align: middle;\n",
       "    }\n",
       "\n",
       "    .dataframe tbody tr th {\n",
       "        vertical-align: top;\n",
       "    }\n",
       "\n",
       "    .dataframe thead th {\n",
       "        text-align: right;\n",
       "    }\n",
       "</style>\n",
       "<table border=\"1\" class=\"dataframe\">\n",
       "  <thead>\n",
       "    <tr style=\"text-align: right;\">\n",
       "      <th></th>\n",
       "      <th>feature_importances_</th>\n",
       "    </tr>\n",
       "  </thead>\n",
       "  <tbody>\n",
       "    <tr>\n",
       "      <th>restaurant owner</th>\n",
       "      <td>0.048811</td>\n",
       "    </tr>\n",
       "    <tr>\n",
       "      <th>card</th>\n",
       "      <td>0.024123</td>\n",
       "    </tr>\n",
       "    <tr>\n",
       "      <th>food drink</th>\n",
       "      <td>0.015625</td>\n",
       "    </tr>\n",
       "    <tr>\n",
       "      <th>really really</th>\n",
       "      <td>0.010779</td>\n",
       "    </tr>\n",
       "    <tr>\n",
       "      <th>really looking</th>\n",
       "      <td>0.010652</td>\n",
       "    </tr>\n",
       "    <tr>\n",
       "      <th>make easy</th>\n",
       "      <td>0.007978</td>\n",
       "    </tr>\n",
       "    <tr>\n",
       "      <th>time getting</th>\n",
       "      <td>0.007929</td>\n",
       "    </tr>\n",
       "    <tr>\n",
       "      <th>beverage</th>\n",
       "      <td>0.007674</td>\n",
       "    </tr>\n",
       "    <tr>\n",
       "      <th>input</th>\n",
       "      <td>0.007275</td>\n",
       "    </tr>\n",
       "    <tr>\n",
       "      <th>finally got</th>\n",
       "      <td>0.005852</td>\n",
       "    </tr>\n",
       "    <tr>\n",
       "      <th>hypothetical</th>\n",
       "      <td>0.004414</td>\n",
       "    </tr>\n",
       "    <tr>\n",
       "      <th>make app</th>\n",
       "      <td>0.004380</td>\n",
       "    </tr>\n",
       "    <tr>\n",
       "      <th>wireframes</th>\n",
       "      <td>0.004250</td>\n",
       "    </tr>\n",
       "    <tr>\n",
       "      <th>processed</th>\n",
       "      <td>0.004231</td>\n",
       "    </tr>\n",
       "    <tr>\n",
       "      <th>sick</th>\n",
       "      <td>0.004012</td>\n",
       "    </tr>\n",
       "    <tr>\n",
       "      <th>need service</th>\n",
       "      <td>0.003950</td>\n",
       "    </tr>\n",
       "    <tr>\n",
       "      <th>yes</th>\n",
       "      <td>0.003870</td>\n",
       "    </tr>\n",
       "    <tr>\n",
       "      <th>restricted</th>\n",
       "      <td>0.003761</td>\n",
       "    </tr>\n",
       "    <tr>\n",
       "      <th>started building</th>\n",
       "      <td>0.003612</td>\n",
       "    </tr>\n",
       "    <tr>\n",
       "      <th>secure</th>\n",
       "      <td>0.003275</td>\n",
       "    </tr>\n",
       "  </tbody>\n",
       "</table>\n",
       "</div>"
      ],
      "text/plain": [
       "                  feature_importances_\n",
       "restaurant owner              0.048811\n",
       "card                          0.024123\n",
       "food drink                    0.015625\n",
       "really really                 0.010779\n",
       "really looking                0.010652\n",
       "make easy                     0.007978\n",
       "time getting                  0.007929\n",
       "beverage                      0.007674\n",
       "input                         0.007275\n",
       "finally got                   0.005852\n",
       "hypothetical                  0.004414\n",
       "make app                      0.004380\n",
       "wireframes                    0.004250\n",
       "processed                     0.004231\n",
       "sick                          0.004012\n",
       "need service                  0.003950\n",
       "yes                           0.003870\n",
       "restricted                    0.003761\n",
       "started building              0.003612\n",
       "secure                        0.003275"
      ]
     },
     "execution_count": 85,
     "metadata": {},
     "output_type": "execute_result"
    }
   ],
   "source": [
    "df_rf_features.sort_values(by='feature_importances_', ascending=False).head(20)"
   ]
  },
  {
   "cell_type": "markdown",
   "id": "portuguese-teens",
   "metadata": {},
   "source": [
    "Reastaurant owner stands out to be the most important feature, and it is clearly referable to Small Business. \n",
    "\n",
    "Further analysis could be done to interpret these coefficents in relationship to the class they are predicting. Unfortunately I did not have enough time (yet) to make this a more accurate analysis."
   ]
  }
 ],
 "metadata": {
  "kernelspec": {
   "display_name": "Python 3",
   "language": "python",
   "name": "python3"
  },
  "language_info": {
   "codemirror_mode": {
    "name": "ipython",
    "version": 3
   },
   "file_extension": ".py",
   "mimetype": "text/x-python",
   "name": "python",
   "nbconvert_exporter": "python",
   "pygments_lexer": "ipython3",
   "version": "3.8.5"
  }
 },
 "nbformat": 4,
 "nbformat_minor": 5
}
