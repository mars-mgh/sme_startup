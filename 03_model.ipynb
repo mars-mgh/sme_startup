{
 "cells": [
  {
   "cell_type": "markdown",
   "id": "proved-sheffield",
   "metadata": {},
   "source": [
    "# Model"
   ]
  },
  {
   "cell_type": "code",
   "execution_count": 94,
   "id": "innovative-module",
   "metadata": {
    "ExecuteTime": {
     "end_time": "2021-01-27T01:22:20.368036Z",
     "start_time": "2021-01-27T01:22:20.365261Z"
    }
   },
   "outputs": [],
   "source": [
    "# imports\n",
    "import pandas as pd\n",
    "import matplotlib.pyplot as plt\n",
    "from sklearn.model_selection import train_test_split, GridSearchCV\n",
    "from sklearn.pipeline import Pipeline\n",
    "from sklearn.naive_bayes import MultinomialNB\n",
    "from sklearn.linear_model import LogisticRegression\n",
    "from sklearn.metrics import confusion_matrix, plot_confusion_matrix\n",
    "from sklearn.feature_extraction import text\n",
    "\n",
    "from sklearn.ensemble import RandomForestClassifier\n",
    "# Import CountVectorizer and TFIDFVectorizer from feature_extraction.text.\n",
    "from sklearn.feature_extraction.text import CountVectorizer, TfidfVectorizer"
   ]
  },
  {
   "cell_type": "code",
   "execution_count": 47,
   "id": "important-poverty",
   "metadata": {
    "ExecuteTime": {
     "end_time": "2021-01-27T01:00:22.393490Z",
     "start_time": "2021-01-27T01:00:22.143397Z"
    }
   },
   "outputs": [],
   "source": [
    "df = pd.read_csv('corpus_clean.csv')"
   ]
  },
  {
   "cell_type": "code",
   "execution_count": 48,
   "id": "organized-bacon",
   "metadata": {
    "ExecuteTime": {
     "end_time": "2021-01-27T01:00:22.932598Z",
     "start_time": "2021-01-27T01:00:22.929781Z"
    }
   },
   "outputs": [],
   "source": [
    "text.ENGLISH_STOP_WORDS\n",
    "\n",
    "add_stop_words = ['don', 'ha', 'x200b', 'wa', 'just']\n",
    "\n",
    "stop_words = text.ENGLISH_STOP_WORDS.union(add_stop_words)"
   ]
  },
  {
   "cell_type": "code",
   "execution_count": 49,
   "id": "digital-assist",
   "metadata": {
    "ExecuteTime": {
     "end_time": "2021-01-27T01:00:23.676621Z",
     "start_time": "2021-01-27T01:00:23.673904Z"
    }
   },
   "outputs": [],
   "source": [
    "X = df['alltext']\n",
    "y = df['target']"
   ]
  },
  {
   "cell_type": "code",
   "execution_count": 50,
   "id": "printable-orchestra",
   "metadata": {
    "ExecuteTime": {
     "end_time": "2021-01-27T01:00:24.262214Z",
     "start_time": "2021-01-27T01:00:24.257116Z"
    }
   },
   "outputs": [
    {
     "data": {
      "text/plain": [
       "0    0.589091\n",
       "1    0.410909\n",
       "Name: target, dtype: float64"
      ]
     },
     "execution_count": 50,
     "metadata": {},
     "output_type": "execute_result"
    }
   ],
   "source": [
    "y.value_counts(normalize = True)"
   ]
  },
  {
   "cell_type": "code",
   "execution_count": 72,
   "id": "stunning-nurse",
   "metadata": {
    "ExecuteTime": {
     "end_time": "2021-01-27T01:12:15.272319Z",
     "start_time": "2021-01-27T01:12:15.262556Z"
    }
   },
   "outputs": [],
   "source": [
    "X_train, X_test, y_train, y_test = train_test_split(X,\n",
    "                                                    y,\n",
    "                                                    test_size=0.25,\n",
    "                                                    stratify=y,\n",
    "                                                    random_state=42)"
   ]
  },
  {
   "cell_type": "code",
   "execution_count": 73,
   "id": "removed-jesus",
   "metadata": {
    "ExecuteTime": {
     "end_time": "2021-01-27T01:12:17.159422Z",
     "start_time": "2021-01-27T01:12:17.154058Z"
    }
   },
   "outputs": [
    {
     "data": {
      "text/plain": [
       "0    0.589077\n",
       "1    0.410923\n",
       "Name: target, dtype: float64"
      ]
     },
     "execution_count": 73,
     "metadata": {},
     "output_type": "execute_result"
    }
   ],
   "source": [
    "y_test.value_counts(normalize = True)"
   ]
  },
  {
   "cell_type": "code",
   "execution_count": null,
   "id": "lucky-manitoba",
   "metadata": {},
   "outputs": [],
   "source": []
  },
  {
   "cell_type": "markdown",
   "id": "demonstrated-brooklyn",
   "metadata": {},
   "source": [
    "### Count Vectorizer and Random Forest"
   ]
  },
  {
   "cell_type": "code",
   "execution_count": 95,
   "id": "assisted-creator",
   "metadata": {
    "ExecuteTime": {
     "end_time": "2021-01-27T01:22:41.214283Z",
     "start_time": "2021-01-27T01:22:24.922502Z"
    }
   },
   "outputs": [
    {
     "name": "stdout",
     "output_type": "stream",
     "text": [
      "train score: 0.9955560372859311\n",
      "test score: 0.8332249674902471\n"
     ]
    }
   ],
   "source": [
    "cvec = CountVectorizer(analyzer = \"word\", \n",
    "                       tokenizer = None, \n",
    "                       preprocessor = None,\n",
    "                       stop_words = stop_words, \n",
    "                       max_features = 10000, \n",
    "                       ngram_range = (1, 3)\n",
    "                      )\n",
    "rf = RandomForestClassifier(random_state = 42)\n",
    "\n",
    "pipe = Pipeline([\n",
    "    ('cvec', cvec),\n",
    "    ('rf', rf)\n",
    "])\n",
    "\n",
    "pipe.fit(X_train, y_train)\n",
    "print('train score:', pipe.score(X_train, y_train))\n",
    "print('test score:', pipe.score(X_test, y_test))"
   ]
  },
  {
   "cell_type": "code",
   "execution_count": 96,
   "id": "nasty-romance",
   "metadata": {
    "ExecuteTime": {
     "end_time": "2021-01-27T01:22:41.252873Z",
     "start_time": "2021-01-27T01:22:41.216608Z"
    }
   },
   "outputs": [],
   "source": [
    "rf_feat = cvec.get_feature_names()\n",
    "rf_feat_imp = rf.feature_importances_\n",
    "\n",
    "df_rf_feat02 = pd.DataFrame(data=rf_feat_imp, index=rf_feat)\n",
    "\n",
    "df_rf_feat02.columns = ['feature_importances_']"
   ]
  },
  {
   "cell_type": "code",
   "execution_count": 98,
   "id": "modified-biotechnology",
   "metadata": {
    "ExecuteTime": {
     "end_time": "2021-01-27T01:23:01.948108Z",
     "start_time": "2021-01-27T01:23:01.938249Z"
    },
    "scrolled": true
   },
   "outputs": [
    {
     "data": {
      "text/html": [
       "<div>\n",
       "<style scoped>\n",
       "    .dataframe tbody tr th:only-of-type {\n",
       "        vertical-align: middle;\n",
       "    }\n",
       "\n",
       "    .dataframe tbody tr th {\n",
       "        vertical-align: top;\n",
       "    }\n",
       "\n",
       "    .dataframe thead th {\n",
       "        text-align: right;\n",
       "    }\n",
       "</style>\n",
       "<table border=\"1\" class=\"dataframe\">\n",
       "  <thead>\n",
       "    <tr style=\"text-align: right;\">\n",
       "      <th></th>\n",
       "      <th>feature_importances_</th>\n",
       "    </tr>\n",
       "  </thead>\n",
       "  <tbody>\n",
       "    <tr>\n",
       "      <th>startup</th>\n",
       "      <td>0.067763</td>\n",
       "    </tr>\n",
       "    <tr>\n",
       "      <th>business</th>\n",
       "      <td>0.021171</td>\n",
       "    </tr>\n",
       "    <tr>\n",
       "      <th>founder</th>\n",
       "      <td>0.015677</td>\n",
       "    </tr>\n",
       "    <tr>\n",
       "      <th>small business</th>\n",
       "      <td>0.013010</td>\n",
       "    </tr>\n",
       "    <tr>\n",
       "      <th>small</th>\n",
       "      <td>0.010329</td>\n",
       "    </tr>\n",
       "    <tr>\n",
       "      <th>investor</th>\n",
       "      <td>0.007642</td>\n",
       "    </tr>\n",
       "    <tr>\n",
       "      <th>app</th>\n",
       "      <td>0.007237</td>\n",
       "    </tr>\n",
       "    <tr>\n",
       "      <th>nan</th>\n",
       "      <td>0.006863</td>\n",
       "    </tr>\n",
       "    <tr>\n",
       "      <th>saas</th>\n",
       "      <td>0.006712</td>\n",
       "    </tr>\n",
       "    <tr>\n",
       "      <th>user</th>\n",
       "      <td>0.006631</td>\n",
       "    </tr>\n",
       "    <tr>\n",
       "      <th>idea</th>\n",
       "      <td>0.006234</td>\n",
       "    </tr>\n",
       "    <tr>\n",
       "      <th>mvp</th>\n",
       "      <td>0.005618</td>\n",
       "    </tr>\n",
       "    <tr>\n",
       "      <th>share</th>\n",
       "      <td>0.004776</td>\n",
       "    </tr>\n",
       "    <tr>\n",
       "      <th>team</th>\n",
       "      <td>0.004527</td>\n",
       "    </tr>\n",
       "    <tr>\n",
       "      <th>project</th>\n",
       "      <td>0.004332</td>\n",
       "    </tr>\n",
       "    <tr>\n",
       "      <th>owner</th>\n",
       "      <td>0.004153</td>\n",
       "    </tr>\n",
       "    <tr>\n",
       "      <th>equity</th>\n",
       "      <td>0.004074</td>\n",
       "    </tr>\n",
       "    <tr>\n",
       "      <th>tech</th>\n",
       "      <td>0.003842</td>\n",
       "    </tr>\n",
       "    <tr>\n",
       "      <th>product</th>\n",
       "      <td>0.003799</td>\n",
       "    </tr>\n",
       "    <tr>\n",
       "      <th>llc</th>\n",
       "      <td>0.003684</td>\n",
       "    </tr>\n",
       "  </tbody>\n",
       "</table>\n",
       "</div>"
      ],
      "text/plain": [
       "                feature_importances_\n",
       "startup                     0.067763\n",
       "business                    0.021171\n",
       "founder                     0.015677\n",
       "small business              0.013010\n",
       "small                       0.010329\n",
       "investor                    0.007642\n",
       "app                         0.007237\n",
       "nan                         0.006863\n",
       "saas                        0.006712\n",
       "user                        0.006631\n",
       "idea                        0.006234\n",
       "mvp                         0.005618\n",
       "share                       0.004776\n",
       "team                        0.004527\n",
       "project                     0.004332\n",
       "owner                       0.004153\n",
       "equity                      0.004074\n",
       "tech                        0.003842\n",
       "product                     0.003799\n",
       "llc                         0.003684"
      ]
     },
     "execution_count": 98,
     "metadata": {},
     "output_type": "execute_result"
    }
   ],
   "source": [
    "df_rf_feat02.sort_values(by='feature_importances_', ascending=False).head(20)"
   ]
  },
  {
   "cell_type": "markdown",
   "id": "velvet-checkout",
   "metadata": {},
   "source": [
    "## Multinomial Naive Bayes model¶\n",
    "### CountVectorizer"
   ]
  },
  {
   "cell_type": "code",
   "execution_count": 74,
   "id": "lucky-assistant",
   "metadata": {
    "ExecuteTime": {
     "end_time": "2021-01-27T01:12:18.371703Z",
     "start_time": "2021-01-27T01:12:18.369168Z"
    }
   },
   "outputs": [],
   "source": [
    "pipe = Pipeline([\n",
    "    ('cvec', CountVectorizer()),\n",
    "    ('nb', MultinomialNB())\n",
    "])"
   ]
  },
  {
   "cell_type": "code",
   "execution_count": 75,
   "id": "second-symphony",
   "metadata": {
    "ExecuteTime": {
     "end_time": "2021-01-27T01:12:19.043202Z",
     "start_time": "2021-01-27T01:12:19.040326Z"
    }
   },
   "outputs": [],
   "source": [
    "# Search over the following values of hyperparameters:\n",
    "# Maximum number of features fit: 2000, 3000, 4000, 5000\n",
    "# Minimum number of documents needed to include token: 2, 3\n",
    "# Maximum number of documents needed to include token: 90%, 95%\n",
    "# Check (individual tokens) and also check (individual tokens and 2-grams).\n",
    "\n",
    "pipe_params = {\n",
    "    'cvec__max_features': [2000, 3000, 4000, 5000],\n",
    "    'cvec__min_df': [2, 3],\n",
    "    'cvec__max_df': [.9, .95],\n",
    "    'cvec__ngram_range': [(1,1), (1,2)]\n",
    "}"
   ]
  },
  {
   "cell_type": "code",
   "execution_count": 76,
   "id": "infrared-figure",
   "metadata": {
    "ExecuteTime": {
     "end_time": "2021-01-27T01:12:19.563785Z",
     "start_time": "2021-01-27T01:12:19.561159Z"
    }
   },
   "outputs": [],
   "source": [
    "# Instantiate GridSearchCV.\n",
    "\n",
    "gs = GridSearchCV(pipe, # what object are we optimizing?\n",
    "                  pipe_params, # what parameters values are we searching?\n",
    "                  cv=5) # 5-fold cross-validation."
   ]
  },
  {
   "cell_type": "code",
   "execution_count": 77,
   "id": "quality-bacon",
   "metadata": {
    "ExecuteTime": {
     "end_time": "2021-01-27T01:16:38.726637Z",
     "start_time": "2021-01-27T01:12:20.482086Z"
    }
   },
   "outputs": [
    {
     "data": {
      "text/plain": [
       "GridSearchCV(cv=5,\n",
       "             estimator=Pipeline(steps=[('cvec', CountVectorizer()),\n",
       "                                       ('nb', MultinomialNB())]),\n",
       "             param_grid={'cvec__max_df': [0.9, 0.95],\n",
       "                         'cvec__max_features': [2000, 3000, 4000, 5000],\n",
       "                         'cvec__min_df': [2, 3],\n",
       "                         'cvec__ngram_range': [(1, 1), (1, 2)]})"
      ]
     },
     "execution_count": 77,
     "metadata": {},
     "output_type": "execute_result"
    }
   ],
   "source": [
    "# Fit GridSearch to training data.\n",
    "gs.fit(X_train, y_train)"
   ]
  },
  {
   "cell_type": "code",
   "execution_count": 78,
   "id": "native-piece",
   "metadata": {
    "ExecuteTime": {
     "end_time": "2021-01-27T01:17:34.172243Z",
     "start_time": "2021-01-27T01:17:34.168993Z"
    }
   },
   "outputs": [
    {
     "data": {
      "text/plain": [
       "0.8203988995469587"
      ]
     },
     "execution_count": 78,
     "metadata": {},
     "output_type": "execute_result"
    }
   ],
   "source": [
    "# What's the best score?\n",
    "gs.best_score_"
   ]
  },
  {
   "cell_type": "code",
   "execution_count": 79,
   "id": "settled-rebate",
   "metadata": {
    "ExecuteTime": {
     "end_time": "2021-01-27T01:17:37.598604Z",
     "start_time": "2021-01-27T01:17:36.396589Z"
    }
   },
   "outputs": [
    {
     "data": {
      "text/plain": [
       "0.8375243876002602"
      ]
     },
     "execution_count": 79,
     "metadata": {},
     "output_type": "execute_result"
    }
   ],
   "source": [
    "# Score model on training set.\n",
    "gs.score(X_train, y_train)"
   ]
  },
  {
   "cell_type": "code",
   "execution_count": 80,
   "id": "indonesian-honolulu",
   "metadata": {
    "ExecuteTime": {
     "end_time": "2021-01-27T01:17:40.038539Z",
     "start_time": "2021-01-27T01:17:39.589523Z"
    }
   },
   "outputs": [
    {
     "data": {
      "text/plain": [
       "0.8107932379713915"
      ]
     },
     "execution_count": 80,
     "metadata": {},
     "output_type": "execute_result"
    }
   ],
   "source": [
    "# Score model on testing set.\n",
    "gs.score(X_test, y_test)"
   ]
  },
  {
   "cell_type": "code",
   "execution_count": 81,
   "id": "unsigned-render",
   "metadata": {
    "ExecuteTime": {
     "end_time": "2021-01-27T01:17:42.146868Z",
     "start_time": "2021-01-27T01:17:41.705511Z"
    }
   },
   "outputs": [],
   "source": [
    "# Get predictions\n",
    "preds = gs.predict(X_test)\n",
    "\n",
    "# Save confusion matrix values\n",
    "tn, fp, fn, tp = confusion_matrix(y_test, preds).ravel()"
   ]
  },
  {
   "cell_type": "code",
   "execution_count": 82,
   "id": "selective-courage",
   "metadata": {
    "ExecuteTime": {
     "end_time": "2021-01-27T01:17:45.837410Z",
     "start_time": "2021-01-27T01:17:45.306215Z"
    }
   },
   "outputs": [
    {
     "data": {
      "image/png": "[encoded data removed]",
      "text/plain": [
       "<Figure size 432x288 with 2 Axes>"
      ]
     },
     "metadata": {
      "needs_background": "light"
     },
     "output_type": "display_data"
    }
   ],
   "source": [
    "plot_confusion_matrix(gs, X_test, y_test, cmap='Blues', values_format='d');"
   ]
  },
  {
   "cell_type": "markdown",
   "id": "competent-cheat",
   "metadata": {},
   "source": [
    "### TF-IDF Vectorizer"
   ]
  },
  {
   "cell_type": "code",
   "execution_count": 83,
   "id": "different-illustration",
   "metadata": {
    "ExecuteTime": {
     "end_time": "2021-01-27T01:17:53.679250Z",
     "start_time": "2021-01-27T01:17:53.675781Z"
    }
   },
   "outputs": [],
   "source": [
    "# Instantiate the transformer.\n",
    "tvec = TfidfVectorizer(stop_words=stop_words)"
   ]
  },
  {
   "cell_type": "code",
   "execution_count": 84,
   "id": "formal-coast",
   "metadata": {
    "ExecuteTime": {
     "end_time": "2021-01-27T01:18:02.218361Z",
     "start_time": "2021-01-27T01:18:00.808749Z"
    }
   },
   "outputs": [],
   "source": [
    "# convert training data to dataframe\n",
    "X_train_df = pd.DataFrame(tvec.fit_transform(X_train).todense(), \n",
    "                          columns=tvec.get_feature_names())"
   ]
  },
  {
   "cell_type": "code",
   "execution_count": 85,
   "id": "motivated-jordan",
   "metadata": {
    "ExecuteTime": {
     "end_time": "2021-01-27T01:18:03.466568Z",
     "start_time": "2021-01-27T01:18:03.463937Z"
    }
   },
   "outputs": [],
   "source": [
    "# Set up a pipeline with tf-idf vectorizer and multinomial naive bayes\n",
    "\n",
    "pipe_tvec = Pipeline([\n",
    "    ('tvec', TfidfVectorizer()),\n",
    "    ('nb', MultinomialNB())\n",
    "])"
   ]
  },
  {
   "cell_type": "code",
   "execution_count": 86,
   "id": "consistent-library",
   "metadata": {
    "ExecuteTime": {
     "end_time": "2021-01-27T01:18:04.862993Z",
     "start_time": "2021-01-27T01:18:04.860085Z"
    }
   },
   "outputs": [],
   "source": [
    "# Search over the following values of hyperparameters:\n",
    "# Maximum number of features fit: 2000, 3000, 4000, 5000\n",
    "# No stop words and english stop words\n",
    "# Check (individual tokens) and also check (individual tokens and 2-grams).\n",
    "\n",
    "\n",
    "pipe_tvec_params = {\n",
    "    'tvec__max_features': [2_000, 3_000, 4_000, 5_000],\n",
    "    'tvec__stop_words': [None, 'english', stop_words],\n",
    "    'tvec__ngram_range': [(1,1), (1,2)]\n",
    "}"
   ]
  },
  {
   "cell_type": "code",
   "execution_count": 87,
   "id": "intermediate-discretion",
   "metadata": {
    "ExecuteTime": {
     "end_time": "2021-01-27T01:18:05.669926Z",
     "start_time": "2021-01-27T01:18:05.667455Z"
    }
   },
   "outputs": [],
   "source": [
    "# Instantiate GridSearchCV.\n",
    "gs_pipe = GridSearchCV(pipe_tvec,\n",
    "                      pipe_tvec_params,\n",
    "                      cv=5)"
   ]
  },
  {
   "cell_type": "code",
   "execution_count": 88,
   "id": "parallel-bangladesh",
   "metadata": {
    "ExecuteTime": {
     "end_time": "2021-01-27T01:21:04.201413Z",
     "start_time": "2021-01-27T01:18:06.860529Z"
    }
   },
   "outputs": [
    {
     "data": {
      "text/plain": [
       "GridSearchCV(cv=5,\n",
       "             estimator=Pipeline(steps=[('tvec', TfidfVectorizer()),\n",
       "                                       ('nb', MultinomialNB())]),\n",
       "             param_grid={'tvec__max_features': [2000, 3000, 4000, 5000],\n",
       "                         'tvec__ngram_range': [(1, 1), (1, 2)],\n",
       "                         'tvec__stop_words': [None, 'english',\n",
       "                                              frozenset({'a', 'about', 'above',\n",
       "                                                         'across', 'after',\n",
       "                                                         'afterwards', 'again',\n",
       "                                                         'against', 'all',\n",
       "                                                         'almost', 'alone',\n",
       "                                                         'along', 'already',\n",
       "                                                         'also', 'although',\n",
       "                                                         'always', 'am',\n",
       "                                                         'among', 'amongst',\n",
       "                                                         'amoungst', 'amount',\n",
       "                                                         'an', 'and', 'another',\n",
       "                                                         'any', 'anyhow',\n",
       "                                                         'anyone', 'anything',\n",
       "                                                         'anyway', 'anywhere', ...})]})"
      ]
     },
     "execution_count": 88,
     "metadata": {},
     "output_type": "execute_result"
    }
   ],
   "source": [
    "# Fit GridSearch to training data.\n",
    "gs_pipe.fit(X_train, y_train)"
   ]
  },
  {
   "cell_type": "code",
   "execution_count": 99,
   "id": "interim-tissue",
   "metadata": {
    "ExecuteTime": {
     "end_time": "2021-01-27T01:25:31.978159Z",
     "start_time": "2021-01-27T01:25:30.582689Z"
    }
   },
   "outputs": [
    {
     "data": {
      "text/plain": [
       "(0.8533492304357251, 0.8215214564369311)"
      ]
     },
     "execution_count": 99,
     "metadata": {},
     "output_type": "execute_result"
    }
   ],
   "source": [
    "# Score model on training and test set.\n",
    "gs_pipe.score(X_train, y_train), gs_pipe.score(X_test, y_test)"
   ]
  },
  {
   "cell_type": "code",
   "execution_count": 91,
   "id": "subjective-cooling",
   "metadata": {
    "ExecuteTime": {
     "end_time": "2021-01-27T01:21:21.770781Z",
     "start_time": "2021-01-27T01:21:21.401640Z"
    }
   },
   "outputs": [
    {
     "name": "stdout",
     "output_type": "stream",
     "text": [
      "Specificity: 0.8990066225165563\n"
     ]
    }
   ],
   "source": [
    "# # Get predictions\n",
    "preds_tvec = gs_pipe.predict(X_test)\n",
    "\n",
    "# # Save confusion matrix values\n",
    "tn, fp, fn, tp = confusion_matrix(y_test, preds_tvec).ravel()\n",
    "\n",
    "# # Calculate the specificity\n",
    "\n",
    "spec = tn / (tn + fp)\n",
    "\n",
    "print('Specificity:', spec)"
   ]
  },
  {
   "cell_type": "code",
   "execution_count": 92,
   "id": "atomic-tanzania",
   "metadata": {
    "ExecuteTime": {
     "end_time": "2021-01-27T01:21:23.057147Z",
     "start_time": "2021-01-27T01:21:22.571301Z"
    }
   },
   "outputs": [
    {
     "data": {
      "image/png": "[encoded data removed]",
      "text/plain": [
       "<Figure size 432x288 with 2 Axes>"
      ]
     },
     "metadata": {
      "needs_background": "light"
     },
     "output_type": "display_data"
    }
   ],
   "source": [
    "plot_confusion_matrix(gs_pipe, X_test, y_test, cmap='Blues', values_format='d');"
   ]
  },
  {
   "cell_type": "code",
   "execution_count": null,
   "id": "derived-explorer",
   "metadata": {},
   "outputs": [],
   "source": []
  }
 ],
 "metadata": {
  "kernelspec": {
   "display_name": "Python 3",
   "language": "python",
   "name": "python3"
  },
  "language_info": {
   "codemirror_mode": {
    "name": "ipython",
    "version": 3
   },
   "file_extension": ".py",
   "mimetype": "text/x-python",
   "name": "python",
   "nbconvert_exporter": "python",
   "pygments_lexer": "ipython3",
   "version": "3.8.5"
  }
 },
 "nbformat": 4,
 "nbformat_minor": 5
}
